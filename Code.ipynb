{
  "nbformat": 4,
  "nbformat_minor": 0,
  "metadata": {
    "colab": {
      "provenance": [],
      "authorship_tag": "ABX9TyMOS8fqWJTdMXB/wenQ42II",
      "include_colab_link": true
    },
    "kernelspec": {
      "name": "python3",
      "display_name": "Python 3"
    },
    "language_info": {
      "name": "python"
    }
  },
  "cells": [
    {
      "cell_type": "markdown",
      "metadata": {
        "id": "view-in-github",
        "colab_type": "text"
      },
      "source": [
        "<a href=\"https://colab.research.google.com/github/rujuldwivedi/Internship/blob/main/Code.ipynb\" target=\"_parent\"><img src=\"https://colab.research.google.com/assets/colab-badge.svg\" alt=\"Open In Colab\"/></a>"
      ]
    },
    {
      "cell_type": "code",
      "source": [
        "from google.colab import drive\n",
        "drive.mount('/content/drive')"
      ],
      "metadata": {
        "colab": {
          "base_uri": "https://localhost:8080/"
        },
        "id": "VD08kZFKj_3z",
        "outputId": "0466c386-a7e8-43ef-9cd0-7583703bf02d"
      },
      "execution_count": 1,
      "outputs": [
        {
          "output_type": "stream",
          "name": "stdout",
          "text": [
            "Mounted at /content/drive\n"
          ]
        }
      ]
    },
    {
      "cell_type": "code",
      "source": [
        "import pandas as pd\n",
        "import numpy as np\n",
        "import re\n",
        "import matplotlib.pyplot as plt\n",
        "import seaborn as sns\n",
        "import nltk\n",
        "from nltk.corpus import stopwords\n",
        "from nltk.tokenize import word_tokenize\n",
        "from nltk.stem import WordNetLemmatizer\n",
        "from sklearn.model_selection import train_test_split\n",
        "from sklearn.feature_extraction.text import TfidfVectorizer\n",
        "from tensorflow.keras.models import Sequential\n",
        "from tensorflow.keras.layers import LSTM, Dense, Embedding, SpatialDropout1D\n",
        "from tensorflow.keras.preprocessing.sequence import pad_sequences\n",
        "from tensorflow.keras.preprocessing.text import Tokenizer\n",
        "from tensorflow.keras.utils import to_categorical"
      ],
      "metadata": {
        "id": "VBNPv4AZ_LaE"
      },
      "execution_count": 2,
      "outputs": []
    },
    {
      "cell_type": "code",
      "source": [
        "# Declare the file path\n",
        "file_path = '/content/drive/My Drive/Internship/sampled_dataset.csv'"
      ],
      "metadata": {
        "id": "OplfQ_DAkiLu"
      },
      "execution_count": 3,
      "outputs": []
    },
    {
      "cell_type": "code",
      "source": [
        "# Load dataset\n",
        "data = pd.read_csv(file_path)\n",
        "\n",
        "# Sample the data\n",
        "data = data.sample(frac=0.1, random_state=10)"
      ],
      "metadata": {
        "id": "g7qHQ23EkkVD"
      },
      "execution_count": 4,
      "outputs": []
    },
    {
      "cell_type": "code",
      "source": [
        "# Display basic information\n",
        "data.info()\n",
        "print(data.head())"
      ],
      "metadata": {
        "colab": {
          "base_uri": "https://localhost:8080/"
        },
        "id": "iMg8thK0lJ-Z",
        "outputId": "5a3aff0b-2e50-43bd-ce34-7dfe7d258e48"
      },
      "execution_count": 5,
      "outputs": [
        {
          "output_type": "stream",
          "name": "stdout",
          "text": [
            "<class 'pandas.core.frame.DataFrame'>\n",
            "Index: 32480 entries, 37538 to 160665\n",
            "Data columns (total 5 columns):\n",
            " #   Column         Non-Null Count  Dtype \n",
            "---  ------         --------------  ----- \n",
            " 0   main_category  32480 non-null  object\n",
            " 1   title          32480 non-null  object\n",
            " 2   description    32480 non-null  object\n",
            " 3   images         32480 non-null  object\n",
            " 4   details        32480 non-null  object\n",
            "dtypes: object(5)\n",
            "memory usage: 1.5+ MB\n",
            "                    main_category  \\\n",
            "37538   Cell Phones & Accessories   \n",
            "124693               Toys & Games   \n",
            "249067                Amazon Home   \n",
            "103904   Tools & Home Improvement   \n",
            "126448  Cell Phones & Accessories   \n",
            "\n",
            "                                                    title  \\\n",
            "37538   Galaxy S8 Active Case - R2D2 Droid Robot Patte...   \n",
            "124693  Magic: the Gathering - Arcbound Lancer - Darks...   \n",
            "249067  Fall Harvest Sitting Scarecrow with Dangling L...   \n",
            "103904  Leviton 80530-BLK EB WP 2G POWER OUTLET 2,465 ...   \n",
            "126448  Alcatel Idol 4s Screen Protector [6-Pack], Kle...   \n",
            "\n",
            "                                              description  \\\n",
            "37538   ['Protection:', 'This Dual Layer protector hyb...   \n",
            "124693  ['Magic: the Gathering is a collectible card g...   \n",
            "249067  ['27\" Fall Harvest Scarecrow with Poseable Arm...   \n",
            "103904  ['Product Description', 'THERMOSET/PLASTIC MAT...   \n",
            "126448  ['Specially designed to significantly reduce g...   \n",
            "\n",
            "                                                   images  \\\n",
            "37538   [{'thumb': 'https://m.media-amazon.com/images/...   \n",
            "124693  [{'thumb': 'https://m.media-amazon.com/images/...   \n",
            "249067  [{'thumb': 'https://m.media-amazon.com/images/...   \n",
            "103904  [{'thumb': 'https://m.media-amazon.com/images/...   \n",
            "126448  [{'thumb': 'https://m.media-amazon.com/images/...   \n",
            "\n",
            "                                                  details  \n",
            "37538   {'Package Dimensions': '6.5 x 4 x 0.5 inches',...  \n",
            "124693  {'Package Dimensions': '3.46 x 2.48 x 0.01 inc...  \n",
            "249067  {'Package Dimensions': '13.5 x 7 x 4.8 inches'...  \n",
            "103904  {'Switch Type': 'Decorator', 'Material': 'Ther...  \n",
            "126448  {'Item Weight': '2 ounces', 'Other display fea...  \n"
          ]
        }
      ]
    },
    {
      "cell_type": "code",
      "source": [
        "# EDA: Category distribution\n",
        "plt.figure(figsize=(10, 5))\n",
        "sns.countplot(y=data['main_category'], order=data['main_category'].value_counts().index)\n",
        "plt.title('Category Distribution')\n",
        "plt.show()"
      ],
      "metadata": {
        "id": "L8i-zk8r_Pia",
        "colab": {
          "base_uri": "https://localhost:8080/",
          "height": 452
        },
        "outputId": "dedf227b-2633-43ce-ca08-653c320897fc"
      },
      "execution_count": 6,
      "outputs": [
        {
          "output_type": "display_data",
          "data": {
            "text/plain": [
              "<Figure size 1000x500 with 1 Axes>"
            ],
            "image/png": "[encoded data removed]"
          },
          "metadata": {}
        }
      ]
    },
    {
      "cell_type": "code",
      "source": [
        "nltk.download('stopwords')\n",
        "nltk.download('wordnet')\n",
        "nltk.download('punkt')\n",
        "nltk.download('punkt_tab')"
      ],
      "metadata": {
        "colab": {
          "base_uri": "https://localhost:8080/"
        },
        "id": "fBJXJiwn_rec",
        "outputId": "62fc2d6a-8f5e-4a26-eff5-7323009bcecd"
      },
      "execution_count": 7,
      "outputs": [
        {
          "output_type": "stream",
          "name": "stderr",
          "text": [
            "[nltk_data] Downloading package stopwords to /root/nltk_data...\n",
            "[nltk_data]   Unzipping corpora/stopwords.zip.\n",
            "[nltk_data] Downloading package wordnet to /root/nltk_data...\n",
            "[nltk_data] Downloading package punkt to /root/nltk_data...\n",
            "[nltk_data]   Unzipping tokenizers/punkt.zip.\n",
            "[nltk_data] Downloading package punkt_tab to /root/nltk_data...\n",
            "[nltk_data]   Unzipping tokenizers/punkt_tab.zip.\n"
          ]
        },
        {
          "output_type": "execute_result",
          "data": {
            "text/plain": [
              "True"
            ]
          },
          "metadata": {},
          "execution_count": 7
        }
      ]
    },
    {
      "cell_type": "code",
      "source": [
        "# Text Preprocessing\n",
        "def clean_text(text):\n",
        "    text = text.lower()\n",
        "    text = re.sub(r'[^a-zA-Z0-9]', ' ', text)\n",
        "    tokens = word_tokenize(text)\n",
        "    tokens = [word for word in tokens if word not in stopwords.words('english')]\n",
        "    lemmatizer = WordNetLemmatizer()\n",
        "    tokens = [lemmatizer.lemmatize(word) for word in tokens]\n",
        "    return ' '.join(tokens)\n",
        "\n",
        "data['processed_text'] = data['title'] + ' ' + data['description']\n",
        "data['processed_text'] = data['processed_text'].apply(clean_text)"
      ],
      "metadata": {
        "id": "ChSJ6dP1lQiz"
      },
      "execution_count": 8,
      "outputs": []
    },
    {
      "cell_type": "code",
      "source": [
        "# Tokenization & Vectorization\n",
        "tokenizer = Tokenizer(num_words=5000)\n",
        "tokenizer.fit_on_texts(data['processed_text'])\n",
        "sequences = tokenizer.texts_to_sequences(data['processed_text'])\n",
        "padded_sequences = pad_sequences(sequences, maxlen=100)"
      ],
      "metadata": {
        "id": "MItCL3CPlYvA"
      },
      "execution_count": 9,
      "outputs": []
    },
    {
      "cell_type": "code",
      "source": [
        "# Label Encoding\n",
        "category_mapping = {category: idx for idx, category in enumerate(data['main_category'].unique())}\n",
        "data['category_encoded'] = data['main_category'].map(category_mapping)\n",
        "y = to_categorical(data['category_encoded'])"
      ],
      "metadata": {
        "id": "CLTTYkL_laUK"
      },
      "execution_count": 10,
      "outputs": []
    },
    {
      "cell_type": "code",
      "source": [
        "# Train-Test Split\n",
        "X_train, X_test, y_train, y_test = train_test_split(padded_sequences, y, test_size=0.2, random_state=42)"
      ],
      "metadata": {
        "id": "2pJ3pdHllcIK"
      },
      "execution_count": 11,
      "outputs": []
    },
    {
      "cell_type": "code",
      "execution_count": 12,
      "metadata": {
        "id": "TtSDHkpd9gj0",
        "colab": {
          "base_uri": "https://localhost:8080/"
        },
        "outputId": "0562229e-d00d-4454-b1e1-f4629cff42cb"
      },
      "outputs": [
        {
          "output_type": "stream",
          "name": "stderr",
          "text": [
            "/usr/local/lib/python3.11/dist-packages/keras/src/layers/core/embedding.py:90: UserWarning: Argument `input_length` is deprecated. Just remove it.\n",
            "  warnings.warn(\n"
          ]
        },
        {
          "output_type": "stream",
          "name": "stdout",
          "text": [
            "Epoch 1/5\n",
            "\u001b[1m406/406\u001b[0m \u001b[32m━━━━━━━━━━━━━━━━━━━━\u001b[0m\u001b[37m\u001b[0m \u001b[1m150s\u001b[0m 358ms/step - accuracy: 0.4569 - loss: 1.5368 - val_accuracy: 0.8157 - val_loss: 0.6112\n",
            "Epoch 2/5\n",
            "\u001b[1m406/406\u001b[0m \u001b[32m━━━━━━━━━━━━━━━━━━━━\u001b[0m\u001b[37m\u001b[0m \u001b[1m198s\u001b[0m 349ms/step - accuracy: 0.8383 - loss: 0.5477 - val_accuracy: 0.8724 - val_loss: 0.4520\n",
            "Epoch 3/5\n",
            "\u001b[1m406/406\u001b[0m \u001b[32m━━━━━━━━━━━━━━━━━━━━\u001b[0m\u001b[37m\u001b[0m \u001b[1m146s\u001b[0m 360ms/step - accuracy: 0.8928 - loss: 0.3717 - val_accuracy: 0.8867 - val_loss: 0.4049\n",
            "Epoch 4/5\n",
            "\u001b[1m406/406\u001b[0m \u001b[32m━━━━━━━━━━━━━━━━━━━━\u001b[0m\u001b[37m\u001b[0m \u001b[1m203s\u001b[0m 362ms/step - accuracy: 0.9202 - loss: 0.2932 - val_accuracy: 0.8802 - val_loss: 0.4280\n",
            "Epoch 5/5\n",
            "\u001b[1m406/406\u001b[0m \u001b[32m━━━━━━━━━━━━━━━━━━━━\u001b[0m\u001b[37m\u001b[0m \u001b[1m202s\u001b[0m 364ms/step - accuracy: 0.9289 - loss: 0.2517 - val_accuracy: 0.8919 - val_loss: 0.4105\n"
          ]
        },
        {
          "output_type": "execute_result",
          "data": {
            "text/plain": [
              "<keras.src.callbacks.history.History at 0x7b45646c47d0>"
            ]
          },
          "metadata": {},
          "execution_count": 12
        }
      ],
      "source": [
        "# LSTM Model\n",
        "model = Sequential([\n",
        "    Embedding(input_dim=5000, output_dim=128, input_length=100),\n",
        "    SpatialDropout1D(0.2),\n",
        "    LSTM(100, dropout=0.2, recurrent_dropout=0.2),\n",
        "    Dense(len(category_mapping), activation='softmax')\n",
        "])\n",
        "\n",
        "model.compile(loss='categorical_crossentropy', optimizer='adam', metrics=['accuracy'])\n",
        "model.fit(X_train, y_train, epochs=5, batch_size=64, validation_data=(X_test, y_test))\n"
      ]
    },
    {
      "cell_type": "code",
      "source": [
        "# Evaluate model\n",
        "loss, accuracy = model.evaluate(X_test, y_test)\n",
        "print(f'Test Accuracy: {accuracy * 100:.2f}%')"
      ],
      "metadata": {
        "id": "VffNWNhmldmo",
        "colab": {
          "base_uri": "https://localhost:8080/"
        },
        "outputId": "276554a8-7580-4721-c479-b04f3caec4cd"
      },
      "execution_count": 13,
      "outputs": [
        {
          "output_type": "stream",
          "name": "stdout",
          "text": [
            "\u001b[1m203/203\u001b[0m \u001b[32m━━━━━━━━━━━━━━━━━━━━\u001b[0m\u001b[37m\u001b[0m \u001b[1m14s\u001b[0m 70ms/step - accuracy: 0.8925 - loss: 0.4215\n",
            "Test Accuracy: 89.19%\n"
          ]
        }
      ]
    },
    {
      "cell_type": "code",
      "source": [
        "# Test the model with a new description\n",
        "new_description = 'Unveil a radiant, youthful complexion with our luxurious Elixir of Youth serum, a potent blend of hyaluronic acid and vitamin C that deeply hydrates, visibly plumps fine lines, and brightens skin tone for a rejuvenated appearance. Experience the silky smooth texture that absorbs instantly, leaving your face feeling refreshed and glowing with a healthy radiance.'\n",
        "new_description = clean_text(new_description)\n",
        "new_sequence = tokenizer.texts_to_sequences([new_description])\n",
        "new_padded_sequence = pad_sequences(new_sequence, maxlen=100)\n",
        "prediction = model.predict(new_padded_sequence)\n",
        "predicted_category = data['main_category'].unique()[np.argmax(prediction)]\n",
        "print(f'Predicted Category: {predicted_category}')"
      ],
      "metadata": {
        "colab": {
          "base_uri": "https://localhost:8080/"
        },
        "id": "D_HX_LyeybmW",
        "outputId": "5e53e1ee-b78e-49c1-8fbf-da2133f2a30b"
      },
      "execution_count": 22,
      "outputs": [
        {
          "output_type": "stream",
          "name": "stdout",
          "text": [
            "\u001b[1m1/1\u001b[0m \u001b[32m━━━━━━━━━━━━━━━━━━━━\u001b[0m\u001b[37m\u001b[0m \u001b[1m0s\u001b[0m 57ms/step\n",
            "Predicted Category: All Beauty\n"
          ]
        }
      ]
    },
    {
      "cell_type": "code",
      "source": [
        "# Save the model\n",
        "model.save('product_category_model.keras')"
      ],
      "metadata": {
        "id": "u8-bpiEg0BXv"
      },
      "execution_count": 24,
      "outputs": []
    },
    {
      "cell_type": "code",
      "source": [
        "# Save the tokenizer\n",
        "import pickle\n",
        "with open('tokenizer.pickle', 'wb') as handle:\n",
        "    pickle.dump(tokenizer, handle, protocol=pickle.HIGHEST_PROTOCOL)"
      ],
      "metadata": {
        "id": "WV59MHvD0Q2X"
      },
      "execution_count": 25,
      "outputs": []
    },
    {
      "cell_type": "code",
      "source": [
        "# Save the category mapping\n",
        "with open('category_mapping.pickle', 'wb') as handle:\n",
        "    pickle.dump(category_mapping, handle, protocol=pickle.HIGHEST_PROTOCOL)"
      ],
      "metadata": {
        "id": "2r8-B2Uw0WDt"
      },
      "execution_count": 26,
      "outputs": []
    },
    {
      "cell_type": "code",
      "source": [
        "# Load the model\n",
        "from tensorflow.keras.models import load_model\n",
        "model = load_model('product_category_model.keras')"
      ],
      "metadata": {
        "colab": {
          "base_uri": "https://localhost:8080/"
        },
        "id": "uZeMJ0dh0bFy",
        "outputId": "fca9b419-6940-4a5a-d5de-16116e81274f"
      },
      "execution_count": 27,
      "outputs": [
        {
          "output_type": "stream",
          "name": "stderr",
          "text": [
            "/usr/local/lib/python3.11/dist-packages/keras/src/saving/saving_lib.py:757: UserWarning: Skipping variable loading for optimizer 'rmsprop', because it has 8 variables whereas the saved optimizer has 14 variables. \n",
            "  saveable.load_own_variables(weights_store.get(inner_path))\n"
          ]
        }
      ]
    },
    {
      "cell_type": "code",
      "source": [
        "# Load the tokenizer\n",
        "with open('tokenizer.pickle', 'rb') as handle:\n",
        "    tokenizer = pickle.load(handle)"
      ],
      "metadata": {
        "id": "kqwHIEo00hIX"
      },
      "execution_count": 28,
      "outputs": []
    },
    {
      "cell_type": "code",
      "source": [
        "# Load the category mapping\n",
        "with open('category_mapping.pickle', 'rb') as handle:\n",
        "    category_mapping = pickle.load(handle)"
      ],
      "metadata": {
        "id": "5G72xucL0jkd"
      },
      "execution_count": 29,
      "outputs": []
    },
    {
      "cell_type": "code",
      "source": [
        "# Test the loaded model with a new description\n",
        "new_description = \"The action-packed 'Mission Impossible - Dead Reckoning' features Tom Cruise performing death-defying stunts while prominently driving a sleek new BMW motorcycle, showcasing the brand's high-performance capabilities.\"\n",
        "new_description = clean_text(new_description)\n",
        "new_sequence = tokenizer.texts_to_sequences([new_description])\n",
        "new_padded_sequence = pad_sequences(new_sequence, maxlen=100)\n",
        "prediction = model.predict(new_padded_sequence)\n",
        "predicted_category = list(category_mapping.keys())[np.argmax(prediction)]\n",
        "print(f'Predicted Category: {predicted_category}')"
      ],
      "metadata": {
        "colab": {
          "base_uri": "https://localhost:8080/"
        },
        "id": "sQE9O5EnuXH1",
        "outputId": "f17dd316-d1ea-4595-dbf8-04290208f22a"
      },
      "execution_count": 32,
      "outputs": [
        {
          "output_type": "stream",
          "name": "stdout",
          "text": [
            "\u001b[1m1/1\u001b[0m \u001b[32m━━━━━━━━━━━━━━━━━━━━\u001b[0m\u001b[37m\u001b[0m \u001b[1m0s\u001b[0m 59ms/step\n",
            "Predicted Category: Movies & TV\n"
          ]
        }
      ]
    }
  ]
}