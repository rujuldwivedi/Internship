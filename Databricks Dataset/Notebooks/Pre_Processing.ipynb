{
  "nbformat": 4,
  "nbformat_minor": 0,
  "metadata": {
    "colab": {
      "provenance": []
    },
    "kernelspec": {
      "name": "python3",
      "display_name": "Python 3"
    },
    "language_info": {
      "name": "python"
    }
  },
  "cells": [
    {
      "cell_type": "markdown",
      "source": [
        "## Setup and Data Loading\n",
        "\n",
        "First, let's install the necessary libraries."
      ],
      "metadata": {
        "id": "1dJ1g5THvhL7"
      }
    },
    {
      "cell_type": "code",
      "source": [
        "!pip install langdetect\n",
        "!pip install deep_translator\n",
        "!pip install nltk\n",
        "!pip install tensorflow"
      ],
      "metadata": {
        "colab": {
          "base_uri": "https://localhost:8080/"
        },
        "id": "DfkHYa3Avlyk",
        "outputId": "6827ad4f-3b19-4a8c-d9c1-f1cc7bea9652"
      },
      "execution_count": null,
      "outputs": [
        {
          "output_type": "stream",
          "name": "stdout",
          "text": [
            "Collecting langdetect\n",
            "  Downloading langdetect-1.0.9.tar.gz (981 kB)\n",
            "\u001b[?25l     \u001b[90m━━━━━━━━━━━━━━━━━━━━━━━━━━━━━━━━━━━━━━━━\u001b[0m \u001b[32m0.0/981.5 kB\u001b[0m \u001b[31m?\u001b[0m eta \u001b[36m-:--:--\u001b[0m\r\u001b[2K     \u001b[91m━━━━━━━\u001b[0m\u001b[91m╸\u001b[0m\u001b[90m━━━━━━━━━━━━━━━━━━━━━━━━━━━━━━━━\u001b[0m \u001b[32m194.6/981.5 kB\u001b[0m \u001b[31m5.6 MB/s\u001b[0m eta \u001b[36m0:00:01\u001b[0m\r\u001b[2K     \u001b[91m━━━━━━━━━━━━━━━━━━━━━━━━━━━━━━━━━━━━━━━\u001b[0m\u001b[91m╸\u001b[0m \u001b[32m972.8/981.5 kB\u001b[0m \u001b[31m14.2 MB/s\u001b[0m eta \u001b[36m0:00:01\u001b[0m\r\u001b[2K     \u001b[90m━━━━━━━━━━━━━━━━━━━━━━━━━━━━━━━━━━━━━━━━\u001b[0m \u001b[32m981.5/981.5 kB\u001b[0m \u001b[31m9.8 MB/s\u001b[0m eta \u001b[36m0:00:00\u001b[0m\n",
            "\u001b[?25h  Preparing metadata (setup.py) ... \u001b[?25l\u001b[?25hdone\n",
            "Requirement already satisfied: six in /usr/local/lib/python3.11/dist-packages (from langdetect) (1.17.0)\n",
            "Building wheels for collected packages: langdetect\n",
            "  Building wheel for langdetect (setup.py) ... \u001b[?25l\u001b[?25hdone\n",
            "  Created wheel for langdetect: filename=langdetect-1.0.9-py3-none-any.whl size=993222 sha256=0012ecc760abbace1274209a4de5884b91796e71610caf68def6cb316a0b662d\n",
            "  Stored in directory: /root/.cache/pip/wheels/0a/f2/b2/e5ca405801e05eb7c8ed5b3b4bcf1fcabcd6272c167640072e\n",
            "Successfully built langdetect\n",
            "Installing collected packages: langdetect\n",
            "Successfully installed langdetect-1.0.9\n",
            "Collecting deep_translator\n",
            "  Downloading deep_translator-1.11.4-py3-none-any.whl.metadata (30 kB)\n",
            "Requirement already satisfied: beautifulsoup4<5.0.0,>=4.9.1 in /usr/local/lib/python3.11/dist-packages (from deep_translator) (4.13.3)\n",
            "Requirement already satisfied: requests<3.0.0,>=2.23.0 in /usr/local/lib/python3.11/dist-packages (from deep_translator) (2.32.3)\n",
            "Requirement already satisfied: soupsieve>1.2 in /usr/local/lib/python3.11/dist-packages (from beautifulsoup4<5.0.0,>=4.9.1->deep_translator) (2.6)\n",
            "Requirement already satisfied: typing-extensions>=4.0.0 in /usr/local/lib/python3.11/dist-packages (from beautifulsoup4<5.0.0,>=4.9.1->deep_translator) (4.12.2)\n",
            "Requirement already satisfied: charset-normalizer<4,>=2 in /usr/local/lib/python3.11/dist-packages (from requests<3.0.0,>=2.23.0->deep_translator) (3.4.1)\n",
            "Requirement already satisfied: idna<4,>=2.5 in /usr/local/lib/python3.11/dist-packages (from requests<3.0.0,>=2.23.0->deep_translator) (3.10)\n",
            "Requirement already satisfied: urllib3<3,>=1.21.1 in /usr/local/lib/python3.11/dist-packages (from requests<3.0.0,>=2.23.0->deep_translator) (2.3.0)\n",
            "Requirement already satisfied: certifi>=2017.4.17 in /usr/local/lib/python3.11/dist-packages (from requests<3.0.0,>=2.23.0->deep_translator) (2025.1.31)\n",
            "Downloading deep_translator-1.11.4-py3-none-any.whl (42 kB)\n",
            "\u001b[2K   \u001b[90m━━━━━━━━━━━━━━━━━━━━━━━━━━━━━━━━━━━━━━━━\u001b[0m \u001b[32m42.3/42.3 kB\u001b[0m \u001b[31m1.7 MB/s\u001b[0m eta \u001b[36m0:00:00\u001b[0m\n",
            "\u001b[?25hInstalling collected packages: deep_translator\n",
            "Successfully installed deep_translator-1.11.4\n",
            "Requirement already satisfied: nltk in /usr/local/lib/python3.11/dist-packages (3.9.1)\n",
            "Requirement already satisfied: click in /usr/local/lib/python3.11/dist-packages (from nltk) (8.1.8)\n",
            "Requirement already satisfied: joblib in /usr/local/lib/python3.11/dist-packages (from nltk) (1.4.2)\n",
            "Requirement already satisfied: regex>=2021.8.3 in /usr/local/lib/python3.11/dist-packages (from nltk) (2024.11.6)\n",
            "Requirement already satisfied: tqdm in /usr/local/lib/python3.11/dist-packages (from nltk) (4.67.1)\n",
            "Requirement already satisfied: tensorflow in /usr/local/lib/python3.11/dist-packages (2.18.0)\n",
            "Requirement already satisfied: absl-py>=1.0.0 in /usr/local/lib/python3.11/dist-packages (from tensorflow) (1.4.0)\n",
            "Requirement already satisfied: astunparse>=1.6.0 in /usr/local/lib/python3.11/dist-packages (from tensorflow) (1.6.3)\n",
            "Requirement already satisfied: flatbuffers>=24.3.25 in /usr/local/lib/python3.11/dist-packages (from tensorflow) (25.2.10)\n",
            "Requirement already satisfied: gast!=0.5.0,!=0.5.1,!=0.5.2,>=0.2.1 in /usr/local/lib/python3.11/dist-packages (from tensorflow) (0.6.0)\n",
            "Requirement already satisfied: google-pasta>=0.1.1 in /usr/local/lib/python3.11/dist-packages (from tensorflow) (0.2.0)\n",
            "Requirement already satisfied: libclang>=13.0.0 in /usr/local/lib/python3.11/dist-packages (from tensorflow) (18.1.1)\n",
            "Requirement already satisfied: opt-einsum>=2.3.2 in /usr/local/lib/python3.11/dist-packages (from tensorflow) (3.4.0)\n",
            "Requirement already satisfied: packaging in /usr/local/lib/python3.11/dist-packages (from tensorflow) (24.2)\n",
            "Requirement already satisfied: protobuf!=4.21.0,!=4.21.1,!=4.21.2,!=4.21.3,!=4.21.4,!=4.21.5,<6.0.0dev,>=3.20.3 in /usr/local/lib/python3.11/dist-packages (from tensorflow) (4.25.6)\n",
            "Requirement already satisfied: requests<3,>=2.21.0 in /usr/local/lib/python3.11/dist-packages (from tensorflow) (2.32.3)\n",
            "Requirement already satisfied: setuptools in /usr/local/lib/python3.11/dist-packages (from tensorflow) (75.1.0)\n",
            "Requirement already satisfied: six>=1.12.0 in /usr/local/lib/python3.11/dist-packages (from tensorflow) (1.17.0)\n",
            "Requirement already satisfied: termcolor>=1.1.0 in /usr/local/lib/python3.11/dist-packages (from tensorflow) (2.5.0)\n",
            "Requirement already satisfied: typing-extensions>=3.6.6 in /usr/local/lib/python3.11/dist-packages (from tensorflow) (4.12.2)\n",
            "Requirement already satisfied: wrapt>=1.11.0 in /usr/local/lib/python3.11/dist-packages (from tensorflow) (1.17.2)\n",
            "Requirement already satisfied: grpcio<2.0,>=1.24.3 in /usr/local/lib/python3.11/dist-packages (from tensorflow) (1.70.0)\n",
            "Requirement already satisfied: tensorboard<2.19,>=2.18 in /usr/local/lib/python3.11/dist-packages (from tensorflow) (2.18.0)\n",
            "Requirement already satisfied: keras>=3.5.0 in /usr/local/lib/python3.11/dist-packages (from tensorflow) (3.8.0)\n",
            "Requirement already satisfied: numpy<2.1.0,>=1.26.0 in /usr/local/lib/python3.11/dist-packages (from tensorflow) (1.26.4)\n",
            "Requirement already satisfied: h5py>=3.11.0 in /usr/local/lib/python3.11/dist-packages (from tensorflow) (3.12.1)\n",
            "Requirement already satisfied: ml-dtypes<0.5.0,>=0.4.0 in /usr/local/lib/python3.11/dist-packages (from tensorflow) (0.4.1)\n",
            "Requirement already satisfied: tensorflow-io-gcs-filesystem>=0.23.1 in /usr/local/lib/python3.11/dist-packages (from tensorflow) (0.37.1)\n",
            "Requirement already satisfied: wheel<1.0,>=0.23.0 in /usr/local/lib/python3.11/dist-packages (from astunparse>=1.6.0->tensorflow) (0.45.1)\n",
            "Requirement already satisfied: rich in /usr/local/lib/python3.11/dist-packages (from keras>=3.5.0->tensorflow) (13.9.4)\n",
            "Requirement already satisfied: namex in /usr/local/lib/python3.11/dist-packages (from keras>=3.5.0->tensorflow) (0.0.8)\n",
            "Requirement already satisfied: optree in /usr/local/lib/python3.11/dist-packages (from keras>=3.5.0->tensorflow) (0.14.1)\n",
            "Requirement already satisfied: charset-normalizer<4,>=2 in /usr/local/lib/python3.11/dist-packages (from requests<3,>=2.21.0->tensorflow) (3.4.1)\n",
            "Requirement already satisfied: idna<4,>=2.5 in /usr/local/lib/python3.11/dist-packages (from requests<3,>=2.21.0->tensorflow) (3.10)\n",
            "Requirement already satisfied: urllib3<3,>=1.21.1 in /usr/local/lib/python3.11/dist-packages (from requests<3,>=2.21.0->tensorflow) (2.3.0)\n",
            "Requirement already satisfied: certifi>=2017.4.17 in /usr/local/lib/python3.11/dist-packages (from requests<3,>=2.21.0->tensorflow) (2025.1.31)\n",
            "Requirement already satisfied: markdown>=2.6.8 in /usr/local/lib/python3.11/dist-packages (from tensorboard<2.19,>=2.18->tensorflow) (3.7)\n",
            "Requirement already satisfied: tensorboard-data-server<0.8.0,>=0.7.0 in /usr/local/lib/python3.11/dist-packages (from tensorboard<2.19,>=2.18->tensorflow) (0.7.2)\n",
            "Requirement already satisfied: werkzeug>=1.0.1 in /usr/local/lib/python3.11/dist-packages (from tensorboard<2.19,>=2.18->tensorflow) (3.1.3)\n",
            "Requirement already satisfied: MarkupSafe>=2.1.1 in /usr/local/lib/python3.11/dist-packages (from werkzeug>=1.0.1->tensorboard<2.19,>=2.18->tensorflow) (3.0.2)\n",
            "Requirement already satisfied: markdown-it-py>=2.2.0 in /usr/local/lib/python3.11/dist-packages (from rich->keras>=3.5.0->tensorflow) (3.0.0)\n",
            "Requirement already satisfied: pygments<3.0.0,>=2.13.0 in /usr/local/lib/python3.11/dist-packages (from rich->keras>=3.5.0->tensorflow) (2.18.0)\n",
            "Requirement already satisfied: mdurl~=0.1 in /usr/local/lib/python3.11/dist-packages (from markdown-it-py>=2.2.0->rich->keras>=3.5.0->tensorflow) (0.1.2)\n"
          ]
        }
      ]
    },
    {
      "cell_type": "markdown",
      "source": [
        "Importing required libraries"
      ],
      "metadata": {
        "id": "WrJ5jLkevtcU"
      }
    },
    {
      "cell_type": "code",
      "source": [
        "import pandas as pd\n",
        "import numpy as np\n",
        "import matplotlib.pyplot as plt\n",
        "import seaborn as sns\n",
        "from sklearn.model_selection import train_test_split\n",
        "from sklearn.preprocessing import LabelEncoder\n",
        "from tensorflow.keras.preprocessing.text import Tokenizer\n",
        "from tensorflow.keras.preprocessing.sequence import pad_sequences\n",
        "import tensorflow as tf\n",
        "import nltk\n",
        "import re\n",
        "from nltk.corpus import stopwords\n",
        "from nltk.stem import WordNetLemmatizer\n",
        "import torch\n",
        "import torch.nn as nn\n",
        "import torch.optim as optim\n",
        "from torch.utils.data import DataLoader, TensorDataset"
      ],
      "metadata": {
        "id": "HYEnnwtIvx7y"
      },
      "execution_count": null,
      "outputs": []
    },
    {
      "cell_type": "markdown",
      "source": [
        "Downloading 'nltk' libraries"
      ],
      "metadata": {
        "id": "JA9Uh7OMvyqB"
      }
    },
    {
      "cell_type": "code",
      "source": [
        "nltk.download('punkt')\n",
        "nltk.download('punkt_tab')\n",
        "nltk.download('stopwords')\n",
        "nltk.download('wordnet')\n",
        "nltk.download('omw-1.4')"
      ],
      "metadata": {
        "colab": {
          "base_uri": "https://localhost:8080/"
        },
        "id": "pp6eS7BDv5hg",
        "outputId": "3aa6634d-12eb-4afd-a961-6034b376a8f4"
      },
      "execution_count": null,
      "outputs": [
        {
          "output_type": "stream",
          "name": "stderr",
          "text": [
            "[nltk_data] Downloading package punkt to /root/nltk_data...\n",
            "[nltk_data]   Unzipping tokenizers/punkt.zip.\n",
            "[nltk_data] Downloading package punkt_tab to /root/nltk_data...\n",
            "[nltk_data]   Unzipping tokenizers/punkt_tab.zip.\n",
            "[nltk_data] Downloading package stopwords to /root/nltk_data...\n",
            "[nltk_data]   Unzipping corpora/stopwords.zip.\n",
            "[nltk_data] Downloading package wordnet to /root/nltk_data...\n",
            "[nltk_data] Downloading package omw-1.4 to /root/nltk_data...\n"
          ]
        },
        {
          "output_type": "execute_result",
          "data": {
            "text/plain": [
              "True"
            ]
          },
          "metadata": {},
          "execution_count": 3
        }
      ]
    },
    {
      "cell_type": "markdown",
      "source": [
        "Mounting Google Drive"
      ],
      "metadata": {
        "id": "YkfIdn4Ev7LR"
      }
    },
    {
      "cell_type": "code",
      "source": [
        "from google.colab import drive\n",
        "drive.mount('/content/drive')"
      ],
      "metadata": {
        "colab": {
          "base_uri": "https://localhost:8080/"
        },
        "id": "pA9j8OvIv_sv",
        "outputId": "de8c0f44-d515-4b18-a064-2c2d03362fa9"
      },
      "execution_count": null,
      "outputs": [
        {
          "output_type": "stream",
          "name": "stdout",
          "text": [
            "Mounted at /content/drive\n"
          ]
        }
      ]
    },
    {
      "cell_type": "markdown",
      "source": [
        "Changing directory to My Drive/Internship"
      ],
      "metadata": {
        "id": "xZsgH_aKwB0n"
      }
    },
    {
      "cell_type": "code",
      "source": [
        "%cd /content/drive/My\\ Drive/Internship"
      ],
      "metadata": {
        "colab": {
          "base_uri": "https://localhost:8080/"
        },
        "id": "FfGp04yJwBvN",
        "outputId": "cd0fb393-4fe7-42fe-ff05-e68c1f8d4ba7"
      },
      "execution_count": null,
      "outputs": [
        {
          "output_type": "stream",
          "name": "stdout",
          "text": [
            "/content/drive/My Drive/Internship\n"
          ]
        }
      ]
    },
    {
      "cell_type": "markdown",
      "source": [
        "Loading the data"
      ],
      "metadata": {
        "id": "PHyO3wf0wFni"
      }
    },
    {
      "cell_type": "code",
      "source": [
        "df = pd.read_csv('full_data.csv')"
      ],
      "metadata": {
        "id": "yuaOhV0iwHre"
      },
      "execution_count": null,
      "outputs": []
    },
    {
      "cell_type": "markdown",
      "source": [
        "Displaying the first few rows and basic information about the dataset"
      ],
      "metadata": {
        "id": "8YQ7uJYLwWqG"
      }
    },
    {
      "cell_type": "code",
      "source": [
        "print(df.head())\n",
        "print(df.info())"
      ],
      "metadata": {
        "colab": {
          "base_uri": "https://localhost:8080/"
        },
        "id": "rjaDAJLCwXpH",
        "outputId": "a80e93dc-6a54-4c0b-d0f5-c4a971702c9e"
      },
      "execution_count": null,
      "outputs": [
        {
          "output_type": "stream",
          "name": "stdout",
          "text": [
            "                                               title custom_audience_persona  \\\n",
            "0                   VP Digital Transformation DevOps           Data Engineer   \n",
            "1                             Senior Patent Attorney           Unprioritized   \n",
            "2         Assistant Professor, School of Engineering           Data Engineer   \n",
            "3  Engineering Director, Software Products, Elect...           Data Engineer   \n",
            "4                 MS Data Science Graduating Student          Data Scientist   \n",
            "\n",
            "  custom_cdo_cio_cto  \n",
            "0                NaN  \n",
            "1                NaN  \n",
            "2                NaN  \n",
            "3                NaN  \n",
            "4                NaN  \n",
            "<class 'pandas.core.frame.DataFrame'>\n",
            "RangeIndex: 2034452 entries, 0 to 2034451\n",
            "Data columns (total 3 columns):\n",
            " #   Column                   Dtype \n",
            "---  ------                   ----- \n",
            " 0   title                    object\n",
            " 1   custom_audience_persona  object\n",
            " 2   custom_cdo_cio_cto       object\n",
            "dtypes: object(3)\n",
            "memory usage: 46.6+ MB\n",
            "None\n"
          ]
        }
      ]
    },
    {
      "cell_type": "markdown",
      "source": [
        "Checking the distribution of labeled vs unlabeled data"
      ],
      "metadata": {
        "id": "88ZBj1NWwaPM"
      }
    },
    {
      "cell_type": "code",
      "source": [
        "data1_count = df['custom_audience_persona'].notna().sum()\n",
        "data2_count = df['custom_cdo_cio_cto'].notna().sum()\n",
        "\n",
        "data1_countNA = df['custom_audience_persona'].isna().sum()\n",
        "data2_countNA = df['custom_cdo_cio_cto'].isna().sum()\n",
        "\n",
        "print(f\"Model 1 data: {data1_count}\")\n",
        "print(f\"Model 2 data: {data2_count}\")\n",
        "\n",
        "print(f\"Model 1 nulls: {data1_countNA}\")\n",
        "print(f\"Model 2 nulls: {data2_countNA}\")"
      ],
      "metadata": {
        "colab": {
          "base_uri": "https://localhost:8080/"
        },
        "id": "nOEw-qRVwcbP",
        "outputId": "ac8bcaf5-ab9a-4f8d-eda8-2f38b3b5b7cd"
      },
      "execution_count": null,
      "outputs": [
        {
          "output_type": "stream",
          "name": "stdout",
          "text": [
            "Model 1 data: 2034452\n",
            "Model 2 data: 4519\n",
            "Model 1 nulls: 0\n",
            "Model 2 nulls: 2029933\n"
          ]
        }
      ]
    },
    {
      "cell_type": "markdown",
      "source": [
        "Going with the null hypothesis that none of the unlabelled data contain chief level titles"
      ],
      "metadata": {
        "id": "ViwA_U_eeyZx"
      }
    },
    {
      "cell_type": "code",
      "source": [
        "# Filling NaN values in 'custom_cdo_cio_cto' with 'Others'\n",
        "df['custom_cdo_cio_cto'].fillna('Others', inplace=True)\n",
        "\n",
        "# Verifying the changes\n",
        "data1_count = df['custom_audience_persona'].notna().sum()\n",
        "data2_count = df['custom_cdo_cio_cto'].notna().sum()\n",
        "\n",
        "data1_countNA = df['custom_audience_persona'].isna().sum()\n",
        "data2_countNA = df['custom_cdo_cio_cto'].isna().sum()\n",
        "\n",
        "print(f\"Model 1 data: {data1_count}\")\n",
        "print(f\"Model 2 data: {data2_count}\")\n",
        "\n",
        "print(f\"Model 1 nulls: {data1_countNA}\")\n",
        "print(f\"Model 2 nulls: {data2_countNA}\")\n",
        "\n",
        "print(df['custom_cdo_cio_cto'].value_counts())\n",
        "print(df['custom_audience_persona'].value_counts())\n"
      ],
      "metadata": {
        "colab": {
          "base_uri": "https://localhost:8080/"
        },
        "id": "c9DHfFElegMb",
        "outputId": "1ec1a7b4-04d1-4c23-ce9a-f62df702b14e"
      },
      "execution_count": null,
      "outputs": [
        {
          "output_type": "stream",
          "name": "stderr",
          "text": [
            "<ipython-input-10-b7220da893cd>:2: FutureWarning: A value is trying to be set on a copy of a DataFrame or Series through chained assignment using an inplace method.\n",
            "The behavior will change in pandas 3.0. This inplace method will never work because the intermediate object on which we are setting values always behaves as a copy.\n",
            "\n",
            "For example, when doing 'df[col].method(value, inplace=True)', try using 'df.method({col: value}, inplace=True)' or df[col] = df[col].method(value) instead, to perform the operation inplace on the original object.\n",
            "\n",
            "\n",
            "  df['custom_cdo_cio_cto'].fillna('Others', inplace=True)\n"
          ]
        },
        {
          "output_type": "stream",
          "name": "stdout",
          "text": [
            "Model 1 data: 2034452\n",
            "Model 2 data: 2034452\n",
            "Model 1 nulls: 0\n",
            "Model 2 nulls: 0\n",
            "custom_cdo_cio_cto\n",
            "Others    2029933\n",
            "CTO          2018\n",
            "CIO          1749\n",
            "CDO           560\n",
            "CDAO          125\n",
            "CAO            67\n",
            "Name: count, dtype: int64\n",
            "custom_audience_persona\n",
            "Unprioritized     1012691\n",
            "Data Engineer      386301\n",
            "Data Analyst       258238\n",
            "Data Scientist     154241\n",
            "Business Execs      91879\n",
            "Data Architect      81340\n",
            "CIO                 40640\n",
            "CDO                  9122\n",
            "Name: count, dtype: int64\n"
          ]
        }
      ]
    },
    {
      "cell_type": "code",
      "source": [
        "print(df['custom_audience_persona'].value_counts(normalize=True) * 100)\n",
        "print(df['custom_cdo_cio_cto'].value_counts(normalize=True) * 100)\n"
      ],
      "metadata": {
        "colab": {
          "base_uri": "https://localhost:8080/"
        },
        "id": "N6XafbaBR8cn",
        "outputId": "84cb55f4-b5f9-4f3f-a668-9e525e8b87b5"
      },
      "execution_count": null,
      "outputs": [
        {
          "output_type": "stream",
          "name": "stdout",
          "text": [
            "custom_audience_persona\n",
            "Unprioritized     49.777090\n",
            "Data Engineer     18.987963\n",
            "Data Analyst      12.693246\n",
            "Data Scientist     7.581452\n",
            "Business Execs     4.516155\n",
            "Data Architect     3.998128\n",
            "CIO                1.997590\n",
            "CDO                0.448376\n",
            "Name: proportion, dtype: float64\n",
            "custom_cdo_cio_cto\n",
            "Others    99.777876\n",
            "CTO        0.099191\n",
            "CIO        0.085969\n",
            "CDO        0.027526\n",
            "CDAO       0.006144\n",
            "CAO        0.003293\n",
            "Name: proportion, dtype: float64\n"
          ]
        }
      ]
    },
    {
      "cell_type": "code",
      "source": [
        "print(df.head())\n",
        "print(df.info())"
      ],
      "metadata": {
        "colab": {
          "base_uri": "https://localhost:8080/"
        },
        "id": "wusjfR8DfFsZ",
        "outputId": "9db3e4d4-6cc7-4d8d-9108-e3851dc888d5"
      },
      "execution_count": null,
      "outputs": [
        {
          "output_type": "stream",
          "name": "stdout",
          "text": [
            "                                               title custom_audience_persona  \\\n",
            "0                   VP Digital Transformation DevOps           Data Engineer   \n",
            "1                             Senior Patent Attorney           Unprioritized   \n",
            "2         Assistant Professor, School of Engineering           Data Engineer   \n",
            "3  Engineering Director, Software Products, Elect...           Data Engineer   \n",
            "4                 MS Data Science Graduating Student          Data Scientist   \n",
            "\n",
            "  custom_cdo_cio_cto  \n",
            "0             Others  \n",
            "1             Others  \n",
            "2             Others  \n",
            "3             Others  \n",
            "4             Others  \n",
            "<class 'pandas.core.frame.DataFrame'>\n",
            "RangeIndex: 2034452 entries, 0 to 2034451\n",
            "Data columns (total 3 columns):\n",
            " #   Column                   Dtype \n",
            "---  ------                   ----- \n",
            " 0   title                    object\n",
            " 1   custom_audience_persona  object\n",
            " 2   custom_cdo_cio_cto       object\n",
            "dtypes: object(3)\n",
            "memory usage: 46.6+ MB\n",
            "None\n"
          ]
        }
      ]
    },
    {
      "cell_type": "markdown",
      "source": [
        "Visualizing the distribution"
      ],
      "metadata": {
        "id": "vBYERVylweRB"
      }
    },
    {
      "cell_type": "code",
      "source": [
        "plt.figure(figsize=(10, 6))\n",
        "sns.histplot(df['custom_audience_persona'], kde=False)\n",
        "plt.title('Distribution of Job Titles')\n",
        "plt.xlabel('Audience Persona')\n",
        "plt.ylabel('Count')\n",
        "plt.xticks(rotation=45, ha='right')\n",
        "plt.show()\n"
      ],
      "metadata": {
        "colab": {
          "base_uri": "https://localhost:8080/",
          "height": 634
        },
        "id": "cfBOWizNwf24",
        "outputId": "1561db5d-4b48-45ec-c51e-48450d2b73fc"
      },
      "execution_count": null,
      "outputs": [
        {
          "output_type": "display_data",
          "data": {
            "text/plain": [
              "<Figure size 1000x600 with 1 Axes>"
            ],
            "image/png": "[encoded data removed]"
          },
          "metadata": {}
        }
      ]
    },
    {
      "cell_type": "code",
      "source": [
        "plt.figure(figsize=(10, 6))\n",
        "sns.histplot(df['custom_cdo_cio_cto'], kde=False)\n",
        "plt.title('Distribution of Job Titles')\n",
        "plt.xlabel('Chief-level Roles')\n",
        "plt.ylabel('Count')\n",
        "plt.xticks(rotation=45, ha='right')\n",
        "plt.show()\n"
      ],
      "metadata": {
        "colab": {
          "base_uri": "https://localhost:8080/",
          "height": 593
        },
        "id": "vDQuZGpPSXIj",
        "outputId": "2bfca59f-a861-42ed-ef2a-8624836216c6"
      },
      "execution_count": null,
      "outputs": [
        {
          "output_type": "display_data",
          "data": {
            "text/plain": [
              "<Figure size 1000x600 with 1 Axes>"
            ],
            "image/png": "[encoded data removed]"
          },
          "metadata": {}
        }
      ]
    },
    {
      "cell_type": "markdown",
      "source": [
        "Initializing lemmatizer"
      ],
      "metadata": {
        "id": "-zsn55S7yF8C"
      }
    },
    {
      "cell_type": "code",
      "source": [
        "lemmatizer = WordNetLemmatizer()"
      ],
      "metadata": {
        "id": "MNsNgdYcyKsg"
      },
      "execution_count": null,
      "outputs": []
    },
    {
      "cell_type": "markdown",
      "source": [
        "Defining a function for text preprocessing"
      ],
      "metadata": {
        "id": "SS3DmE0ZyRjD"
      }
    },
    {
      "cell_type": "code",
      "source": [
        "def preprocess_text(text):\n",
        "    # Checking if text is a string, convert to string if not\n",
        "    if not isinstance(text, str):\n",
        "        text = str(text)\n",
        "    # Converting to lowercase\n",
        "    text = text.lower()\n",
        "\n",
        "    # Normalizing abbreviations (e.g., C.T.O. -> CTO)\n",
        "    text = re.sub(r'\\b(c\\.t\\.o|c t o)\\b', 'cto', text)\n",
        "    text = re.sub(r'\\b(c\\.i\\.s\\.o|c i s o)\\b', 'ciso', text)\n",
        "\n",
        "    # Removing special characters and punctuation\n",
        "    text = re.sub(r'[^a-zA-Z0-9\\s]', '', text)\n",
        "\n",
        "    # Tokenizing the text\n",
        "    tokens = text.split()\n",
        "\n",
        "    # Removing stop words\n",
        "    tokens = [word for word in tokens if word not in stopwords.words('english')]\n",
        "\n",
        "    # Lemmatizing the tokens\n",
        "    tokens = [lemmatizer.lemmatize(word) for word in tokens]\n",
        "\n",
        "    # Joining tokens back into a single string\n",
        "    text = ' '.join(tokens)\n",
        "\n",
        "    return text"
      ],
      "metadata": {
        "id": "sO73VjJGyP2t"
      },
      "execution_count": null,
      "outputs": []
    },
    {
      "cell_type": "markdown",
      "source": [
        "Applying preprocessing to the 'titles' column"
      ],
      "metadata": {
        "id": "PH892ePcyUYG"
      }
    },
    {
      "cell_type": "code",
      "source": [
        "df['processed_title'] = df['title'].apply(preprocess_text)"
      ],
      "metadata": {
        "id": "kAlL0QrqyWyV"
      },
      "execution_count": null,
      "outputs": []
    },
    {
      "cell_type": "markdown",
      "source": [
        "Displaying the first few rows of the processed data"
      ],
      "metadata": {
        "id": "sJjS0PozyYGo"
      }
    },
    {
      "cell_type": "code",
      "source": [
        "print(df[['title', 'processed_title']].head())"
      ],
      "metadata": {
        "colab": {
          "base_uri": "https://localhost:8080/"
        },
        "id": "2IcIYpUyyaGj",
        "outputId": "e20c5851-dece-4fad-a17d-96f6632cd6f6"
      },
      "execution_count": null,
      "outputs": [
        {
          "output_type": "stream",
          "name": "stdout",
          "text": [
            "                                               title  \\\n",
            "0                   VP Digital Transformation DevOps   \n",
            "1                             Senior Patent Attorney   \n",
            "2         Assistant Professor, School of Engineering   \n",
            "3  Engineering Director, Software Products, Elect...   \n",
            "4                 MS Data Science Graduating Student   \n",
            "\n",
            "                                    processed_title  \n",
            "0                  vp digital transformation devops  \n",
            "1                            senior patent attorney  \n",
            "2            assistant professor school engineering  \n",
            "3  engineering director software product electrolux  \n",
            "4                 m data science graduating student  \n"
          ]
        }
      ]
    },
    {
      "cell_type": "code",
      "source": [
        "print(df['custom_audience_persona'].isna().sum())\n",
        "print(df['custom_cdo_cio_cto'].isna().sum())"
      ],
      "metadata": {
        "colab": {
          "base_uri": "https://localhost:8080/"
        },
        "id": "b4SC3DbEXgx5",
        "outputId": "57ec88fe-6688-4548-92e4-b3e2151c7207"
      },
      "execution_count": null,
      "outputs": [
        {
          "output_type": "stream",
          "name": "stdout",
          "text": [
            "0\n",
            "0\n"
          ]
        }
      ]
    },
    {
      "cell_type": "markdown",
      "source": [
        "Saving this processed file as 'processed_data1.csv' for Model I and 'processed_data2.csv' for Model II"
      ],
      "metadata": {
        "id": "WihbG6InmfJ2"
      }
    },
    {
      "cell_type": "code",
      "source": [
        "# Create the first dataset\n",
        "df1 = df[['title', 'processed_title', 'custom_audience_persona']].copy()\n",
        "df1.to_csv('processed_data1.csv', index=False)\n",
        "\n",
        "# Create the second dataset\n",
        "df2 = df[['title', 'processed_title', 'custom_cdo_cio_cto']].copy()\n",
        "df2.to_csv('processed_data2.csv', index=False)\n"
      ],
      "metadata": {
        "id": "vyEyOYiiWlBX"
      },
      "execution_count": null,
      "outputs": []
    }
  ]
}