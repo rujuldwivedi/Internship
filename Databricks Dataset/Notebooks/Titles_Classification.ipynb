{
  "cells": [
    {
      "cell_type": "code",
      "execution_count": null,
      "metadata": {
        "colab": {
          "base_uri": "https://localhost:8080/"
        },
        "id": "XJBgBoQfJKK8",
        "outputId": "ef7634f4-6c12-4935-ab0b-b4dbeec72771"
      },
      "outputs": [
        {
          "output_type": "stream",
          "name": "stdout",
          "text": [
            "Requirement already satisfied: langdetect in /usr/local/lib/python3.11/dist-packages (1.0.9)\n",
            "Requirement already satisfied: six in /usr/local/lib/python3.11/dist-packages (from langdetect) (1.17.0)\n",
            "Requirement already satisfied: deep_translator in /usr/local/lib/python3.11/dist-packages (1.11.4)\n",
            "Requirement already satisfied: beautifulsoup4<5.0.0,>=4.9.1 in /usr/local/lib/python3.11/dist-packages (from deep_translator) (4.13.3)\n",
            "Requirement already satisfied: requests<3.0.0,>=2.23.0 in /usr/local/lib/python3.11/dist-packages (from deep_translator) (2.32.3)\n",
            "Requirement already satisfied: soupsieve>1.2 in /usr/local/lib/python3.11/dist-packages (from beautifulsoup4<5.0.0,>=4.9.1->deep_translator) (2.6)\n",
            "Requirement already satisfied: typing-extensions>=4.0.0 in /usr/local/lib/python3.11/dist-packages (from beautifulsoup4<5.0.0,>=4.9.1->deep_translator) (4.12.2)\n",
            "Requirement already satisfied: charset-normalizer<4,>=2 in /usr/local/lib/python3.11/dist-packages (from requests<3.0.0,>=2.23.0->deep_translator) (3.4.1)\n",
            "Requirement already satisfied: idna<4,>=2.5 in /usr/local/lib/python3.11/dist-packages (from requests<3.0.0,>=2.23.0->deep_translator) (3.10)\n",
            "Requirement already satisfied: urllib3<3,>=1.21.1 in /usr/local/lib/python3.11/dist-packages (from requests<3.0.0,>=2.23.0->deep_translator) (2.3.0)\n",
            "Requirement already satisfied: certifi>=2017.4.17 in /usr/local/lib/python3.11/dist-packages (from requests<3.0.0,>=2.23.0->deep_translator) (2025.1.31)\n",
            "Requirement already satisfied: nltk in /usr/local/lib/python3.11/dist-packages (3.9.1)\n",
            "Requirement already satisfied: click in /usr/local/lib/python3.11/dist-packages (from nltk) (8.1.8)\n",
            "Requirement already satisfied: joblib in /usr/local/lib/python3.11/dist-packages (from nltk) (1.4.2)\n",
            "Requirement already satisfied: regex>=2021.8.3 in /usr/local/lib/python3.11/dist-packages (from nltk) (2024.11.6)\n",
            "Requirement already satisfied: tqdm in /usr/local/lib/python3.11/dist-packages (from nltk) (4.67.1)\n",
            "Requirement already satisfied: tensorflow in /usr/local/lib/python3.11/dist-packages (2.18.0)\n",
            "Requirement already satisfied: absl-py>=1.0.0 in /usr/local/lib/python3.11/dist-packages (from tensorflow) (1.4.0)\n",
            "Requirement already satisfied: astunparse>=1.6.0 in /usr/local/lib/python3.11/dist-packages (from tensorflow) (1.6.3)\n",
            "Requirement already satisfied: flatbuffers>=24.3.25 in /usr/local/lib/python3.11/dist-packages (from tensorflow) (25.2.10)\n",
            "Requirement already satisfied: gast!=0.5.0,!=0.5.1,!=0.5.2,>=0.2.1 in /usr/local/lib/python3.11/dist-packages (from tensorflow) (0.6.0)\n",
            "Requirement already satisfied: google-pasta>=0.1.1 in /usr/local/lib/python3.11/dist-packages (from tensorflow) (0.2.0)\n",
            "Requirement already satisfied: libclang>=13.0.0 in /usr/local/lib/python3.11/dist-packages (from tensorflow) (18.1.1)\n",
            "Requirement already satisfied: opt-einsum>=2.3.2 in /usr/local/lib/python3.11/dist-packages (from tensorflow) (3.4.0)\n",
            "Requirement already satisfied: packaging in /usr/local/lib/python3.11/dist-packages (from tensorflow) (24.2)\n",
            "Requirement already satisfied: protobuf!=4.21.0,!=4.21.1,!=4.21.2,!=4.21.3,!=4.21.4,!=4.21.5,<6.0.0dev,>=3.20.3 in /usr/local/lib/python3.11/dist-packages (from tensorflow) (4.25.6)\n",
            "Requirement already satisfied: requests<3,>=2.21.0 in /usr/local/lib/python3.11/dist-packages (from tensorflow) (2.32.3)\n",
            "Requirement already satisfied: setuptools in /usr/local/lib/python3.11/dist-packages (from tensorflow) (75.1.0)\n",
            "Requirement already satisfied: six>=1.12.0 in /usr/local/lib/python3.11/dist-packages (from tensorflow) (1.17.0)\n",
            "Requirement already satisfied: termcolor>=1.1.0 in /usr/local/lib/python3.11/dist-packages (from tensorflow) (2.5.0)\n",
            "Requirement already satisfied: typing-extensions>=3.6.6 in /usr/local/lib/python3.11/dist-packages (from tensorflow) (4.12.2)\n",
            "Requirement already satisfied: wrapt>=1.11.0 in /usr/local/lib/python3.11/dist-packages (from tensorflow) (1.17.2)\n",
            "Requirement already satisfied: grpcio<2.0,>=1.24.3 in /usr/local/lib/python3.11/dist-packages (from tensorflow) (1.71.0)\n",
            "Requirement already satisfied: tensorboard<2.19,>=2.18 in /usr/local/lib/python3.11/dist-packages (from tensorflow) (2.18.0)\n",
            "Requirement already satisfied: keras>=3.5.0 in /usr/local/lib/python3.11/dist-packages (from tensorflow) (3.8.0)\n",
            "Requirement already satisfied: numpy<2.1.0,>=1.26.0 in /usr/local/lib/python3.11/dist-packages (from tensorflow) (2.0.2)\n",
            "Requirement already satisfied: h5py>=3.11.0 in /usr/local/lib/python3.11/dist-packages (from tensorflow) (3.12.1)\n",
            "Requirement already satisfied: ml-dtypes<0.5.0,>=0.4.0 in /usr/local/lib/python3.11/dist-packages (from tensorflow) (0.4.1)\n",
            "Requirement already satisfied: tensorflow-io-gcs-filesystem>=0.23.1 in /usr/local/lib/python3.11/dist-packages (from tensorflow) (0.37.1)\n",
            "Requirement already satisfied: wheel<1.0,>=0.23.0 in /usr/local/lib/python3.11/dist-packages (from astunparse>=1.6.0->tensorflow) (0.45.1)\n",
            "Requirement already satisfied: rich in /usr/local/lib/python3.11/dist-packages (from keras>=3.5.0->tensorflow) (13.9.4)\n",
            "Requirement already satisfied: namex in /usr/local/lib/python3.11/dist-packages (from keras>=3.5.0->tensorflow) (0.0.8)\n",
            "Requirement already satisfied: optree in /usr/local/lib/python3.11/dist-packages (from keras>=3.5.0->tensorflow) (0.14.1)\n",
            "Requirement already satisfied: charset-normalizer<4,>=2 in /usr/local/lib/python3.11/dist-packages (from requests<3,>=2.21.0->tensorflow) (3.4.1)\n",
            "Requirement already satisfied: idna<4,>=2.5 in /usr/local/lib/python3.11/dist-packages (from requests<3,>=2.21.0->tensorflow) (3.10)\n",
            "Requirement already satisfied: urllib3<3,>=1.21.1 in /usr/local/lib/python3.11/dist-packages (from requests<3,>=2.21.0->tensorflow) (2.3.0)\n",
            "Requirement already satisfied: certifi>=2017.4.17 in /usr/local/lib/python3.11/dist-packages (from requests<3,>=2.21.0->tensorflow) (2025.1.31)\n",
            "Requirement already satisfied: markdown>=2.6.8 in /usr/local/lib/python3.11/dist-packages (from tensorboard<2.19,>=2.18->tensorflow) (3.7)\n",
            "Requirement already satisfied: tensorboard-data-server<0.8.0,>=0.7.0 in /usr/local/lib/python3.11/dist-packages (from tensorboard<2.19,>=2.18->tensorflow) (0.7.2)\n",
            "Requirement already satisfied: werkzeug>=1.0.1 in /usr/local/lib/python3.11/dist-packages (from tensorboard<2.19,>=2.18->tensorflow) (3.1.3)\n",
            "Requirement already satisfied: MarkupSafe>=2.1.1 in /usr/local/lib/python3.11/dist-packages (from werkzeug>=1.0.1->tensorboard<2.19,>=2.18->tensorflow) (3.0.2)\n",
            "Requirement already satisfied: markdown-it-py>=2.2.0 in /usr/local/lib/python3.11/dist-packages (from rich->keras>=3.5.0->tensorflow) (3.0.0)\n",
            "Requirement already satisfied: pygments<3.0.0,>=2.13.0 in /usr/local/lib/python3.11/dist-packages (from rich->keras>=3.5.0->tensorflow) (2.18.0)\n",
            "Requirement already satisfied: mdurl~=0.1 in /usr/local/lib/python3.11/dist-packages (from markdown-it-py>=2.2.0->rich->keras>=3.5.0->tensorflow) (0.1.2)\n"
          ]
        }
      ],
      "source": [
        "!pip install langdetect\n",
        "!pip install deep_translator\n",
        "!pip install nltk\n",
        "!pip install tensorflow"
      ]
    },
    {
      "cell_type": "code",
      "execution_count": null,
      "metadata": {
        "id": "ywvpQbiHJYUt"
      },
      "outputs": [],
      "source": [
        "# Importing required libraries\n",
        "import pandas as pd\n",
        "import numpy as np\n",
        "import matplotlib.pyplot as plt\n",
        "import seaborn as sns\n",
        "from sklearn.model_selection import train_test_split\n",
        "from sklearn.preprocessing import LabelEncoder\n",
        "from tensorflow.keras.preprocessing.text import Tokenizer\n",
        "from tensorflow.keras.preprocessing.sequence import pad_sequences\n",
        "import tensorflow as tf\n",
        "import nltk\n",
        "import re\n",
        "from nltk.corpus import stopwords\n",
        "from nltk.stem import WordNetLemmatizer\n",
        "import torch\n",
        "import torch.nn as nn\n",
        "import torch.optim as optim\n",
        "from torch.utils.data import DataLoader, TensorDataset\n",
        "from imblearn.over_sampling import SMOTE\n",
        "from sklearn.feature_extraction.text import TfidfVectorizer"
      ]
    },
    {
      "cell_type": "code",
      "execution_count": null,
      "metadata": {
        "colab": {
          "base_uri": "https://localhost:8080/"
        },
        "id": "FgEEzCP8JqiD",
        "outputId": "f5ac2f84-4958-42fb-925c-b4f680802938"
      },
      "outputs": [
        {
          "output_type": "stream",
          "name": "stderr",
          "text": [
            "[nltk_data] Downloading package punkt to /root/nltk_data...\n",
            "[nltk_data]   Package punkt is already up-to-date!\n",
            "[nltk_data] Downloading package punkt_tab to /root/nltk_data...\n",
            "[nltk_data]   Package punkt_tab is already up-to-date!\n",
            "[nltk_data] Downloading package stopwords to /root/nltk_data...\n",
            "[nltk_data]   Package stopwords is already up-to-date!\n",
            "[nltk_data] Downloading package wordnet to /root/nltk_data...\n",
            "[nltk_data]   Package wordnet is already up-to-date!\n",
            "[nltk_data] Downloading package omw-1.4 to /root/nltk_data...\n",
            "[nltk_data]   Package omw-1.4 is already up-to-date!\n"
          ]
        },
        {
          "output_type": "execute_result",
          "data": {
            "text/plain": [
              "True"
            ]
          },
          "metadata": {},
          "execution_count": 24
        }
      ],
      "source": [
        "nltk.download('punkt')\n",
        "nltk.download('punkt_tab')\n",
        "nltk.download('stopwords')\n",
        "nltk.download('wordnet')\n",
        "nltk.download('omw-1.4')"
      ]
    },
    {
      "cell_type": "markdown",
      "metadata": {
        "id": "e5VmiG7nF6Ly"
      },
      "source": [
        "### Some important links for this notebook:\n",
        "#### The original dataset is here: [Dataset](https://drive.google.com/file/d/1UCA3GOkJxn4JaoQx8k0VY8E-dpV94xLP/view?usp=sharing)\n",
        "#### Some EDAs and a sample Classification is done here: [EDA](https://colab.research.google.com/drive/14Ee2MtvksiqDZ8BrJG8NStJAwQHl0FAQ?usp=sharing)\n",
        "#### The pre-processing part is included here: [Pre-Processing](https://colab.research.google.com/drive/17RNeBI9gj2uMdhyHNLCMXz_e4ymE89-0?usp=sharing)\n",
        "#### The pre-processed data can be found here: [Processed Data 1](https://drive.google.com/file/d/1IIkpYWLqDXREFjBDl69exeTTA4ZigCms/view?usp=sharing) & [Processed Data 2](https://drive.google.com/file/d/1-0USoUd3cP-f0pDGdWXY_WO8cgYkYc-o/view?usp=sharing)"
      ]
    },
    {
      "cell_type": "code",
      "source": [
        "from google.colab import drive\n",
        "drive.mount('/content/drive')"
      ],
      "metadata": {
        "colab": {
          "base_uri": "https://localhost:8080/"
        },
        "id": "8gMcC_D_9XBh",
        "outputId": "92fc9438-b77c-4e23-93a9-9be5e51de1aa"
      },
      "execution_count": null,
      "outputs": [
        {
          "output_type": "stream",
          "name": "stdout",
          "text": [
            "Drive already mounted at /content/drive; to attempt to forcibly remount, call drive.mount(\"/content/drive\", force_remount=True).\n"
          ]
        }
      ]
    },
    {
      "cell_type": "code",
      "execution_count": null,
      "metadata": {
        "colab": {
          "base_uri": "https://localhost:8080/"
        },
        "id": "LRQE96onJspn",
        "outputId": "4b99b526-4c5b-4701-866e-b45db9537efe"
      },
      "outputs": [
        {
          "output_type": "stream",
          "name": "stdout",
          "text": [
            "Mounted at /content/drive\n",
            "/content/drive/My Drive/Internship/Model I\n"
          ]
        }
      ],
      "source": [
        "%cd /content/drive/My\\ Drive/Internship/Model\\ I"
      ]
    },
    {
      "cell_type": "code",
      "execution_count": null,
      "metadata": {
        "id": "EOsJH_1hRGxA"
      },
      "outputs": [],
      "source": [
        "df = pd.read_csv('processed_data1.csv')"
      ]
    },
    {
      "cell_type": "code",
      "execution_count": null,
      "metadata": {
        "colab": {
          "base_uri": "https://localhost:8080/"
        },
        "id": "RaZE4YwKRKuI",
        "outputId": "02c1c68c-3dda-4878-96ab-c40551ce515e"
      },
      "outputs": [
        {
          "data": {
            "text/plain": [
              "Index(['title', 'processed_title', 'custom_audience_persona'], dtype='object')"
            ]
          },
          "execution_count": 6,
          "metadata": {},
          "output_type": "execute_result"
        }
      ],
      "source": [
        "df.columns"
      ]
    },
    {
      "cell_type": "code",
      "execution_count": null,
      "metadata": {
        "colab": {
          "base_uri": "https://localhost:8080/"
        },
        "id": "tXnKc1OmRQCt",
        "outputId": "9db420b7-2ceb-4d56-85d1-65d3b4cee3a8"
      },
      "outputs": [
        {
          "name": "stdout",
          "output_type": "stream",
          "text": [
            "['Data Engineer' 'Unprioritized' 'Data Scientist' 'Data Analyst'\n",
            " 'Data Architect' 'Business Execs' 'CIO' 'CDO']\n"
          ]
        }
      ],
      "source": [
        "print(df['custom_audience_persona'].unique())\n"
      ]
    },
    {
      "cell_type": "code",
      "execution_count": null,
      "metadata": {
        "colab": {
          "base_uri": "https://localhost:8080/"
        },
        "id": "bLrvianxJ3Qk",
        "outputId": "509de28a-69d6-44ac-e6dd-2a231a1ae191"
      },
      "outputs": [
        {
          "name": "stdout",
          "output_type": "stream",
          "text": [
            "                                               title  \\\n",
            "0                   VP Digital Transformation DevOps   \n",
            "1                             Senior Patent Attorney   \n",
            "2         Assistant Professor, School of Engineering   \n",
            "3  Engineering Director, Software Products, Elect...   \n",
            "4                 MS Data Science Graduating Student   \n",
            "\n",
            "                                    processed_title custom_audience_persona  \n",
            "0                  vp digital transformation devops           Data Engineer  \n",
            "1                            senior patent attorney           Unprioritized  \n",
            "2            assistant professor school engineering           Data Engineer  \n",
            "3  engineering director software product electrolux           Data Engineer  \n",
            "4                 m data science graduating student          Data Scientist  \n",
            "<class 'pandas.core.frame.DataFrame'>\n",
            "RangeIndex: 2034452 entries, 0 to 2034451\n",
            "Data columns (total 3 columns):\n",
            " #   Column                   Dtype \n",
            "---  ------                   ----- \n",
            " 0   title                    object\n",
            " 1   processed_title          object\n",
            " 2   custom_audience_persona  object\n",
            "dtypes: object(3)\n",
            "memory usage: 46.6+ MB\n",
            "None\n"
          ]
        }
      ],
      "source": [
        "# Displaying the first few rows and basic information about the dataset\n",
        "print(df.head())\n",
        "print(df.info())"
      ]
    },
    {
      "cell_type": "code",
      "execution_count": null,
      "metadata": {
        "id": "q-pNYW5bN8_F"
      },
      "outputs": [],
      "source": [
        "# Separating into features and labels\n",
        "X = df['processed_title']\n",
        "y = df['custom_audience_persona']\n",
        "\n",
        "# Encoding the labels\n",
        "from sklearn.preprocessing import LabelEncoder\n",
        "label_encoder = LabelEncoder()\n",
        "y_encoded = label_encoder.fit_transform(y)"
      ]
    },
    {
      "cell_type": "code",
      "execution_count": null,
      "metadata": {
        "id": "yG4n7F39OgOp"
      },
      "outputs": [],
      "source": [
        "# Creating a TF-IDF vectorizer\n",
        "vectorizer = TfidfVectorizer(max_features=50)\n",
        "\n",
        "# Replacing NaN values in X with empty strings\n",
        "X = X.fillna('')\n",
        "\n",
        "# Fittin and transforming the text data\n",
        "X_tfidf = vectorizer.fit_transform(X)\n",
        "\n",
        "# # Applying SMOTE\n",
        "# smote = SMOTE(random_state=42)\n",
        "# X_resampled, y_resampled = smote.fit_resample(X_tfidf, y_encoded)\n",
        "\n",
        "# X_resampled = pd.Series(X_resampled.toarray().flatten())\n",
        "\n",
        "# # Splitting the resampled data into training and validation sets\n",
        "# X_train, X_val, y_train, y_val = train_test_split(\n",
        "#     X_resampled, y_resampled, test_size=0.2, stratify=y_resampled, random_state=42\n",
        "# )"
      ]
    },
    {
      "cell_type": "code",
      "execution_count": null,
      "metadata": {
        "colab": {
          "base_uri": "https://localhost:8080/"
        },
        "id": "w42UEnNwKXwN",
        "outputId": "9cd3b71e-4e67-49ee-de5e-f2c84c7b7ead"
      },
      "outputs": [
        {
          "name": "stdout",
          "output_type": "stream",
          "text": [
            "\n",
            "Training set size: 1627561\n",
            "Validation set size: 406891\n"
          ]
        }
      ],
      "source": [
        "# Splitting the labeled data into training and validation sets\n",
        "from sklearn.model_selection import train_test_split\n",
        "X_train, X_val, y_train, y_val = train_test_split(X_tfidf, y_encoded, test_size=0.2, stratify=y, random_state=42)\n",
        "\n",
        "print(\"\\nTraining set size:\", X_train.shape[0])\n",
        "print(\"Validation set size:\", X_val.shape[0])"
      ]
    },
    {
      "cell_type": "code",
      "execution_count": null,
      "metadata": {
        "colab": {
          "base_uri": "https://localhost:8080/"
        },
        "id": "BzLuXr_SOXSG",
        "outputId": "e4df4989-da9e-4fb1-a0f9-239ac5caf5b8"
      },
      "outputs": [
        {
          "name": "stdout",
          "output_type": "stream",
          "text": [
            "\n",
            "Original class proportions:\n",
            " custom_audience_persona\n",
            "Unprioritized     0.497771\n",
            "Data Engineer     0.189880\n",
            "Data Analyst      0.126932\n",
            "Data Scientist    0.075815\n",
            "Business Execs    0.045162\n",
            "Data Architect    0.039981\n",
            "CIO               0.019976\n",
            "CDO               0.004484\n",
            "Name: proportion, dtype: float64\n",
            "\n",
            "Training set class proportions:\n",
            " 7    0.497771\n",
            "5    0.189880\n",
            "3    0.126932\n",
            "6    0.075815\n",
            "0    0.045161\n",
            "4    0.039981\n",
            "2    0.019976\n",
            "1    0.004484\n",
            "Name: proportion, dtype: float64\n",
            "\n",
            "Validation set class proportions:\n",
            " 7    0.497772\n",
            "5    0.189879\n",
            "3    0.126933\n",
            "6    0.075814\n",
            "0    0.045162\n",
            "4    0.039981\n",
            "2    0.019976\n",
            "1    0.004483\n",
            "Name: proportion, dtype: float64\n"
          ]
        }
      ],
      "source": [
        "# Calculating class proportions in the original dataset\n",
        "original_proportions = df['custom_audience_persona'].value_counts(normalize=True)\n",
        "print(\"\\nOriginal class proportions:\\n\", original_proportions)\n",
        "\n",
        "# Calculating class proportions in the training set\n",
        "train_proportions = pd.Series(y_train).value_counts(normalize=True)\n",
        "print(\"\\nTraining set class proportions:\\n\", train_proportions)\n",
        "\n",
        "# Calculating class proportions in the validation set\n",
        "val_proportions = pd.Series(y_val).value_counts(normalize=True)\n",
        "print(\"\\nValidation set class proportions:\\n\", val_proportions)\n"
      ]
    },
    {
      "cell_type": "code",
      "execution_count": null,
      "metadata": {
        "colab": {
          "base_uri": "https://localhost:8080/"
        },
        "id": "8Uh-T4IKJGJa",
        "outputId": "344dd42c-ab4d-40a2-982f-e69b838c4d10"
      },
      "outputs": [
        {
          "name": "stdout",
          "output_type": "stream",
          "text": [
            "\n",
            "Shape of padded training data: (1627561, 100)\n",
            "Shape of padded validation data: (406891, 100)\n"
          ]
        }
      ],
      "source": [
        " # Tokenizing and pad the sequences\n",
        "from tensorflow.keras.preprocessing.text import Tokenizer\n",
        "from tensorflow.keras.preprocessing.sequence import pad_sequences\n",
        "\n",
        "max_words = 5000\n",
        "max_length = 100\n",
        "\n",
        "# Get the original text data from 'processed_title' column in df\n",
        "X_text = df['processed_title'].astype(str)  # Convert to string type\n",
        "\n",
        "# Splitting the text data into training and validation sets\n",
        "X_train_text, X_val_text, _, _ = train_test_split(\n",
        "    X_text, y_encoded, test_size=0.2, stratify=y, random_state=42\n",
        ")\n",
        "\n",
        "# Tokenization\n",
        "tokenizer = Tokenizer(num_words=max_words)\n",
        "tokenizer.fit_on_texts(X_train_text)\n",
        "\n",
        "# Tokenize the text data\n",
        "X_train_seq = tokenizer.texts_to_sequences(X_train_text)\n",
        "X_val_seq = tokenizer.texts_to_sequences(X_val_text)\n",
        "\n",
        "# Padding sequences\n",
        "X_train_pad = pad_sequences(X_train_seq, maxlen=max_length)\n",
        "X_val_pad = pad_sequences(X_val_seq, maxlen=max_length)\n",
        "\n",
        "print(\"\\nShape of padded training data:\", X_train_pad.shape)\n",
        "print(\"Shape of padded validation data:\", X_val_pad.shape)"
      ]
    },
    {
      "cell_type": "code",
      "execution_count": null,
      "metadata": {
        "id": "72szL0SQK_AM"
      },
      "outputs": [],
      "source": [
        "import torch\n",
        "import torch.nn as nn\n",
        "import torch.optim as optim\n",
        "from torch.utils.data import DataLoader, TensorDataset\n",
        "\n",
        "# Converting data to PyTorch tensors\n",
        "X_train_tensor = torch.tensor(X_train_pad, dtype=torch.long)\n",
        "y_train_tensor = torch.tensor(y_train, dtype=torch.long)\n",
        "X_val_tensor = torch.tensor(X_val_pad, dtype=torch.long)\n",
        "y_val_tensor = torch.tensor(y_val, dtype=torch.long)"
      ]
    },
    {
      "cell_type": "code",
      "execution_count": null,
      "metadata": {
        "id": "7XAsucjaLBJR"
      },
      "outputs": [],
      "source": [
        "# Creating DataLoader objects\n",
        "train_dataset = TensorDataset(X_train_tensor, y_train_tensor)\n",
        "train_loader = DataLoader(train_dataset, batch_size=32, shuffle=True)\n",
        "val_dataset = TensorDataset(X_val_tensor, y_val_tensor)\n",
        "val_loader = DataLoader(val_dataset, batch_size=32)"
      ]
    },
    {
      "cell_type": "code",
      "execution_count": null,
      "metadata": {
        "id": "1Ji810a8LDGh"
      },
      "outputs": [],
      "source": [
        "# Defining the LSTM model\n",
        "class LSTMClassifier(nn.Module):\n",
        "    def __init__(self, vocab_size, embedding_dim, hidden_dim, output_dim):\n",
        "        super().__init__()\n",
        "        self.embedding = nn.Embedding(vocab_size, embedding_dim)\n",
        "        self.lstm = nn.LSTM(embedding_dim, hidden_dim, batch_first=True)\n",
        "        self.fc = nn.Linear(hidden_dim, output_dim)\n",
        "        self.dropout = nn.Dropout(0.5)\n",
        "\n",
        "    def forward(self, text):\n",
        "        embedded = self.embedding(text)\n",
        "        output, (hidden, cell) = self.lstm(embedded)\n",
        "        hidden = self.dropout(hidden[-1])\n",
        "        return self.fc(hidden)"
      ]
    },
    {
      "cell_type": "code",
      "execution_count": null,
      "metadata": {
        "id": "GNlE4StzLFO_"
      },
      "outputs": [],
      "source": [
        "# Initializing the model\n",
        "vocab_size = max_words\n",
        "embedding_dim = 128\n",
        "hidden_dim = 128\n",
        "output_dim = len(label_encoder.classes_)\n",
        "\n",
        "model = LSTMClassifier(vocab_size, embedding_dim, hidden_dim, output_dim)"
      ]
    },
    {
      "cell_type": "code",
      "execution_count": null,
      "metadata": {
        "id": "ACnKQtD8LHbF"
      },
      "outputs": [],
      "source": [
        "# Defining loss function and optimizer\n",
        "criterion = nn.CrossEntropyLoss()\n",
        "optimizer = optim.Adam(model.parameters())"
      ]
    },
    {
      "cell_type": "code",
      "execution_count": null,
      "metadata": {
        "colab": {
          "base_uri": "https://localhost:8080/"
        },
        "id": "xPL2UYR3K41u",
        "outputId": "d00bc726-849a-4d61-d13b-0df1a1078e7a"
      },
      "outputs": [
        {
          "name": "stdout",
          "output_type": "stream",
          "text": [
            "Epoch 1/1, Validation Accuracy: 0.9751\n",
            "Training completed.\n"
          ]
        }
      ],
      "source": [
        "# Training loop\n",
        "num_epochs = 1\n",
        "for epoch in range(num_epochs):\n",
        "    model.train()\n",
        "    for batch in train_loader:\n",
        "        texts, labels = batch\n",
        "        optimizer.zero_grad()\n",
        "        predictions = model(texts)\n",
        "        loss = criterion(predictions, labels)\n",
        "        loss.backward()\n",
        "        optimizer.step()\n",
        "\n",
        "    # Validation\n",
        "    model.eval()\n",
        "    correct = 0\n",
        "    total = 0\n",
        "    with torch.no_grad():\n",
        "        for batch in val_loader:\n",
        "            texts, labels = batch\n",
        "            outputs = model(texts)\n",
        "            _, predicted = torch.max(outputs.data, 1)\n",
        "            total += labels.size(0)\n",
        "            correct += (predicted == labels).sum().item()\n",
        "\n",
        "    accuracy = correct / total\n",
        "    print(f'Epoch {epoch+1}/{num_epochs}, Validation Accuracy: {accuracy:.4f}')\n",
        "\n",
        "print(\"Training completed.\")"
      ]
    },
    {
      "cell_type": "code",
      "execution_count": null,
      "metadata": {
        "colab": {
          "base_uri": "https://localhost:8080/"
        },
        "id": "LUhJ8QCKN1C2",
        "outputId": "3a291411-ac62-4e2c-f50e-d40a866d7149"
      },
      "outputs": [
        {
          "name": "stdout",
          "output_type": "stream",
          "text": [
            "Test Accuracy: 0.9751\n"
          ]
        }
      ],
      "source": [
        "# Evaluating on the test set\n",
        "model.eval()\n",
        "correct = 0\n",
        "total = 0\n",
        "with torch.no_grad():\n",
        "    for batch in val_loader:\n",
        "        texts, labels = batch\n",
        "        outputs = model(texts)\n",
        "        _, predicted = torch.max(outputs.data, 1)\n",
        "        total += labels.size(0)\n",
        "        correct += (predicted == labels).sum().item()\n",
        "\n",
        "accuracy = correct / total\n",
        "print(f'Test Accuracy: {accuracy:.4f}')\n"
      ]
    },
    {
      "cell_type": "code",
      "execution_count": null,
      "metadata": {
        "colab": {
          "base_uri": "https://localhost:8080/"
        },
        "id": "BZej2vKFN-_L",
        "outputId": "0fc02afe-45e4-488c-c104-f83316ba2335"
      },
      "outputs": [
        {
          "name": "stdout",
          "output_type": "stream",
          "text": [
            "Title: CIO, Predicted Category: CIO\n",
            "Title: Scientist, Predicted Category: Data Scientist\n",
            "Title: Student, Predicted Category: Unprioritized\n"
          ]
        }
      ],
      "source": [
        "# Example titles:\n",
        "titles_to_test = [\n",
        "    \"CIO\",\n",
        "    \"Scientist\",\n",
        "    \"Student\"\n",
        "]\n",
        "\n",
        "test_sequences = tokenizer.texts_to_sequences(titles_to_test)\n",
        "test_padded = pad_sequences(test_sequences, maxlen=max_length)\n",
        "\n",
        "test_tensor = torch.tensor(test_padded, dtype=torch.long)\n",
        "\n",
        "\n",
        "model.eval()\n",
        "with torch.no_grad():\n",
        "  outputs = model(test_tensor)\n",
        "  _, predicted_labels = torch.max(outputs.data, 1)\n",
        "\n",
        "predicted_categories = label_encoder.inverse_transform(predicted_labels.numpy())\n",
        "\n",
        "for title, category in zip(titles_to_test, predicted_categories):\n",
        "  print(f\"Title: {title}, Predicted Category: {category}\")\n"
      ]
    },
    {
      "cell_type": "code",
      "execution_count": null,
      "metadata": {
        "id": "aFuNYYHh2ry_"
      },
      "outputs": [],
      "source": [
        "import torch\n",
        "import pickle\n",
        "\n",
        "# Save the model\n",
        "torch.save(model.state_dict(), 'model_for_model1.pth')\n",
        "\n",
        "# Save the tokenizer\n",
        "with open('tokenizer_for_model1.pickle', 'wb') as handle:\n",
        "    pickle.dump(tokenizer, handle, protocol=pickle.HIGHEST_PROTOCOL)\n",
        "\n",
        "# Save the label encoder\n",
        "with open('label_encoder_for_model1.pickle', 'wb') as handle:\n",
        "    pickle.dump(label_encoder, handle, protocol=pickle.HIGHEST_PROTOCOL)\n"
      ]
    },
    {
      "cell_type": "markdown",
      "metadata": {
        "id": "l9V0fC0MI1Tw"
      },
      "source": [
        "Loading the model, encoder and tokenizer and testing it on sample titles."
      ]
    },
    {
      "cell_type": "code",
      "execution_count": null,
      "metadata": {
        "colab": {
          "base_uri": "https://localhost:8080/"
        },
        "id": "rpta3i2TInYB",
        "outputId": "e58f85f7-2061-4488-aaa2-ad822919cb68"
      },
      "outputs": [
        {
          "name": "stderr",
          "output_type": "stream",
          "text": [
            "<ipython-input-19-98969b15e7fa>:8: FutureWarning: You are using `torch.load` with `weights_only=False` (the current default value), which uses the default pickle module implicitly. It is possible to construct malicious pickle data which will execute arbitrary code during unpickling (See https://github.com/pytorch/pytorch/blob/main/SECURITY.md#untrusted-models for more details). In a future release, the default value for `weights_only` will be flipped to `True`. This limits the functions that could be executed during unpickling. Arbitrary objects will no longer be allowed to be loaded via this mode unless they are explicitly allowlisted by the user via `torch.serialization.add_safe_globals`. We recommend you start setting `weights_only=True` for any use case where you don't have full control of the loaded file. Please open an issue on GitHub for any issues related to this experimental feature.\n",
            "  model.load_state_dict(torch.load('model_for_model1.pth'))\n"
          ]
        },
        {
          "name": "stdout",
          "output_type": "stream",
          "text": [
            "Description: Chief Data Officer, Predicted Category: CDO\n",
            "Description: Data Scientist, Predicted Category: Data Scientist\n",
            "Description: Marketing Manager, Predicted Category: Unprioritized\n"
          ]
        }
      ],
      "source": [
        "import torch\n",
        "import torch.nn as nn\n",
        "import pickle\n",
        "from tensorflow.keras.preprocessing.sequence import pad_sequences\n",
        "\n",
        "# Load the saved model (Run for the variable values below)\n",
        "model = LSTMClassifier(vocab_size, embedding_dim, hidden_dim, output_dim)\n",
        "model.load_state_dict(torch.load('model_for_model1.pth'))\n",
        "model.eval()\n",
        "\n",
        "# Load the tokenizer\n",
        "with open('tokenizer_for_model1.pickle', 'rb') as handle:\n",
        "    tokenizer = pickle.load(handle)\n",
        "\n",
        "# Load the label encoder\n",
        "with open('label_encoder_for_model1.pickle', 'rb') as handle:\n",
        "    label_encoder = pickle.load(handle)\n",
        "\n",
        "# Example descriptions to test\n",
        "descriptions_to_test = [\n",
        "    \"Chief Data Officer\",\n",
        "    \"Data Scientist\",\n",
        "    \"Marketing Manager\"\n",
        "]\n",
        "\n",
        "# Preprocess the descriptions\n",
        "test_sequences = tokenizer.texts_to_sequences(descriptions_to_test)\n",
        "test_padded = pad_sequences(test_sequences, maxlen=max_length)\n",
        "test_tensor = torch.tensor(test_padded, dtype=torch.long)\n",
        "\n",
        "# Make predictions\n",
        "with torch.no_grad():\n",
        "    outputs = model(test_tensor)\n",
        "    _, predicted_labels = torch.max(outputs.data, 1)\n",
        "\n",
        "predicted_categories = label_encoder.inverse_transform(predicted_labels.numpy())\n",
        "\n",
        "# Print the results\n",
        "for description, category in zip(descriptions_to_test, predicted_categories):\n",
        "    print(f\"Description: {description}, Predicted Category: {category}\")\n"
      ]
    },
    {
      "cell_type": "code",
      "execution_count": null,
      "metadata": {
        "colab": {
          "base_uri": "https://localhost:8080/"
        },
        "id": "IDF2CrWebqIm",
        "outputId": "e067b9e5-f76b-400d-e28e-8152728ae228"
      },
      "outputs": [
        {
          "name": "stdout",
          "output_type": "stream",
          "text": [
            "              precision    recall  f1-score   support\n",
            "\n",
            "           0       0.95      0.96      0.95     18376\n",
            "           1       0.95      0.91      0.93      1824\n",
            "           2       0.97      0.77      0.86      8128\n",
            "           3       0.99      0.98      0.98     51648\n",
            "           4       0.99      0.94      0.97     16268\n",
            "           5       0.97      0.96      0.96     77260\n",
            "           6       0.99      0.96      0.98     30848\n",
            "           7       0.97      0.99      0.98    202539\n",
            "\n",
            "    accuracy                           0.98    406891\n",
            "   macro avg       0.97      0.94      0.95    406891\n",
            "weighted avg       0.98      0.98      0.97    406891\n",
            "\n",
            "\n",
            "Total Recall: 0.9365044761041583\n",
            "\n",
            "Class with least recall: 2 (0.77)\n",
            "\n",
            "Potential causes for low recall:\n",
            "- Class imbalance: Check if the minority class has significantly fewer samples.\n",
            "- Feature insufficiency: The features may not adequately capture information specific to the minority class.\n",
            "- Model complexity: The model may be too simple to learn the complex patterns in the minority class.\n",
            "- Data quality: Investigate the data quality in the minority class for any inconsistencies or errors.\n"
          ]
        }
      ],
      "source": [
        "from sklearn.metrics import classification_report\n",
        "\n",
        "# Example using the validation loader and model:\n",
        "model.eval()\n",
        "all_preds = []\n",
        "all_labels = []\n",
        "with torch.no_grad():\n",
        "    for batch in val_loader:\n",
        "        texts, labels = batch\n",
        "        outputs = model(texts)\n",
        "        _, predicted = torch.max(outputs.data, 1)\n",
        "        all_preds.extend(predicted.cpu().numpy())\n",
        "        all_labels.extend(labels.cpu().numpy())\n",
        "\n",
        "report = classification_report(all_labels, all_preds, output_dict=True)\n",
        "print(classification_report(all_labels, all_preds))\n",
        "\n",
        "# Total Recall\n",
        "total_recall = report['macro avg']['recall']\n",
        "print(f\"\\nTotal Recall: {total_recall}\")\n",
        "\n",
        "# Find class with least recall\n",
        "min_recall = 1.0\n",
        "min_recall_class = None\n",
        "\n",
        "for class_label, metrics in report.items():\n",
        "    if isinstance(metrics, dict) and 'recall' in metrics:\n",
        "      if metrics['recall'] < min_recall :\n",
        "        min_recall = metrics['recall']\n",
        "        min_recall_class = class_label\n",
        "\n",
        "if min_recall_class:\n",
        "  print(f\"\\nClass with least recall: {min_recall_class} ({min_recall:.2f})\")\n",
        "\n",
        "  # Analyze potential causes (example)\n",
        "  print(\"\\nPotential causes for low recall:\")\n",
        "  print(\"- Class imbalance: Check if the minority class has significantly fewer samples.\")\n",
        "  print(\"- Feature insufficiency: The features may not adequately capture information specific to the minority class.\")\n",
        "  print(\"- Model complexity: The model may be too simple to learn the complex patterns in the minority class.\")\n",
        "  print(\"- Data quality: Investigate the data quality in the minority class for any inconsistencies or errors.\")\n",
        "else:\n",
        "    print(\"\\nCould not determine class with minimum recall.\")\n"
      ]
    },
    {
      "cell_type": "code",
      "execution_count": null,
      "metadata": {
        "colab": {
          "base_uri": "https://localhost:8080/",
          "height": 1000
        },
        "id": "XMuPVl9negmh",
        "outputId": "23dff89c-1d8e-4a22-fb35-8a9ba66840a4"
      },
      "outputs": [
        {
          "name": "stdout",
          "output_type": "stream",
          "text": [
            "\n",
            "Class Name with lowest recall: CIO (0.77)\n",
            "\n",
            "Further Analysis for low recall:\n",
            "1. Confusion Matrix:\n",
            "[[ 17702      9     51     14      1    196      9    394]\n",
            " [    33   1664     11     13      6     45     16     36]\n",
            " [   669     18   6293     51     89    319     28    661]\n",
            " [    14     16      2  50478      6    377     29    726]\n",
            " [     8      3      7     58  15345    309     31    507]\n",
            " [    70     18     40     91      5  74525     43   2468]\n",
            " [    19      6     10    119     15    354  29754    571]\n",
            " [   202     21     53     73      5   1093     82 201010]]\n"
          ]
        },
        {
          "data": {
            "image/png": "[encoded data removed]",
            "text/plain": [
              "<Figure size 1000x800 with 2 Axes>"
            ]
          },
          "metadata": {},
          "output_type": "display_data"
        },
        {
          "name": "stdout",
          "output_type": "stream",
          "text": [
            "2. Examples of misclassified instances:\n",
            "Example 1:\n",
            "Original Title: technical support engineer\n",
            "True Label: CIO\n",
            "Predicted Label: Data Analyst\n",
            "--------------------\n",
            "Example 2:\n",
            "Original Title: director strategy data science\n",
            "True Label: CIO\n",
            "Predicted Label: Business Execs\n",
            "--------------------\n",
            "Example 3:\n",
            "Original Title: head user experience\n",
            "True Label: CIO\n",
            "Predicted Label: Data Analyst\n",
            "--------------------\n",
            "Example 4:\n",
            "Original Title: supervisor operation warehouse\n",
            "True Label: CIO\n",
            "Predicted Label: Data Engineer\n",
            "--------------------\n",
            "Example 5:\n",
            "Original Title: senior analyst\n",
            "True Label: CIO\n",
            "Predicted Label: Unprioritized\n",
            "--------------------\n",
            "3. Data distribution analysis for the class with lowest recall\n",
            "4. Model's performance across other metrics:\n",
            "Precision for CIO: 0.97\n",
            "F1-score for CIO: 0.86\n",
            "Support for CIO: 8128.0\n"
          ]
        }
      ],
      "source": [
        "import matplotlib.pyplot as plt\n",
        "import numpy as np\n",
        "\n",
        "# Ensure min_recall_class is an integer\n",
        "min_recall_class = int(min_recall_class)\n",
        "\n",
        "# Get the class name corresponding to the minimum recall class index.\n",
        "min_recall_class_name = label_encoder.inverse_transform([min_recall_class])[0]\n",
        "print(f\"\\nClass Name with lowest recall: {min_recall_class_name} ({min_recall:.2f})\")\n",
        "\n",
        "#Further analysis\n",
        "print(\"\\nFurther Analysis for low recall:\")\n",
        "print(\"1. Confusion Matrix:\")\n",
        "from sklearn.metrics import confusion_matrix\n",
        "cm = confusion_matrix(all_labels, all_preds)\n",
        "print(cm)\n",
        "# Visualize the confusion matrix using seaborn's heatmap\n",
        "plt.figure(figsize=(10, 8))\n",
        "sns.heatmap(cm, annot=True, fmt='d', cmap='Blues',\n",
        "            xticklabels=label_encoder.classes_, yticklabels=label_encoder.classes_)\n",
        "plt.xlabel('Predicted Labels')\n",
        "plt.ylabel('True Labels')\n",
        "plt.title('Confusion Matrix')\n",
        "plt.show()\n",
        "\n",
        "print(\"2. Examples of misclassified instances:\")\n",
        "\n",
        "# Find indices of misclassified instances for the class with the lowest recall.\n",
        "misclassified_indices = np.where((np.array(all_labels) == min_recall_class) & (np.array(all_preds) != min_recall_class))[0]\n",
        "\n",
        "# Display some misclassified instances along with their true and predicted labels.\n",
        "num_examples = min(5, len(misclassified_indices)) # Limit to 5 examples or fewer.\n",
        "for i in range(num_examples):\n",
        "  index = misclassified_indices[i]\n",
        "  original_title = df['processed_title'][index]\n",
        "  true_label = label_encoder.inverse_transform([all_labels[index]])[0]\n",
        "  predicted_label = label_encoder.inverse_transform([all_preds[index]])[0]\n",
        "  print(f\"Example {i+1}:\")\n",
        "  print(f\"Original Title: {original_title}\")\n",
        "  print(f\"True Label: {true_label}\")\n",
        "  print(f\"Predicted Label: {predicted_label}\")\n",
        "  print(\"-\" * 20)\n",
        "\n",
        "print(\"3. Data distribution analysis for the class with lowest recall\")\n",
        "# Analyze the distribution of features for the class with the lowest recall.\n",
        "# ... (add code for analyzing specific features)\n",
        "\n",
        "print(\"4. Model's performance across other metrics:\")\n",
        "# Look at precision, F1-score, and support for the low-recall class.\n",
        "print(f\"Precision for {min_recall_class_name}: {report[str(min_recall_class)]['precision']:.2f}\")\n",
        "print(f\"F1-score for {min_recall_class_name}: {report[str(min_recall_class)]['f1-score']:.2f}\")\n",
        "print(f\"Support for {min_recall_class_name}: {report[str(min_recall_class)]['support']}\")\n",
        "\n",
        "\n"
      ]
    },
    {
      "cell_type": "code",
      "execution_count": null,
      "metadata": {
        "colab": {
          "base_uri": "https://localhost:8080/"
        },
        "id": "OIscS5krgTjc",
        "outputId": "5dcdc4ac-c73c-4ded-d898-2056eebf2cf1"
      },
      "outputs": [
        {
          "name": "stdout",
          "output_type": "stream",
          "text": [
            "3. Data distribution analysis for the class with lowest recall\n",
            "Ratio of CIO datapoints to total datapoints: 0.0200\n"
          ]
        }
      ],
      "source": [
        "print(\"3. Data distribution analysis for the class with lowest recall\")\n",
        "\n",
        "# Number of data points for the class with lowest recall / total data points\n",
        "cio_datapoints = df[df['custom_audience_persona'] == min_recall_class_name].shape[0]\n",
        "total_datapoints = df.shape[0]\n",
        "cio_ratio = cio_datapoints / total_datapoints\n",
        "print(f\"Ratio of CIO datapoints to total datapoints: {cio_ratio:.4f}\")"
      ]
    },
    {
      "cell_type": "markdown",
      "metadata": {
        "id": "XLRtaoWeEb7f"
      },
      "source": [
        "### The above apporach doesn't comply with the needs of the chief-level dataset simply because the dataset is too skewed so instead what we can also do is before model training involve a SMOTE sampling."
      ]
    },
    {
      "cell_type": "code",
      "execution_count": null,
      "metadata": {
        "colab": {
          "base_uri": "https://localhost:8080/"
        },
        "id": "tqhKa23WVa1o",
        "outputId": "9197c51c-8d6a-4211-9ee6-7c452617efe4"
      },
      "outputs": [
        {
          "output_type": "stream",
          "name": "stdout",
          "text": [
            "/content/drive/My Drive/Internship/Model II\n"
          ]
        }
      ],
      "source": [
        "import pandas as pd\n",
        "import numpy as np\n",
        "from sklearn.model_selection import train_test_split\n",
        "from imblearn.over_sampling import SMOTE\n",
        "from tensorflow.keras.preprocessing.text import Tokenizer\n",
        "from tensorflow.keras.preprocessing.sequence import pad_sequences\n",
        "from tensorflow.keras.models import Sequential\n",
        "from tensorflow.keras.layers import Embedding, LSTM, Dense, Dropout\n",
        "\n",
        "%cd /content/drive/My\\ Drive/Internship/Model\\ II\n",
        "\n",
        "# Loading the preprocessed dataset\n",
        "df = pd.read_csv('processed_data2.csv')\n"
      ]
    },
    {
      "cell_type": "code",
      "source": [
        "# Undersampling the majority class 'Others'\n",
        "from sklearn.utils import resample\n",
        "\n",
        "# Separate majority and minority classes\n",
        "df_majority = df[df.custom_cdo_cio_cto == 'Others']\n",
        "df_minority = df[df.custom_cdo_cio_cto != 'Others']\n",
        "\n",
        "# Downsample majority class\n",
        "df_majority_downsampled = resample(df_majority,\n",
        "                                 replace=False,  # sample without replacement\n",
        "                                 n_samples=10*len(df_minority),  # match minority class size\n",
        "                                 random_state=42)  # reproducible results\n",
        "\n",
        "# Combine minority class with downsampled majority class\n",
        "df_downsampled = pd.concat([df_majority_downsampled, df_minority])"
      ],
      "metadata": {
        "id": "HXQNFtjDv3JB"
      },
      "execution_count": null,
      "outputs": []
    },
    {
      "cell_type": "code",
      "source": [
        "# Display new class counts\n",
        "print(df_downsampled.custom_cdo_cio_cto.value_counts())"
      ],
      "metadata": {
        "colab": {
          "base_uri": "https://localhost:8080/"
        },
        "id": "eyB-XgDFwle9",
        "outputId": "5768f59d-b38d-446d-b67f-54ef3bd5bebf"
      },
      "execution_count": null,
      "outputs": [
        {
          "output_type": "stream",
          "name": "stdout",
          "text": [
            "custom_cdo_cio_cto\n",
            "Others    45190\n",
            "CTO        2018\n",
            "CIO        1749\n",
            "CDO         560\n",
            "CDAO        125\n",
            "CAO          67\n",
            "Name: count, dtype: int64\n"
          ]
        }
      ]
    },
    {
      "cell_type": "code",
      "source": [
        "df = df_downsampled"
      ],
      "metadata": {
        "id": "YQ7e7za0wuD8"
      },
      "execution_count": null,
      "outputs": []
    },
    {
      "cell_type": "code",
      "source": [
        "# Splitting features and target\n",
        "X = df['processed_title']\n",
        "y = df['custom_cdo_cio_cto']\n",
        "\n",
        "# Splitting data into train and test sets\n",
        "X_train, X_test, y_train, y_test = train_test_split(X, y, test_size=0.2, random_state=42, stratify=y)"
      ],
      "metadata": {
        "id": "GwJ6fkO1vxpP"
      },
      "execution_count": null,
      "outputs": []
    },
    {
      "cell_type": "code",
      "source": [
        "# Tokenizing and padding sequences\n",
        "max_words = 5000\n",
        "max_length = 100\n",
        "\n",
        "tokenizer = Tokenizer(num_words=max_words)\n",
        "\n",
        "# Converting X_train to strings before fitting the tokenizer\n",
        "X_train = X_train.astype(str)\n",
        "\n",
        "tokenizer.fit_on_texts(X_train)\n",
        "\n",
        "X_train_seq = tokenizer.texts_to_sequences(X_train)\n",
        "\n",
        "# Converting X_test to strings, handling potential NaN or float values\n",
        "X_test = X_test.astype(str)\n",
        "\n",
        "X_test_seq = tokenizer.texts_to_sequences(X_test)\n",
        "\n",
        "X_train_pad = pad_sequences(X_train_seq, maxlen=max_length)\n",
        "X_test_pad = pad_sequences(X_test_seq, maxlen=max_length)"
      ],
      "metadata": {
        "id": "VTlKaY27PZAZ"
      },
      "execution_count": null,
      "outputs": []
    },
    {
      "cell_type": "code",
      "execution_count": null,
      "metadata": {
        "id": "_6uJ9G_BVdiM"
      },
      "outputs": [],
      "source": [
        "# # Applying SMOTE to balance the dataset\n",
        "# smote = SMOTE(random_state=42)\n",
        "# X_train_balanced, y_train_balanced = smote.fit_resample(X_train_pad, y_train)"
      ]
    },
    {
      "cell_type": "code",
      "execution_count": null,
      "metadata": {
        "colab": {
          "base_uri": "https://localhost:8080/"
        },
        "id": "GAlL0Zy-gk6h",
        "outputId": "aa170c23-f0d0-46ff-dbd5-d15cb57818cf"
      },
      "outputs": [
        {
          "output_type": "stream",
          "name": "stderr",
          "text": [
            "/usr/local/lib/python3.11/dist-packages/keras/src/layers/core/embedding.py:90: UserWarning: Argument `input_length` is deprecated. Just remove it.\n",
            "  warnings.warn(\n"
          ]
        }
      ],
      "source": [
        "# Building the LSTM model\n",
        "from tensorflow.keras.models import Sequential\n",
        "from tensorflow.keras.layers import Embedding, LSTM, Dense, Dropout\n",
        "\n",
        "model = Sequential([\n",
        "    Embedding(max_words, 32, input_length=max_length),\n",
        "    LSTM(32, return_sequences=True),\n",
        "    LSTM(16),\n",
        "    Dense(8, activation='softmax')\n",
        "])\n",
        "\n",
        "model.compile(optimizer='adam', loss='sparse_categorical_crossentropy', metrics=['accuracy'])"
      ]
    },
    {
      "cell_type": "code",
      "execution_count": null,
      "metadata": {
        "colab": {
          "base_uri": "https://localhost:8080/",
          "height": 498
        },
        "id": "amaG7iU7Ve7E",
        "outputId": "996d65ea-273e-4d43-e3f6-cd28353d4e3a"
      },
      "outputs": [
        {
          "output_type": "stream",
          "name": "stdout",
          "text": [
            "Epoch 1/10\n",
            "\u001b[1m1119/1119\u001b[0m \u001b[32m━━━━━━━━━━━━━━━━━━━━\u001b[0m\u001b[37m\u001b[0m \u001b[1m105s\u001b[0m 87ms/step - accuracy: 0.9072 - loss: 0.5128 - val_accuracy: 0.9497 - val_loss: 0.1650\n",
            "Epoch 2/10\n",
            "\u001b[1m1119/1119\u001b[0m \u001b[32m━━━━━━━━━━━━━━━━━━━━\u001b[0m\u001b[37m\u001b[0m \u001b[1m143s\u001b[0m 88ms/step - accuracy: 0.9540 - loss: 0.1481 - val_accuracy: 0.9706 - val_loss: 0.1093\n",
            "Epoch 3/10\n"
          ]
        },
        {
          "output_type": "error",
          "ename": "KeyboardInterrupt",
          "evalue": "",
          "traceback": [
            "\u001b[0;31m---------------------------------------------------------------------------\u001b[0m",
            "\u001b[0;31mKeyboardInterrupt\u001b[0m                         Traceback (most recent call last)",
            "\u001b[0;32m<ipython-input-33-747ac0cb3a52>\u001b[0m in \u001b[0;36m<cell line: 0>\u001b[0;34m()\u001b[0m\n\u001b[1;32m     11\u001b[0m \u001b[0mX_train_array\u001b[0m \u001b[0;34m=\u001b[0m \u001b[0mnp\u001b[0m\u001b[0;34m.\u001b[0m\u001b[0marray\u001b[0m\u001b[0;34m(\u001b[0m\u001b[0mX_train_pad\u001b[0m\u001b[0;34m,\u001b[0m \u001b[0mdtype\u001b[0m\u001b[0;34m=\u001b[0m\u001b[0mnp\u001b[0m\u001b[0;34m.\u001b[0m\u001b[0mint32\u001b[0m\u001b[0;34m)\u001b[0m  \u001b[0;31m# X_train_pad is likely already a NumPy array, but ensuring dtype\u001b[0m\u001b[0;34m\u001b[0m\u001b[0;34m\u001b[0m\u001b[0m\n\u001b[1;32m     12\u001b[0m \u001b[0;34m\u001b[0m\u001b[0m\n\u001b[0;32m---> 13\u001b[0;31m history = model.fit(\n\u001b[0m\u001b[1;32m     14\u001b[0m     \u001b[0mX_train_array\u001b[0m\u001b[0;34m,\u001b[0m \u001b[0my_train_encoded\u001b[0m\u001b[0;34m,\u001b[0m  \u001b[0;31m# Use X_train_array here\u001b[0m\u001b[0;34m\u001b[0m\u001b[0;34m\u001b[0m\u001b[0m\n\u001b[1;32m     15\u001b[0m     \u001b[0mepochs\u001b[0m\u001b[0;34m=\u001b[0m\u001b[0mepochs\u001b[0m\u001b[0;34m,\u001b[0m\u001b[0;34m\u001b[0m\u001b[0;34m\u001b[0m\u001b[0m\n",
            "\u001b[0;32m/usr/local/lib/python3.11/dist-packages/keras/src/utils/traceback_utils.py\u001b[0m in \u001b[0;36merror_handler\u001b[0;34m(*args, **kwargs)\u001b[0m\n\u001b[1;32m    115\u001b[0m         \u001b[0mfiltered_tb\u001b[0m \u001b[0;34m=\u001b[0m \u001b[0;32mNone\u001b[0m\u001b[0;34m\u001b[0m\u001b[0;34m\u001b[0m\u001b[0m\n\u001b[1;32m    116\u001b[0m         \u001b[0;32mtry\u001b[0m\u001b[0;34m:\u001b[0m\u001b[0;34m\u001b[0m\u001b[0;34m\u001b[0m\u001b[0m\n\u001b[0;32m--> 117\u001b[0;31m             \u001b[0;32mreturn\u001b[0m \u001b[0mfn\u001b[0m\u001b[0;34m(\u001b[0m\u001b[0;34m*\u001b[0m\u001b[0margs\u001b[0m\u001b[0;34m,\u001b[0m \u001b[0;34m**\u001b[0m\u001b[0mkwargs\u001b[0m\u001b[0;34m)\u001b[0m\u001b[0;34m\u001b[0m\u001b[0;34m\u001b[0m\u001b[0m\n\u001b[0m\u001b[1;32m    118\u001b[0m         \u001b[0;32mexcept\u001b[0m \u001b[0mException\u001b[0m \u001b[0;32mas\u001b[0m \u001b[0me\u001b[0m\u001b[0;34m:\u001b[0m\u001b[0;34m\u001b[0m\u001b[0;34m\u001b[0m\u001b[0m\n\u001b[1;32m    119\u001b[0m             \u001b[0mfiltered_tb\u001b[0m \u001b[0;34m=\u001b[0m \u001b[0m_process_traceback_frames\u001b[0m\u001b[0;34m(\u001b[0m\u001b[0me\u001b[0m\u001b[0;34m.\u001b[0m\u001b[0m__traceback__\u001b[0m\u001b[0;34m)\u001b[0m\u001b[0;34m\u001b[0m\u001b[0;34m\u001b[0m\u001b[0m\n",
            "\u001b[0;32m/usr/local/lib/python3.11/dist-packages/keras/src/backend/tensorflow/trainer.py\u001b[0m in \u001b[0;36mfit\u001b[0;34m(self, x, y, batch_size, epochs, verbose, callbacks, validation_split, validation_data, shuffle, class_weight, sample_weight, initial_epoch, steps_per_epoch, validation_steps, validation_batch_size, validation_freq)\u001b[0m\n\u001b[1;32m    368\u001b[0m             \u001b[0;32mwith\u001b[0m \u001b[0mepoch_iterator\u001b[0m\u001b[0;34m.\u001b[0m\u001b[0mcatch_stop_iteration\u001b[0m\u001b[0;34m(\u001b[0m\u001b[0;34m)\u001b[0m\u001b[0;34m:\u001b[0m\u001b[0;34m\u001b[0m\u001b[0;34m\u001b[0m\u001b[0m\n\u001b[1;32m    369\u001b[0m                 \u001b[0;32mfor\u001b[0m \u001b[0mstep\u001b[0m\u001b[0;34m,\u001b[0m \u001b[0miterator\u001b[0m \u001b[0;32min\u001b[0m \u001b[0mepoch_iterator\u001b[0m\u001b[0;34m:\u001b[0m\u001b[0;34m\u001b[0m\u001b[0;34m\u001b[0m\u001b[0m\n\u001b[0;32m--> 370\u001b[0;31m                     \u001b[0mcallbacks\u001b[0m\u001b[0;34m.\u001b[0m\u001b[0mon_train_batch_begin\u001b[0m\u001b[0;34m(\u001b[0m\u001b[0mstep\u001b[0m\u001b[0;34m)\u001b[0m\u001b[0;34m\u001b[0m\u001b[0;34m\u001b[0m\u001b[0m\n\u001b[0m\u001b[1;32m    371\u001b[0m                     \u001b[0mlogs\u001b[0m \u001b[0;34m=\u001b[0m \u001b[0mself\u001b[0m\u001b[0;34m.\u001b[0m\u001b[0mtrain_function\u001b[0m\u001b[0;34m(\u001b[0m\u001b[0miterator\u001b[0m\u001b[0;34m)\u001b[0m\u001b[0;34m\u001b[0m\u001b[0;34m\u001b[0m\u001b[0m\n\u001b[1;32m    372\u001b[0m                     \u001b[0mcallbacks\u001b[0m\u001b[0;34m.\u001b[0m\u001b[0mon_train_batch_end\u001b[0m\u001b[0;34m(\u001b[0m\u001b[0mstep\u001b[0m\u001b[0;34m,\u001b[0m \u001b[0mlogs\u001b[0m\u001b[0;34m)\u001b[0m\u001b[0;34m\u001b[0m\u001b[0;34m\u001b[0m\u001b[0m\n",
            "\u001b[0;32m/usr/local/lib/python3.11/dist-packages/keras/src/callbacks/callback_list.py\u001b[0m in \u001b[0;36mon_train_batch_begin\u001b[0;34m(self, batch, logs)\u001b[0m\n\u001b[1;32m    145\u001b[0m             \u001b[0mcallback\u001b[0m\u001b[0;34m.\u001b[0m\u001b[0mon_epoch_end\u001b[0m\u001b[0;34m(\u001b[0m\u001b[0mepoch\u001b[0m\u001b[0;34m,\u001b[0m \u001b[0mlogs\u001b[0m\u001b[0;34m)\u001b[0m\u001b[0;34m\u001b[0m\u001b[0;34m\u001b[0m\u001b[0m\n\u001b[1;32m    146\u001b[0m \u001b[0;34m\u001b[0m\u001b[0m\n\u001b[0;32m--> 147\u001b[0;31m     \u001b[0;32mdef\u001b[0m \u001b[0mon_train_batch_begin\u001b[0m\u001b[0;34m(\u001b[0m\u001b[0mself\u001b[0m\u001b[0;34m,\u001b[0m \u001b[0mbatch\u001b[0m\u001b[0;34m,\u001b[0m \u001b[0mlogs\u001b[0m\u001b[0;34m=\u001b[0m\u001b[0;32mNone\u001b[0m\u001b[0;34m)\u001b[0m\u001b[0;34m:\u001b[0m\u001b[0;34m\u001b[0m\u001b[0;34m\u001b[0m\u001b[0m\n\u001b[0m\u001b[1;32m    148\u001b[0m         \u001b[0mlogs\u001b[0m \u001b[0;34m=\u001b[0m \u001b[0mpython_utils\u001b[0m\u001b[0;34m.\u001b[0m\u001b[0mpythonify_logs\u001b[0m\u001b[0;34m(\u001b[0m\u001b[0mlogs\u001b[0m\u001b[0;34m)\u001b[0m\u001b[0;34m\u001b[0m\u001b[0;34m\u001b[0m\u001b[0m\n\u001b[1;32m    149\u001b[0m         \u001b[0;32mfor\u001b[0m \u001b[0mcallback\u001b[0m \u001b[0;32min\u001b[0m \u001b[0mself\u001b[0m\u001b[0;34m.\u001b[0m\u001b[0mcallbacks\u001b[0m\u001b[0;34m:\u001b[0m\u001b[0;34m\u001b[0m\u001b[0;34m\u001b[0m\u001b[0m\n",
            "\u001b[0;31mKeyboardInterrupt\u001b[0m: "
          ]
        }
      ],
      "source": [
        "# Training the model\n",
        "batch_size = 32\n",
        "epochs = 10\n",
        "\n",
        "# Converting y_train_balanced to numerical using LabelEncoder\n",
        "from sklearn.preprocessing import LabelEncoder\n",
        "label_encoder = LabelEncoder()\n",
        "y_train_encoded = label_encoder.fit_transform(y_train)\n",
        "\n",
        "# Convert X_train to a NumPy array with dtype=int32\n",
        "X_train_array = np.array(X_train_pad, dtype=np.int32)  # X_train_pad is likely already a NumPy array, but ensuring dtype\n",
        "\n",
        "history = model.fit(\n",
        "    X_train_array, y_train_encoded,  # Use X_train_array here\n",
        "    epochs=epochs,\n",
        "    batch_size=batch_size,\n",
        "    validation_split=0.1,\n",
        "    verbose=1\n",
        ")"
      ]
    },
    {
      "cell_type": "markdown",
      "metadata": {
        "id": "9y6X_Q_fECjA"
      },
      "source": [
        "## The training was taking a lot of time so I stopped the process early and tried to see what weights and biases I got. This will require tweakes in hyperparameter which I will experiment soon."
      ]
    },
    {
      "cell_type": "code",
      "execution_count": null,
      "metadata": {
        "colab": {
          "base_uri": "https://localhost:8080/"
        },
        "id": "oRvfpl7DVgYP",
        "outputId": "78237f96-7353-46fd-8d33-c643aa37a6c3"
      },
      "outputs": [
        {
          "output_type": "stream",
          "name": "stdout",
          "text": [
            "\u001b[1m311/311\u001b[0m \u001b[32m━━━━━━━━━━━━━━━━━━━━\u001b[0m\u001b[37m\u001b[0m \u001b[1m6s\u001b[0m 20ms/step - accuracy: 0.9711 - loss: 0.1088\n",
            "Test accuracy: 0.9724\n"
          ]
        }
      ],
      "source": [
        "# Evaluating on test set\n",
        "# Converting y_test to numerical using LabelEncoder\n",
        "from sklearn.preprocessing import LabelEncoder\n",
        "label_encoder = LabelEncoder()\n",
        "y_test_encoded = label_encoder.fit_transform(y_test)\n",
        "\n",
        "test_loss, test_accuracy = model.evaluate(X_test_pad, y_test_encoded)\n",
        "print(f\"Test accuracy: {test_accuracy:.4f}\")"
      ]
    },
    {
      "cell_type": "code",
      "execution_count": null,
      "metadata": {
        "colab": {
          "base_uri": "https://localhost:8080/"
        },
        "id": "MYJrsdU2FU53",
        "outputId": "d21f483f-5f08-4287-9f46-5926eb66a1a8"
      },
      "outputs": [
        {
          "output_type": "stream",
          "name": "stdout",
          "text": [
            "\u001b[1m1/1\u001b[0m \u001b[32m━━━━━━━━━━━━━━━━━━━━\u001b[0m\u001b[37m\u001b[0m \u001b[1m1s\u001b[0m 533ms/step\n",
            "Title: Software Engineer, Predicted Category: Others\n",
            "Title: Data Scientist, Predicted Category: Others\n",
            "Title: CTO, Predicted Category: CTO\n",
            "Title: CISO, Predicted Category: CIO\n",
            "Title: Chief Data Officer, Predicted Category: CDO\n",
            "Title: Example title, Predicted Category: Others\n",
            "Title: Another example title, Predicted Category: Others\n"
          ]
        }
      ],
      "source": [
        "# Example titles:\n",
        "titles_to_test = [\n",
        "    \"Software Engineer\",\n",
        "    \"Data Scientist\",\n",
        "    \"CTO\",\n",
        "    \"CISO\",\n",
        "    \"Chief Data Officer\",\n",
        "    \"Example title\",\n",
        "    \"Another example title\"\n",
        "]\n",
        "\n",
        "# Tokenizing and padding the test titles using the same tokenizer used for training\n",
        "test_sequences = tokenizer.texts_to_sequences(titles_to_test)\n",
        "test_padded = pad_sequences(test_sequences, maxlen=max_length)\n",
        "\n",
        "# Making predictions using model.predict()\n",
        "predicted_labels = model.predict(test_padded)\n",
        "\n",
        "# Getting the predicted class indices\n",
        "predicted_labels = np.argmax(predicted_labels, axis=1)\n",
        "\n",
        "# Converting predicted labels back to original categories\n",
        "predicted_categories = label_encoder.inverse_transform(predicted_labels)\n",
        "\n",
        "# Printing the predictions\n",
        "for title, category in zip(titles_to_test, predicted_categories):\n",
        "  print(f\"Title: {title}, Predicted Category: {category}\")"
      ]
    },
    {
      "cell_type": "code",
      "execution_count": null,
      "metadata": {
        "colab": {
          "base_uri": "https://localhost:8080/"
        },
        "id": "2t6FKSg9l5Wf",
        "outputId": "80dc9e60-64b9-4191-a080-b5217c366e68"
      },
      "outputs": [
        {
          "name": "stderr",
          "output_type": "stream",
          "text": [
            "WARNING:absl:You are saving your model as an HDF5 file via `model.save()` or `keras.saving.save_model(model)`. This file format is considered legacy. We recommend using instead the native Keras format, e.g. `model.save('my_model.keras')` or `keras.saving.save_model(model, 'my_model.keras')`. \n"
          ]
        }
      ],
      "source": [
        "import pickle\n",
        "\n",
        "# Save the model\n",
        "model.save('model_for_model2.h5')\n",
        "\n",
        "# Save the tokenizer\n",
        "with open('tokenizer_for_model2.pickle', 'wb') as handle:\n",
        "    pickle.dump(tokenizer, handle, protocol=pickle.HIGHEST_PROTOCOL)\n",
        "\n",
        "# Save the label encoder\n",
        "with open('label_encoder_for_model2.pickle', 'wb') as handle:\n",
        "    pickle.dump(label_encoder, handle, protocol=pickle.HIGHEST_PROTOCOL)\n"
      ]
    },
    {
      "cell_type": "code",
      "execution_count": null,
      "metadata": {
        "colab": {
          "base_uri": "https://localhost:8080/"
        },
        "id": "3uCw32GwmInG",
        "outputId": "9fa0bd7e-7418-4784-d4ec-8bed15fe7caa"
      },
      "outputs": [
        {
          "output_type": "stream",
          "name": "stderr",
          "text": [
            "WARNING:absl:Compiled the loaded model, but the compiled metrics have yet to be built. `model.compile_metrics` will be empty until you train or evaluate the model.\n"
          ]
        },
        {
          "output_type": "stream",
          "name": "stdout",
          "text": [
            "\u001b[1m1/1\u001b[0m \u001b[32m━━━━━━━━━━━━━━━━━━━━\u001b[0m\u001b[37m\u001b[0m \u001b[1m0s\u001b[0m 476ms/step\n",
            "Title: Software Engineer, Predicted Category: Others\n",
            "Title: Data Scientist, Predicted Category: Others\n",
            "Title: CTO, Predicted Category: CTO\n",
            "Title: CISO, Predicted Category: CIO\n",
            "Title: Chief Data Officer, Predicted Category: CDO\n",
            "Title: Example title, Predicted Category: Others\n",
            "Title: Another example title, Predicted Category: Others\n"
          ]
        }
      ],
      "source": [
        "import pickle\n",
        "import numpy as np\n",
        "import tensorflow as tf\n",
        "from tensorflow.keras.preprocessing.sequence import pad_sequences\n",
        "from tensorflow.keras.models import load_model\n",
        "\n",
        "# Load the saved model\n",
        "model = load_model('model_for_model2.h5')\n",
        "\n",
        "# Load the tokenizer\n",
        "with open('tokenizer_for_model2.pickle', 'rb') as handle:\n",
        "    tokenizer = pickle.load(handle)\n",
        "\n",
        "# Load the label encoder\n",
        "with open('label_encoder_for_model2.pickle', 'rb') as handle:\n",
        "    label_encoder = pickle.load(handle)\n",
        "\n",
        "# Example titles\n",
        "titles_to_test = [\n",
        "    \"Software Engineer\",\n",
        "    \"Data Scientist\",\n",
        "    \"CTO\",\n",
        "    \"CISO\",\n",
        "    \"Chief Data Officer\",\n",
        "    \"Example title\",\n",
        "    \"Another example title\"\n",
        "]\n",
        "\n",
        "# Tokenize and pad the test titles\n",
        "max_length = 50\n",
        "test_sequences = tokenizer.texts_to_sequences(titles_to_test)\n",
        "test_padded = pad_sequences(test_sequences, maxlen=max_length)\n",
        "\n",
        "# Make predictions\n",
        "predicted_labels = model.predict(test_padded)\n",
        "predicted_labels = np.argmax(predicted_labels, axis=1)\n",
        "predicted_categories = label_encoder.inverse_transform(predicted_labels)\n",
        "\n",
        "# Print the results\n",
        "for title, category in zip(titles_to_test, predicted_categories):\n",
        "    print(f\"Title: {title}, Predicted Category: {category}\")\n"
      ]
    },
    {
      "cell_type": "code",
      "source": [
        "# Load the saved model\n",
        "model = load_model('model_for_model2.h5')\n",
        "\n",
        "# Load the tokenizer\n",
        "with open('tokenizer_for_model2.pickle', 'rb') as handle:\n",
        "    tokenizer = pickle.load(handle)\n",
        "\n",
        "# Load the label encoder\n",
        "with open('label_encoder_for_model2.pickle', 'rb') as handle:\n",
        "    label_encoder = pickle.load(handle)"
      ],
      "metadata": {
        "id": "-CfYaDNW--SZ"
      },
      "execution_count": null,
      "outputs": []
    },
    {
      "cell_type": "code",
      "source": [
        "# Get the vocabulary size from the model's embedding layer\n",
        "vocab_size = model.layers[0].input_dim # Get vocab_size from model\n",
        "\n",
        "# Update the tokenizer's num_words to match the model's vocabulary size\n",
        "tokenizer.num_words = vocab_size  # Ensures tokenizer and model are consistent\n",
        "\n",
        "\n",
        "# Make predictions on the test set\n",
        "# Assuming X_test is your original test data before padding\n",
        "max_length = 100\n",
        "\n",
        "# Tokenize and pad the test titles\n",
        "X_test_sequences = tokenizer.texts_to_sequences(X_test) # X_test is the original test data before padding\n",
        "X_test_pad = pad_sequences(X_test_sequences, maxlen=max_length) # Pad sequences using the loaded tokenizer\n",
        "\n",
        "predicted_labels = model.predict(X_test_pad)\n",
        "predicted_labels = np.argmax(predicted_labels, axis=1)\n",
        "predicted_categories = label_encoder.inverse_transform(predicted_labels)\n",
        "\n",
        "# Create a DataFrame for predictions\n",
        "predictions_df = pd.DataFrame({'processed_title': X_test, 'predicted_category': predicted_categories})\n",
        "\n",
        "# Save predictions to a CSV file\n",
        "predictions_df.to_csv('predictions2.csv', index=False)"
      ],
      "metadata": {
        "colab": {
          "base_uri": "https://localhost:8080/"
        },
        "id": "2aBf4JIKPmAF",
        "outputId": "4f0b3349-6e47-4653-a3d5-fa099e626afe"
      },
      "execution_count": null,
      "outputs": [
        {
          "output_type": "stream",
          "name": "stdout",
          "text": [
            "\u001b[1m311/311\u001b[0m \u001b[32m━━━━━━━━━━━━━━━━━━━━\u001b[0m\u001b[37m\u001b[0m \u001b[1m6s\u001b[0m 19ms/step\n"
          ]
        }
      ]
    },
    {
      "cell_type": "code",
      "source": [
        "import numpy as np\n",
        "import torch\n",
        "from sklearn.model_selection import KFold\n",
        "\n",
        "# Define the number of folds for k-fold cross-validation\n",
        "n_splits = 5\n",
        "\n",
        "# Initialize KFold\n",
        "kf = KFold(n_splits=n_splits, shuffle=True, random_state=42)\n",
        "\n",
        "# Initialize lists to store results for each fold\n",
        "accuracy_scores = []\n",
        "\n",
        "# Perform k-fold cross-validation\n",
        "for fold, (train_index, val_index) in enumerate(kf.split(X_train, y_train)):\n",
        "    print(f\"Fold {fold+1}/{n_splits}\")\n",
        "\n",
        "    # Split the data for the current fold\n",
        "    X_train_fold, X_val_fold = X_train.iloc[train_index], X_train.iloc[val_index]\n",
        "    y_train_fold, y_val_fold = y_train.iloc[train_index], y_train.iloc[val_index]\n",
        "\n",
        "    # 1. Tokenize and pad the data for the current fold\n",
        "    X_train_fold_seq = tokenizer.texts_to_sequences(X_train_fold)\n",
        "    X_val_fold_seq = tokenizer.texts_to_sequences(X_val_fold)\n",
        "    X_train_fold_pad = pad_sequences(X_train_fold_seq, maxlen=max_length)\n",
        "    X_val_fold_pad = pad_sequences(X_val_fold_seq, maxlen=max_length)\n",
        "\n",
        "    # 2. Convert the padded sequences to PyTorch tensors\n",
        "    X_train_tensor = torch.tensor(X_train_fold_pad, dtype=torch.long)\n",
        "    # Convert y_train_fold to numerical labels before creating a tensor\n",
        "    y_train_fold_encoded = label_encoder.fit_transform(y_train_fold)  # Encode labels numerically\n",
        "    y_train_tensor = torch.tensor(y_train_fold_encoded, dtype=torch.long)  # Create tensor with numerical labels\n",
        "    X_val_tensor = torch.tensor(X_val_fold_pad, dtype=torch.long)\n",
        "    # Convert y_val_fold to numerical labels before creating a tensor\n",
        "    y_val_fold_encoded = label_encoder.fit_transform(y_val_fold)  # Encode labels numerically\n",
        "    y_val_tensor = torch.tensor(y_val_fold_encoded, dtype=torch.long)  # Create tensor with numerical labels\n",
        "\n",
        "    train_dataset = TensorDataset(X_train_tensor, y_train_tensor)\n",
        "    train_loader = DataLoader(train_dataset, batch_size=32, shuffle=True)\n",
        "    val_dataset = TensorDataset(X_val_tensor, y_val_tensor)\n",
        "    val_loader = DataLoader(val_dataset, batch_size=32)\n",
        "\n",
        "    # Initialize a new model for each fold\n",
        "    # Define embedding_dim, hidden_dim, and output_dim here\n",
        "    embedding_dim = 128  # Example value\n",
        "    hidden_dim = 128    # Example value\n",
        "    output_dim = len(label_encoder.classes_) # Example assuming label_encoder is defined\n",
        "\n",
        "    model = LSTMClassifier(vocab_size, embedding_dim, hidden_dim, output_dim)\n",
        "    criterion = nn.CrossEntropyLoss()\n",
        "    optimizer = optim.Adam(model.parameters())\n",
        "\n",
        "\n",
        "    # Training the model using PyTorch training loop\n",
        "    num_epochs = 5  # Number of training epochs\n",
        "    for epoch in range(num_epochs):\n",
        "        model.train()  # Set the model to training mode\n",
        "        for batch_idx, (data, target) in enumerate(train_loader):\n",
        "            optimizer.zero_grad()  # Reset gradients\n",
        "            output = model(data)  # Forward pass\n",
        "            loss = criterion(output, target)  # Calculate loss\n",
        "            loss.backward()  # Backpropagate\n",
        "            optimizer.step()  # Update model parameters\n",
        "\n",
        "        # Evaluate on validation set after each epoch\n",
        "        model.eval()  # Set the model to evaluation mode\n",
        "        correct = 0\n",
        "        total = 0\n",
        "        with torch.no_grad():  # Disable gradient calculation\n",
        "            for data, target in val_loader:\n",
        "                output = model(data)\n",
        "                _, predicted = torch.max(output.data, 1)\n",
        "                total += target.size(0)\n",
        "                correct += (predicted == target).sum().item()\n",
        "\n",
        "        accuracy = correct / total\n",
        "        print(f\"Epoch {epoch+1}/{num_epochs}, Validation Accuracy: {accuracy:.4f}\")\n",
        "\n",
        "\n",
        "\n",
        "    # Evaluate the model on the validation set for the current fold\n",
        "    model.eval()\n",
        "    correct = 0\n",
        "    total = 0\n",
        "    with torch.no_grad():\n",
        "        for batch in val_loader:\n",
        "            texts, labels = batch\n",
        "            outputs = model(texts)\n",
        "            _, predicted = torch.max(outputs.data, 1)\n",
        "            total += labels.size(0)\n",
        "            correct += (predicted == labels).sum().item()\n",
        "    accuracy = correct / total\n",
        "    accuracy_scores.append(accuracy)\n",
        "    print(f\"Fold {fold + 1} accuracy: {accuracy}\")\n",
        "\n",
        "\n",
        "# Calculate and print the average accuracy across all folds\n",
        "average_accuracy = np.mean(accuracy_scores)\n",
        "print(f\"\\nAverage accuracy across {n_splits} folds: {average_accuracy}\")"
      ],
      "metadata": {
        "colab": {
          "base_uri": "https://localhost:8080/",
          "height": 443
        },
        "id": "qO8ysyvlSIjt",
        "outputId": "de92317b-c296-4f80-e06c-73d04b9bfa22"
      },
      "execution_count": null,
      "outputs": [
        {
          "output_type": "stream",
          "name": "stdout",
          "text": [
            "Fold 1/5\n",
            "Epoch 1/5, Validation Accuracy: 0.9775\n",
            "Epoch 2/5, Validation Accuracy: 0.9805\n"
          ]
        },
        {
          "output_type": "error",
          "ename": "KeyboardInterrupt",
          "evalue": "",
          "traceback": [
            "\u001b[0;31m---------------------------------------------------------------------------\u001b[0m",
            "\u001b[0;31mKeyboardInterrupt\u001b[0m                         Traceback (most recent call last)",
            "\u001b[0;32m<ipython-input-45-40216ba5e61b>\u001b[0m in \u001b[0;36m<cell line: 0>\u001b[0;34m()\u001b[0m\n\u001b[1;32m     60\u001b[0m             \u001b[0moutput\u001b[0m \u001b[0;34m=\u001b[0m \u001b[0mmodel\u001b[0m\u001b[0;34m(\u001b[0m\u001b[0mdata\u001b[0m\u001b[0;34m)\u001b[0m  \u001b[0;31m# Forward pass\u001b[0m\u001b[0;34m\u001b[0m\u001b[0;34m\u001b[0m\u001b[0m\n\u001b[1;32m     61\u001b[0m             \u001b[0mloss\u001b[0m \u001b[0;34m=\u001b[0m \u001b[0mcriterion\u001b[0m\u001b[0;34m(\u001b[0m\u001b[0moutput\u001b[0m\u001b[0;34m,\u001b[0m \u001b[0mtarget\u001b[0m\u001b[0;34m)\u001b[0m  \u001b[0;31m# Calculate loss\u001b[0m\u001b[0;34m\u001b[0m\u001b[0;34m\u001b[0m\u001b[0m\n\u001b[0;32m---> 62\u001b[0;31m             \u001b[0mloss\u001b[0m\u001b[0;34m.\u001b[0m\u001b[0mbackward\u001b[0m\u001b[0;34m(\u001b[0m\u001b[0;34m)\u001b[0m  \u001b[0;31m# Backpropagate\u001b[0m\u001b[0;34m\u001b[0m\u001b[0;34m\u001b[0m\u001b[0m\n\u001b[0m\u001b[1;32m     63\u001b[0m             \u001b[0moptimizer\u001b[0m\u001b[0;34m.\u001b[0m\u001b[0mstep\u001b[0m\u001b[0;34m(\u001b[0m\u001b[0;34m)\u001b[0m  \u001b[0;31m# Update model parameters\u001b[0m\u001b[0;34m\u001b[0m\u001b[0;34m\u001b[0m\u001b[0m\n\u001b[1;32m     64\u001b[0m \u001b[0;34m\u001b[0m\u001b[0m\n",
            "\u001b[0;32m/usr/local/lib/python3.11/dist-packages/torch/_tensor.py\u001b[0m in \u001b[0;36mbackward\u001b[0;34m(self, gradient, retain_graph, create_graph, inputs)\u001b[0m\n\u001b[1;32m    624\u001b[0m                 \u001b[0minputs\u001b[0m\u001b[0;34m=\u001b[0m\u001b[0minputs\u001b[0m\u001b[0;34m,\u001b[0m\u001b[0;34m\u001b[0m\u001b[0;34m\u001b[0m\u001b[0m\n\u001b[1;32m    625\u001b[0m             )\n\u001b[0;32m--> 626\u001b[0;31m         torch.autograd.backward(\n\u001b[0m\u001b[1;32m    627\u001b[0m             \u001b[0mself\u001b[0m\u001b[0;34m,\u001b[0m \u001b[0mgradient\u001b[0m\u001b[0;34m,\u001b[0m \u001b[0mretain_graph\u001b[0m\u001b[0;34m,\u001b[0m \u001b[0mcreate_graph\u001b[0m\u001b[0;34m,\u001b[0m \u001b[0minputs\u001b[0m\u001b[0;34m=\u001b[0m\u001b[0minputs\u001b[0m\u001b[0;34m\u001b[0m\u001b[0;34m\u001b[0m\u001b[0m\n\u001b[1;32m    628\u001b[0m         )\n",
            "\u001b[0;32m/usr/local/lib/python3.11/dist-packages/torch/autograd/__init__.py\u001b[0m in \u001b[0;36mbackward\u001b[0;34m(tensors, grad_tensors, retain_graph, create_graph, grad_variables, inputs)\u001b[0m\n\u001b[1;32m    345\u001b[0m     \u001b[0;31m# some Python versions print out the first line of a multi-line function\u001b[0m\u001b[0;34m\u001b[0m\u001b[0;34m\u001b[0m\u001b[0m\n\u001b[1;32m    346\u001b[0m     \u001b[0;31m# calls in the traceback and some print out the last line\u001b[0m\u001b[0;34m\u001b[0m\u001b[0;34m\u001b[0m\u001b[0m\n\u001b[0;32m--> 347\u001b[0;31m     _engine_run_backward(\n\u001b[0m\u001b[1;32m    348\u001b[0m         \u001b[0mtensors\u001b[0m\u001b[0;34m,\u001b[0m\u001b[0;34m\u001b[0m\u001b[0;34m\u001b[0m\u001b[0m\n\u001b[1;32m    349\u001b[0m         \u001b[0mgrad_tensors_\u001b[0m\u001b[0;34m,\u001b[0m\u001b[0;34m\u001b[0m\u001b[0;34m\u001b[0m\u001b[0m\n",
            "\u001b[0;32m/usr/local/lib/python3.11/dist-packages/torch/autograd/graph.py\u001b[0m in \u001b[0;36m_engine_run_backward\u001b[0;34m(t_outputs, *args, **kwargs)\u001b[0m\n\u001b[1;32m    821\u001b[0m         \u001b[0munregister_hooks\u001b[0m \u001b[0;34m=\u001b[0m \u001b[0m_register_logging_hooks_on_whole_graph\u001b[0m\u001b[0;34m(\u001b[0m\u001b[0mt_outputs\u001b[0m\u001b[0;34m)\u001b[0m\u001b[0;34m\u001b[0m\u001b[0;34m\u001b[0m\u001b[0m\n\u001b[1;32m    822\u001b[0m     \u001b[0;32mtry\u001b[0m\u001b[0;34m:\u001b[0m\u001b[0;34m\u001b[0m\u001b[0;34m\u001b[0m\u001b[0m\n\u001b[0;32m--> 823\u001b[0;31m         return Variable._execution_engine.run_backward(  # Calls into the C++ engine to run the backward pass\n\u001b[0m\u001b[1;32m    824\u001b[0m             \u001b[0mt_outputs\u001b[0m\u001b[0;34m,\u001b[0m \u001b[0;34m*\u001b[0m\u001b[0margs\u001b[0m\u001b[0;34m,\u001b[0m \u001b[0;34m**\u001b[0m\u001b[0mkwargs\u001b[0m\u001b[0;34m\u001b[0m\u001b[0;34m\u001b[0m\u001b[0m\n\u001b[1;32m    825\u001b[0m         )  # Calls into the C++ engine to run the backward pass\n",
            "\u001b[0;31mKeyboardInterrupt\u001b[0m: "
          ]
        }
      ]
    },
    {
      "cell_type": "markdown",
      "metadata": {
        "id": "tDBW68MqpXvt"
      },
      "source": [
        "Now what I've done below is:\n",
        "- Predict all the rows classified as Others (as they were previously **null**)\n",
        "- For the confidence scores above 0.9, classify as it is.\n",
        "- For the confidence scores between 0.6 and 0.9, leave as **null** for manual review.\n",
        "- For the confidence scores below 0.6, classify as Others.\n",
        "\n",
        "It's in documentation and can be run in HPC servers."
      ]
    },
    {
      "cell_type": "code",
      "execution_count": null,
      "metadata": {
        "id": "3CgsOK4nmTdb"
      },
      "outputs": [],
      "source": [
        "# import pandas as pd\n",
        "# import numpy as np\n",
        "# from tensorflow.keras.models import load_model\n",
        "# from tensorflow.keras.preprocessing.sequence import pad_sequences\n",
        "# import pickle\n",
        "\n",
        "# # Load the saved model, tokenizer, and label encoder\n",
        "# model = load_model('model_for_model2.h5')\n",
        "# with open('tokenizer_for_model2.pickle', 'rb') as handle:\n",
        "#     tokenizer = pickle.load(handle)\n",
        "# with open('label_encoder_for_model2.pickle', 'rb') as handle:\n",
        "#     label_encoder = pickle.load(handle)\n",
        "\n",
        "# # Load the data\n",
        "# df = pd.read_csv('processed_data2.csv')\n",
        "\n",
        "# # Prepare the data for prediction\n",
        "# max_length = 50\n",
        "# X = df['processed_title'].astype(str)\n",
        "# sequences = tokenizer.texts_to_sequences(X)\n",
        "# padded_sequences = pad_sequences(sequences, maxlen=max_length)\n",
        "\n",
        "# # Make predictions\n",
        "# predictions = model.predict(padded_sequences)\n",
        "# predicted_labels = np.argmax(predictions, axis=1)\n",
        "# predicted_categories = label_encoder.inverse_transform(predicted_labels)\n",
        "# confidence_scores = np.max(predictions, axis=1)\n",
        "\n",
        "# # Create a new column for predicted categories\n",
        "# df['predicted_category'] = predicted_categories\n",
        "# df['confidence_score'] = confidence_scores\n",
        "\n",
        "# # Apply threshold logic\n",
        "# others_indices = df[df['custom_cdo_cio_cto'] == 'Others'].index\n",
        "# for i in others_indices:\n",
        "#     if df.loc[i, 'confidence_score'] > 0.9:\n",
        "#       # Classify as the majority confidence score\n",
        "#         df.loc[i, 'custom_cdo_cio_cto'] = df.loc[i, 'predicted_category']\n",
        "#     elif 0.6 <= df.loc[i, 'confidence_score'] < 0.9:\n",
        "#       # Remove classification and mark as missing\n",
        "#         df.loc[i, 'custom_cdo_cio_cto'] = np.nan\n",
        "#     else:\n",
        "#         # Classify as Others\n",
        "#         df.loc[i, 'custom_cdo_cio_cto'] = 'Others'\n",
        "\n",
        "# # Create subset DataFrame for predictions\n",
        "# predictions_df = df.loc[others_indices, ['processed_title', 'predicted_category', 'confidence_score', 'custom_cdo_cio_cto']].copy()\n",
        "\n",
        "# # Save the subset DataFrame\n",
        "# predictions_df.to_csv('Predictions_for_model2.csv', index=False)\n",
        "\n",
        "# # Save the updated DataFrame\n",
        "# df.to_csv('predicted_dataset_for_model2.csv', index=False)\n"
      ]
    },
    {
      "cell_type": "code",
      "execution_count": null,
      "metadata": {
        "colab": {
          "base_uri": "https://localhost:8080/"
        },
        "id": "B2wEx4g34Fnt",
        "outputId": "bc2352af-9a70-4057-ba26-78224f930aac"
      },
      "outputs": [
        {
          "name": "stderr",
          "output_type": "stream",
          "text": [
            "WARNING:absl:Compiled the loaded model, but the compiled metrics have yet to be built. `model.compile_metrics` will be empty until you train or evaluate the model.\n"
          ]
        },
        {
          "name": "stdout",
          "output_type": "stream",
          "text": [
            "\u001b[1m1/1\u001b[0m \u001b[32m━━━━━━━━━━━━━━━━━━━━\u001b[0m\u001b[37m\u001b[0m \u001b[1m0s\u001b[0m 279ms/step\n",
            "Description: Chief Data Officer, Predicted Category: CDO, Confidence: 0.9990630745887756\n"
          ]
        }
      ],
      "source": [
        "import pandas as pd\n",
        "import numpy as np\n",
        "from tensorflow.keras.models import load_model\n",
        "from tensorflow.keras.preprocessing.sequence import pad_sequences\n",
        "import pickle\n",
        "\n",
        "# Load the saved model, tokenizer, and label encoder\n",
        "model = load_model('model_for_model2.h5')\n",
        "with open('tokenizer_for_model2.pickle', 'rb') as handle:\n",
        "    tokenizer = pickle.load(handle)\n",
        "with open('label_encoder_for_model2.pickle', 'rb') as handle:\n",
        "    label_encoder = pickle.load(handle)\n",
        "\n",
        "# Sample description\n",
        "sample_description = \"Chief Data Officer\"\n",
        "\n",
        "# Preprocess the sample description\n",
        "max_length = 50  # Ensure this matches the max_length used during training\n",
        "test_sequences = tokenizer.texts_to_sequences([sample_description])\n",
        "test_padded = pad_sequences(test_sequences, maxlen=max_length)\n",
        "\n",
        "# Make prediction\n",
        "prediction = model.predict(test_padded)\n",
        "predicted_label = np.argmax(prediction, axis=1)[0]\n",
        "predicted_category = label_encoder.inverse_transform([predicted_label])[0]\n",
        "confidence_score = np.max(prediction, axis=1)[0]\n",
        "\n",
        "# Apply confidence threshold\n",
        "upper_threshold = 0.9\n",
        "lower_threshold = 0.6\n",
        "\n",
        "if confidence_score > upper_threshold:\n",
        "  print(f\"Description: {sample_description}, Predicted Category: {predicted_category}, Confidence: {confidence_score}\")\n",
        "elif confidence_score < lower_threshold:\n",
        "  print(f\"Description: {sample_description}, Predicted Category: Others, Confidence: {confidence_score}\")\n",
        "else:\n",
        "  print(f\"Description: {sample_description}, Prediction uncertain (confidence: {confidence_score}).\")"
      ]
    },
    {
      "cell_type": "code",
      "execution_count": null,
      "metadata": {
        "colab": {
          "base_uri": "https://localhost:8080/",
          "height": 1000
        },
        "id": "mWDxVi6d6nlO",
        "outputId": "04ac1dcd-d66c-49b5-a71b-d4a26651c188"
      },
      "outputs": [
        {
          "data": {
            "application/vnd.google.colaboratory.intrinsic+json": {
              "type": "dataframe",
              "variable_name": "df"
            },
            "text/html": [
              "\n",
              "  <div id=\"df-40b442e3-b2f6-4836-a8fa-0cebb5d5779a\" class=\"colab-df-container\">\n",
              "    <div>\n",
              "<style scoped>\n",
              "    .dataframe tbody tr th:only-of-type {\n",
              "        vertical-align: middle;\n",
              "    }\n",
              "\n",
              "    .dataframe tbody tr th {\n",
              "        vertical-align: top;\n",
              "    }\n",
              "\n",
              "    .dataframe thead th {\n",
              "        text-align: right;\n",
              "    }\n",
              "</style>\n",
              "<table border=\"1\" class=\"dataframe\">\n",
              "  <thead>\n",
              "    <tr style=\"text-align: right;\">\n",
              "      <th></th>\n",
              "      <th>title</th>\n",
              "      <th>processed_title</th>\n",
              "      <th>custom_cdo_cio_cto</th>\n",
              "      <th>predicted_category</th>\n",
              "      <th>confidence_score</th>\n",
              "    </tr>\n",
              "  </thead>\n",
              "  <tbody>\n",
              "    <tr>\n",
              "      <th>0</th>\n",
              "      <td>VP Digital Transformation DevOps</td>\n",
              "      <td>vp digital transformation devops</td>\n",
              "      <td>Others</td>\n",
              "      <td>Others</td>\n",
              "      <td>0.980263</td>\n",
              "    </tr>\n",
              "    <tr>\n",
              "      <th>1</th>\n",
              "      <td>Senior Patent Attorney</td>\n",
              "      <td>senior patent attorney</td>\n",
              "      <td>Others</td>\n",
              "      <td>Others</td>\n",
              "      <td>0.530153</td>\n",
              "    </tr>\n",
              "    <tr>\n",
              "      <th>2</th>\n",
              "      <td>Assistant Professor, School of Engineering</td>\n",
              "      <td>assistant professor school engineering</td>\n",
              "      <td>Others</td>\n",
              "      <td>Others</td>\n",
              "      <td>0.979825</td>\n",
              "    </tr>\n",
              "    <tr>\n",
              "      <th>3</th>\n",
              "      <td>Engineering Director, Software Products, Elect...</td>\n",
              "      <td>engineering director software product electrolux</td>\n",
              "      <td>Others</td>\n",
              "      <td>Others</td>\n",
              "      <td>0.999420</td>\n",
              "    </tr>\n",
              "    <tr>\n",
              "      <th>4</th>\n",
              "      <td>MS Data Science Graduating Student</td>\n",
              "      <td>m data science graduating student</td>\n",
              "      <td>Others</td>\n",
              "      <td>Others</td>\n",
              "      <td>0.999150</td>\n",
              "    </tr>\n",
              "    <tr>\n",
              "      <th>5</th>\n",
              "      <td>Deputy director</td>\n",
              "      <td>deputy director</td>\n",
              "      <td>Others</td>\n",
              "      <td>Others</td>\n",
              "      <td>0.999755</td>\n",
              "    </tr>\n",
              "    <tr>\n",
              "      <th>6</th>\n",
              "      <td>Engineer Lead</td>\n",
              "      <td>engineer lead</td>\n",
              "      <td>NaN</td>\n",
              "      <td>Others</td>\n",
              "      <td>0.879896</td>\n",
              "    </tr>\n",
              "    <tr>\n",
              "      <th>7</th>\n",
              "      <td>Data Officer</td>\n",
              "      <td>data officer</td>\n",
              "      <td>Others</td>\n",
              "      <td>CTO</td>\n",
              "      <td>0.467510</td>\n",
              "    </tr>\n",
              "    <tr>\n",
              "      <th>8</th>\n",
              "      <td>Lead Frontend Engineer</td>\n",
              "      <td>lead frontend engineer</td>\n",
              "      <td>Others</td>\n",
              "      <td>Others</td>\n",
              "      <td>0.999420</td>\n",
              "    </tr>\n",
              "    <tr>\n",
              "      <th>9</th>\n",
              "      <td>Regional Sales Director, Japac</td>\n",
              "      <td>regional sale director japac</td>\n",
              "      <td>Others</td>\n",
              "      <td>Others</td>\n",
              "      <td>0.999900</td>\n",
              "    </tr>\n",
              "    <tr>\n",
              "      <th>10</th>\n",
              "      <td>Application Manager SAP BW | BI</td>\n",
              "      <td>application manager sap bw bi</td>\n",
              "      <td>Others</td>\n",
              "      <td>Others</td>\n",
              "      <td>0.999422</td>\n",
              "    </tr>\n",
              "    <tr>\n",
              "      <th>11</th>\n",
              "      <td>Associate Director, Data Operations &amp; Governance</td>\n",
              "      <td>associate director data operation governance</td>\n",
              "      <td>Others</td>\n",
              "      <td>Others</td>\n",
              "      <td>0.999956</td>\n",
              "    </tr>\n",
              "    <tr>\n",
              "      <th>12</th>\n",
              "      <td>Innovation, Senior Manager, Business Process I...</td>\n",
              "      <td>innovation senior manager business process imp...</td>\n",
              "      <td>Others</td>\n",
              "      <td>Others</td>\n",
              "      <td>0.999055</td>\n",
              "    </tr>\n",
              "    <tr>\n",
              "      <th>13</th>\n",
              "      <td>SWE</td>\n",
              "      <td>swe</td>\n",
              "      <td>Others</td>\n",
              "      <td>Others</td>\n",
              "      <td>0.486942</td>\n",
              "    </tr>\n",
              "    <tr>\n",
              "      <th>14</th>\n",
              "      <td>Nn</td>\n",
              "      <td>nn</td>\n",
              "      <td>Others</td>\n",
              "      <td>Others</td>\n",
              "      <td>0.486942</td>\n",
              "    </tr>\n",
              "    <tr>\n",
              "      <th>15</th>\n",
              "      <td>Python Developer</td>\n",
              "      <td>python developer</td>\n",
              "      <td>Others</td>\n",
              "      <td>Others</td>\n",
              "      <td>0.992798</td>\n",
              "    </tr>\n",
              "    <tr>\n",
              "      <th>16</th>\n",
              "      <td>Director Business Development</td>\n",
              "      <td>director business development</td>\n",
              "      <td>Others</td>\n",
              "      <td>Others</td>\n",
              "      <td>0.997213</td>\n",
              "    </tr>\n",
              "    <tr>\n",
              "      <th>17</th>\n",
              "      <td>Product Manager Automotive</td>\n",
              "      <td>product manager automotive</td>\n",
              "      <td>Others</td>\n",
              "      <td>Others</td>\n",
              "      <td>0.999201</td>\n",
              "    </tr>\n",
              "    <tr>\n",
              "      <th>18</th>\n",
              "      <td>Senior Claims Technical Expert in Global P&amp;c</td>\n",
              "      <td>senior claim technical expert global pc</td>\n",
              "      <td>NaN</td>\n",
              "      <td>CTO</td>\n",
              "      <td>0.723063</td>\n",
              "    </tr>\n",
              "    <tr>\n",
              "      <th>19</th>\n",
              "      <td>Big Daddy</td>\n",
              "      <td>big daddy</td>\n",
              "      <td>NaN</td>\n",
              "      <td>Others</td>\n",
              "      <td>0.814356</td>\n",
              "    </tr>\n",
              "    <tr>\n",
              "      <th>20</th>\n",
              "      <td>Responsable de l'efficacité opérationnelle - C...</td>\n",
              "      <td>responsable de lefficacit oprationnelle conformit</td>\n",
              "      <td>Others</td>\n",
              "      <td>Others</td>\n",
              "      <td>0.994268</td>\n",
              "    </tr>\n",
              "    <tr>\n",
              "      <th>21</th>\n",
              "      <td>Conseil stratégique</td>\n",
              "      <td>conseil stratgique</td>\n",
              "      <td>Others</td>\n",
              "      <td>Others</td>\n",
              "      <td>0.486942</td>\n",
              "    </tr>\n",
              "    <tr>\n",
              "      <th>22</th>\n",
              "      <td>fiil</td>\n",
              "      <td>fiil</td>\n",
              "      <td>Others</td>\n",
              "      <td>Others</td>\n",
              "      <td>0.486942</td>\n",
              "    </tr>\n",
              "    <tr>\n",
              "      <th>23</th>\n",
              "      <td>Digital Manufacturing Supply Chain 4.0 Project...</td>\n",
              "      <td>digital manufacturing supply chain 40 project lea</td>\n",
              "      <td>Others</td>\n",
              "      <td>Others</td>\n",
              "      <td>0.988890</td>\n",
              "    </tr>\n",
              "    <tr>\n",
              "      <th>24</th>\n",
              "      <td>Architrecte</td>\n",
              "      <td>architrecte</td>\n",
              "      <td>Others</td>\n",
              "      <td>Others</td>\n",
              "      <td>0.486942</td>\n",
              "    </tr>\n",
              "    <tr>\n",
              "      <th>25</th>\n",
              "      <td>Digital Architect</td>\n",
              "      <td>digital architect</td>\n",
              "      <td>Others</td>\n",
              "      <td>Others</td>\n",
              "      <td>0.994608</td>\n",
              "    </tr>\n",
              "    <tr>\n",
              "      <th>26</th>\n",
              "      <td>Group Head of Data Management | Governance | M...</td>\n",
              "      <td>group head data management governance monetiza...</td>\n",
              "      <td>Others</td>\n",
              "      <td>Others</td>\n",
              "      <td>0.989046</td>\n",
              "    </tr>\n",
              "    <tr>\n",
              "      <th>27</th>\n",
              "      <td>Directeur Produit Data</td>\n",
              "      <td>directeur produit data</td>\n",
              "      <td>Others</td>\n",
              "      <td>Others</td>\n",
              "      <td>0.999827</td>\n",
              "    </tr>\n",
              "    <tr>\n",
              "      <th>28</th>\n",
              "      <td>Big Data Solutions Architect</td>\n",
              "      <td>big data solution architect</td>\n",
              "      <td>Others</td>\n",
              "      <td>Others</td>\n",
              "      <td>0.999565</td>\n",
              "    </tr>\n",
              "    <tr>\n",
              "      <th>29</th>\n",
              "      <td>Project manager and data scientist</td>\n",
              "      <td>project manager data scientist</td>\n",
              "      <td>Others</td>\n",
              "      <td>Others</td>\n",
              "      <td>0.999938</td>\n",
              "    </tr>\n",
              "    <tr>\n",
              "      <th>30</th>\n",
              "      <td>Data scientist - Software Engineer</td>\n",
              "      <td>data scientist software engineer</td>\n",
              "      <td>Others</td>\n",
              "      <td>Others</td>\n",
              "      <td>0.997403</td>\n",
              "    </tr>\n",
              "    <tr>\n",
              "      <th>31</th>\n",
              "      <td>Manager, Asset Liability Management</td>\n",
              "      <td>manager asset liability management</td>\n",
              "      <td>Others</td>\n",
              "      <td>Others</td>\n",
              "      <td>0.999769</td>\n",
              "    </tr>\n",
              "    <tr>\n",
              "      <th>32</th>\n",
              "      <td>Medical Sales Product Demostrative</td>\n",
              "      <td>medical sale product demostrative</td>\n",
              "      <td>Others</td>\n",
              "      <td>CIO</td>\n",
              "      <td>0.586852</td>\n",
              "    </tr>\n",
              "    <tr>\n",
              "      <th>33</th>\n",
              "      <td>Linnet</td>\n",
              "      <td>linnet</td>\n",
              "      <td>Others</td>\n",
              "      <td>Others</td>\n",
              "      <td>0.486942</td>\n",
              "    </tr>\n",
              "    <tr>\n",
              "      <th>34</th>\n",
              "      <td>Jodee</td>\n",
              "      <td>jodee</td>\n",
              "      <td>Others</td>\n",
              "      <td>Others</td>\n",
              "      <td>0.486942</td>\n",
              "    </tr>\n",
              "    <tr>\n",
              "      <th>35</th>\n",
              "      <td>ezayjccp</td>\n",
              "      <td>ezayjccp</td>\n",
              "      <td>Others</td>\n",
              "      <td>Others</td>\n",
              "      <td>0.486942</td>\n",
              "    </tr>\n",
              "    <tr>\n",
              "      <th>36</th>\n",
              "      <td>gcdaie</td>\n",
              "      <td>gcdaie</td>\n",
              "      <td>Others</td>\n",
              "      <td>Others</td>\n",
              "      <td>0.486942</td>\n",
              "    </tr>\n",
              "    <tr>\n",
              "      <th>37</th>\n",
              "      <td>bxnojr</td>\n",
              "      <td>bxnojr</td>\n",
              "      <td>Others</td>\n",
              "      <td>Others</td>\n",
              "      <td>0.486942</td>\n",
              "    </tr>\n",
              "    <tr>\n",
              "      <th>38</th>\n",
              "      <td>Business Project Manager</td>\n",
              "      <td>business project manager</td>\n",
              "      <td>Others</td>\n",
              "      <td>Others</td>\n",
              "      <td>0.999759</td>\n",
              "    </tr>\n",
              "    <tr>\n",
              "      <th>39</th>\n",
              "      <td>Okokokk</td>\n",
              "      <td>okokokk</td>\n",
              "      <td>Others</td>\n",
              "      <td>Others</td>\n",
              "      <td>0.486942</td>\n",
              "    </tr>\n",
              "    <tr>\n",
              "      <th>40</th>\n",
              "      <td>irryoyzp</td>\n",
              "      <td>irryoyzp</td>\n",
              "      <td>Others</td>\n",
              "      <td>Others</td>\n",
              "      <td>0.486942</td>\n",
              "    </tr>\n",
              "    <tr>\n",
              "      <th>41</th>\n",
              "      <td>sikp7dalbk</td>\n",
              "      <td>sikp7dalbk</td>\n",
              "      <td>Others</td>\n",
              "      <td>Others</td>\n",
              "      <td>0.486942</td>\n",
              "    </tr>\n",
              "    <tr>\n",
              "      <th>42</th>\n",
              "      <td>wbspwx</td>\n",
              "      <td>wbspwx</td>\n",
              "      <td>Others</td>\n",
              "      <td>Others</td>\n",
              "      <td>0.486942</td>\n",
              "    </tr>\n",
              "    <tr>\n",
              "      <th>43</th>\n",
              "      <td>MiMbxileL</td>\n",
              "      <td>mimbxilel</td>\n",
              "      <td>Others</td>\n",
              "      <td>Others</td>\n",
              "      <td>0.486942</td>\n",
              "    </tr>\n",
              "    <tr>\n",
              "      <th>44</th>\n",
              "      <td>tzrscihNZ</td>\n",
              "      <td>tzrscihnz</td>\n",
              "      <td>Others</td>\n",
              "      <td>Others</td>\n",
              "      <td>0.486942</td>\n",
              "    </tr>\n",
              "    <tr>\n",
              "      <th>45</th>\n",
              "      <td>mfucvw</td>\n",
              "      <td>mfucvw</td>\n",
              "      <td>Others</td>\n",
              "      <td>Others</td>\n",
              "      <td>0.486942</td>\n",
              "    </tr>\n",
              "    <tr>\n",
              "      <th>46</th>\n",
              "      <td>Bi developer</td>\n",
              "      <td>bi developer</td>\n",
              "      <td>Others</td>\n",
              "      <td>Others</td>\n",
              "      <td>0.995965</td>\n",
              "    </tr>\n",
              "    <tr>\n",
              "      <th>47</th>\n",
              "      <td>Audit Partner</td>\n",
              "      <td>audit partner</td>\n",
              "      <td>Others</td>\n",
              "      <td>Others</td>\n",
              "      <td>0.992660</td>\n",
              "    </tr>\n",
              "    <tr>\n",
              "      <th>48</th>\n",
              "      <td>PR</td>\n",
              "      <td>pr</td>\n",
              "      <td>Others</td>\n",
              "      <td>Others</td>\n",
              "      <td>0.997687</td>\n",
              "    </tr>\n",
              "    <tr>\n",
              "      <th>49</th>\n",
              "      <td>Senior Principal, Product Management (Senior D...</td>\n",
              "      <td>senior principal product management senior dir...</td>\n",
              "      <td>Others</td>\n",
              "      <td>Others</td>\n",
              "      <td>0.999173</td>\n",
              "    </tr>\n",
              "  </tbody>\n",
              "</table>\n",
              "</div>\n",
              "    <div class=\"colab-df-buttons\">\n",
              "\n",
              "  <div class=\"colab-df-container\">\n",
              "    <button class=\"colab-df-convert\" onclick=\"convertToInteractive('df-40b442e3-b2f6-4836-a8fa-0cebb5d5779a')\"\n",
              "            title=\"Convert this dataframe to an interactive table.\"\n",
              "            style=\"display:none;\">\n",
              "\n",
              "  <svg xmlns=\"http://www.w3.org/2000/svg\" height=\"24px\" viewBox=\"0 -960 960 960\">\n",
              "    <path d=\"M120-120v-720h720v720H120Zm60-500h600v-160H180v160Zm220 220h160v-160H400v160Zm0 220h160v-160H400v160ZM180-400h160v-160H180v160Zm440 0h160v-160H620v160ZM180-180h160v-160H180v160Zm440 0h160v-160H620v160Z\"/>\n",
              "  </svg>\n",
              "    </button>\n",
              "\n",
              "  <style>\n",
              "    .colab-df-container {\n",
              "      display:flex;\n",
              "      gap: 12px;\n",
              "    }\n",
              "\n",
              "    .colab-df-convert {\n",
              "      background-color: #E8F0FE;\n",
              "      border: none;\n",
              "      border-radius: 50%;\n",
              "      cursor: pointer;\n",
              "      display: none;\n",
              "      fill: #1967D2;\n",
              "      height: 32px;\n",
              "      padding: 0 0 0 0;\n",
              "      width: 32px;\n",
              "    }\n",
              "\n",
              "    .colab-df-convert:hover {\n",
              "      background-color: #E2EBFA;\n",
              "      box-shadow: 0px 1px 2px rgba(60, 64, 67, 0.3), 0px 1px 3px 1px rgba(60, 64, 67, 0.15);\n",
              "      fill: #174EA6;\n",
              "    }\n",
              "\n",
              "    .colab-df-buttons div {\n",
              "      margin-bottom: 4px;\n",
              "    }\n",
              "\n",
              "    [theme=dark] .colab-df-convert {\n",
              "      background-color: #3B4455;\n",
              "      fill: #D2E3FC;\n",
              "    }\n",
              "\n",
              "    [theme=dark] .colab-df-convert:hover {\n",
              "      background-color: #434B5C;\n",
              "      box-shadow: 0px 1px 3px 1px rgba(0, 0, 0, 0.15);\n",
              "      filter: drop-shadow(0px 1px 2px rgba(0, 0, 0, 0.3));\n",
              "      fill: #FFFFFF;\n",
              "    }\n",
              "  </style>\n",
              "\n",
              "    <script>\n",
              "      const buttonEl =\n",
              "        document.querySelector('#df-40b442e3-b2f6-4836-a8fa-0cebb5d5779a button.colab-df-convert');\n",
              "      buttonEl.style.display =\n",
              "        google.colab.kernel.accessAllowed ? 'block' : 'none';\n",
              "\n",
              "      async function convertToInteractive(key) {\n",
              "        const element = document.querySelector('#df-40b442e3-b2f6-4836-a8fa-0cebb5d5779a');\n",
              "        const dataTable =\n",
              "          await google.colab.kernel.invokeFunction('convertToInteractive',\n",
              "                                                    [key], {});\n",
              "        if (!dataTable) return;\n",
              "\n",
              "        const docLinkHtml = 'Like what you see? Visit the ' +\n",
              "          '<a target=\"_blank\" href=https://colab.research.google.com/notebooks/data_table.ipynb>data table notebook</a>'\n",
              "          + ' to learn more about interactive tables.';\n",
              "        element.innerHTML = '';\n",
              "        dataTable['output_type'] = 'display_data';\n",
              "        await google.colab.output.renderOutput(dataTable, element);\n",
              "        const docLink = document.createElement('div');\n",
              "        docLink.innerHTML = docLinkHtml;\n",
              "        element.appendChild(docLink);\n",
              "      }\n",
              "    </script>\n",
              "  </div>\n",
              "\n",
              "\n",
              "<div id=\"df-86eb597a-ac32-433e-962d-6525bbe95e66\">\n",
              "  <button class=\"colab-df-quickchart\" onclick=\"quickchart('df-86eb597a-ac32-433e-962d-6525bbe95e66')\"\n",
              "            title=\"Suggest charts\"\n",
              "            style=\"display:none;\">\n",
              "\n",
              "<svg xmlns=\"http://www.w3.org/2000/svg\" height=\"24px\"viewBox=\"0 0 24 24\"\n",
              "     width=\"24px\">\n",
              "    <g>\n",
              "        <path d=\"M19 3H5c-1.1 0-2 .9-2 2v14c0 1.1.9 2 2 2h14c1.1 0 2-.9 2-2V5c0-1.1-.9-2-2-2zM9 17H7v-7h2v7zm4 0h-2V7h2v10zm4 0h-2v-4h2v4z\"/>\n",
              "    </g>\n",
              "</svg>\n",
              "  </button>\n",
              "\n",
              "<style>\n",
              "  .colab-df-quickchart {\n",
              "      --bg-color: #E8F0FE;\n",
              "      --fill-color: #1967D2;\n",
              "      --hover-bg-color: #E2EBFA;\n",
              "      --hover-fill-color: #174EA6;\n",
              "      --disabled-fill-color: #AAA;\n",
              "      --disabled-bg-color: #DDD;\n",
              "  }\n",
              "\n",
              "  [theme=dark] .colab-df-quickchart {\n",
              "      --bg-color: #3B4455;\n",
              "      --fill-color: #D2E3FC;\n",
              "      --hover-bg-color: #434B5C;\n",
              "      --hover-fill-color: #FFFFFF;\n",
              "      --disabled-bg-color: #3B4455;\n",
              "      --disabled-fill-color: #666;\n",
              "  }\n",
              "\n",
              "  .colab-df-quickchart {\n",
              "    background-color: var(--bg-color);\n",
              "    border: none;\n",
              "    border-radius: 50%;\n",
              "    cursor: pointer;\n",
              "    display: none;\n",
              "    fill: var(--fill-color);\n",
              "    height: 32px;\n",
              "    padding: 0;\n",
              "    width: 32px;\n",
              "  }\n",
              "\n",
              "  .colab-df-quickchart:hover {\n",
              "    background-color: var(--hover-bg-color);\n",
              "    box-shadow: 0 1px 2px rgba(60, 64, 67, 0.3), 0 1px 3px 1px rgba(60, 64, 67, 0.15);\n",
              "    fill: var(--button-hover-fill-color);\n",
              "  }\n",
              "\n",
              "  .colab-df-quickchart-complete:disabled,\n",
              "  .colab-df-quickchart-complete:disabled:hover {\n",
              "    background-color: var(--disabled-bg-color);\n",
              "    fill: var(--disabled-fill-color);\n",
              "    box-shadow: none;\n",
              "  }\n",
              "\n",
              "  .colab-df-spinner {\n",
              "    border: 2px solid var(--fill-color);\n",
              "    border-color: transparent;\n",
              "    border-bottom-color: var(--fill-color);\n",
              "    animation:\n",
              "      spin 1s steps(1) infinite;\n",
              "  }\n",
              "\n",
              "  @keyframes spin {\n",
              "    0% {\n",
              "      border-color: transparent;\n",
              "      border-bottom-color: var(--fill-color);\n",
              "      border-left-color: var(--fill-color);\n",
              "    }\n",
              "    20% {\n",
              "      border-color: transparent;\n",
              "      border-left-color: var(--fill-color);\n",
              "      border-top-color: var(--fill-color);\n",
              "    }\n",
              "    30% {\n",
              "      border-color: transparent;\n",
              "      border-left-color: var(--fill-color);\n",
              "      border-top-color: var(--fill-color);\n",
              "      border-right-color: var(--fill-color);\n",
              "    }\n",
              "    40% {\n",
              "      border-color: transparent;\n",
              "      border-right-color: var(--fill-color);\n",
              "      border-top-color: var(--fill-color);\n",
              "    }\n",
              "    60% {\n",
              "      border-color: transparent;\n",
              "      border-right-color: var(--fill-color);\n",
              "    }\n",
              "    80% {\n",
              "      border-color: transparent;\n",
              "      border-right-color: var(--fill-color);\n",
              "      border-bottom-color: var(--fill-color);\n",
              "    }\n",
              "    90% {\n",
              "      border-color: transparent;\n",
              "      border-bottom-color: var(--fill-color);\n",
              "    }\n",
              "  }\n",
              "</style>\n",
              "\n",
              "  <script>\n",
              "    async function quickchart(key) {\n",
              "      const quickchartButtonEl =\n",
              "        document.querySelector('#' + key + ' button');\n",
              "      quickchartButtonEl.disabled = true;  // To prevent multiple clicks.\n",
              "      quickchartButtonEl.classList.add('colab-df-spinner');\n",
              "      try {\n",
              "        const charts = await google.colab.kernel.invokeFunction(\n",
              "            'suggestCharts', [key], {});\n",
              "      } catch (error) {\n",
              "        console.error('Error during call to suggestCharts:', error);\n",
              "      }\n",
              "      quickchartButtonEl.classList.remove('colab-df-spinner');\n",
              "      quickchartButtonEl.classList.add('colab-df-quickchart-complete');\n",
              "    }\n",
              "    (() => {\n",
              "      let quickchartButtonEl =\n",
              "        document.querySelector('#df-86eb597a-ac32-433e-962d-6525bbe95e66 button');\n",
              "      quickchartButtonEl.style.display =\n",
              "        google.colab.kernel.accessAllowed ? 'block' : 'none';\n",
              "    })();\n",
              "  </script>\n",
              "</div>\n",
              "\n",
              "    </div>\n",
              "  </div>\n"
            ],
            "text/plain": [
              "                                                title  \\\n",
              "0                    VP Digital Transformation DevOps   \n",
              "1                              Senior Patent Attorney   \n",
              "2          Assistant Professor, School of Engineering   \n",
              "3   Engineering Director, Software Products, Elect...   \n",
              "4                  MS Data Science Graduating Student   \n",
              "5                                     Deputy director   \n",
              "6                                       Engineer Lead   \n",
              "7                                        Data Officer   \n",
              "8                              Lead Frontend Engineer   \n",
              "9                      Regional Sales Director, Japac   \n",
              "10                    Application Manager SAP BW | BI   \n",
              "11   Associate Director, Data Operations & Governance   \n",
              "12  Innovation, Senior Manager, Business Process I...   \n",
              "13                                                SWE   \n",
              "14                                                 Nn   \n",
              "15                                   Python Developer   \n",
              "16                      Director Business Development   \n",
              "17                         Product Manager Automotive   \n",
              "18       Senior Claims Technical Expert in Global P&c   \n",
              "19                                          Big Daddy   \n",
              "20  Responsable de l'efficacité opérationnelle - C...   \n",
              "21                                Conseil stratégique   \n",
              "22                                               fiil   \n",
              "23  Digital Manufacturing Supply Chain 4.0 Project...   \n",
              "24                                        Architrecte   \n",
              "25                                  Digital Architect   \n",
              "26  Group Head of Data Management | Governance | M...   \n",
              "27                             Directeur Produit Data   \n",
              "28                       Big Data Solutions Architect   \n",
              "29                 Project manager and data scientist   \n",
              "30                 Data scientist - Software Engineer   \n",
              "31                Manager, Asset Liability Management   \n",
              "32                 Medical Sales Product Demostrative   \n",
              "33                                             Linnet   \n",
              "34                                              Jodee   \n",
              "35                                           ezayjccp   \n",
              "36                                             gcdaie   \n",
              "37                                             bxnojr   \n",
              "38                           Business Project Manager   \n",
              "39                                            Okokokk   \n",
              "40                                           irryoyzp   \n",
              "41                                         sikp7dalbk   \n",
              "42                                             wbspwx   \n",
              "43                                          MiMbxileL   \n",
              "44                                          tzrscihNZ   \n",
              "45                                             mfucvw   \n",
              "46                                       Bi developer   \n",
              "47                                      Audit Partner   \n",
              "48                                                 PR   \n",
              "49  Senior Principal, Product Management (Senior D...   \n",
              "\n",
              "                                      processed_title custom_cdo_cio_cto  \\\n",
              "0                    vp digital transformation devops             Others   \n",
              "1                              senior patent attorney             Others   \n",
              "2              assistant professor school engineering             Others   \n",
              "3    engineering director software product electrolux             Others   \n",
              "4                   m data science graduating student             Others   \n",
              "5                                     deputy director             Others   \n",
              "6                                       engineer lead                NaN   \n",
              "7                                        data officer             Others   \n",
              "8                              lead frontend engineer             Others   \n",
              "9                        regional sale director japac             Others   \n",
              "10                      application manager sap bw bi             Others   \n",
              "11       associate director data operation governance             Others   \n",
              "12  innovation senior manager business process imp...             Others   \n",
              "13                                                swe             Others   \n",
              "14                                                 nn             Others   \n",
              "15                                   python developer             Others   \n",
              "16                      director business development             Others   \n",
              "17                         product manager automotive             Others   \n",
              "18            senior claim technical expert global pc                NaN   \n",
              "19                                          big daddy                NaN   \n",
              "20  responsable de lefficacit oprationnelle conformit             Others   \n",
              "21                                 conseil stratgique             Others   \n",
              "22                                               fiil             Others   \n",
              "23  digital manufacturing supply chain 40 project lea             Others   \n",
              "24                                        architrecte             Others   \n",
              "25                                  digital architect             Others   \n",
              "26  group head data management governance monetiza...             Others   \n",
              "27                             directeur produit data             Others   \n",
              "28                        big data solution architect             Others   \n",
              "29                     project manager data scientist             Others   \n",
              "30                   data scientist software engineer             Others   \n",
              "31                 manager asset liability management             Others   \n",
              "32                  medical sale product demostrative             Others   \n",
              "33                                             linnet             Others   \n",
              "34                                              jodee             Others   \n",
              "35                                           ezayjccp             Others   \n",
              "36                                             gcdaie             Others   \n",
              "37                                             bxnojr             Others   \n",
              "38                           business project manager             Others   \n",
              "39                                            okokokk             Others   \n",
              "40                                           irryoyzp             Others   \n",
              "41                                         sikp7dalbk             Others   \n",
              "42                                             wbspwx             Others   \n",
              "43                                          mimbxilel             Others   \n",
              "44                                          tzrscihnz             Others   \n",
              "45                                             mfucvw             Others   \n",
              "46                                       bi developer             Others   \n",
              "47                                      audit partner             Others   \n",
              "48                                                 pr             Others   \n",
              "49  senior principal product management senior dir...             Others   \n",
              "\n",
              "   predicted_category  confidence_score  \n",
              "0              Others          0.980263  \n",
              "1              Others          0.530153  \n",
              "2              Others          0.979825  \n",
              "3              Others          0.999420  \n",
              "4              Others          0.999150  \n",
              "5              Others          0.999755  \n",
              "6              Others          0.879896  \n",
              "7                 CTO          0.467510  \n",
              "8              Others          0.999420  \n",
              "9              Others          0.999900  \n",
              "10             Others          0.999422  \n",
              "11             Others          0.999956  \n",
              "12             Others          0.999055  \n",
              "13             Others          0.486942  \n",
              "14             Others          0.486942  \n",
              "15             Others          0.992798  \n",
              "16             Others          0.997213  \n",
              "17             Others          0.999201  \n",
              "18                CTO          0.723063  \n",
              "19             Others          0.814356  \n",
              "20             Others          0.994268  \n",
              "21             Others          0.486942  \n",
              "22             Others          0.486942  \n",
              "23             Others          0.988890  \n",
              "24             Others          0.486942  \n",
              "25             Others          0.994608  \n",
              "26             Others          0.989046  \n",
              "27             Others          0.999827  \n",
              "28             Others          0.999565  \n",
              "29             Others          0.999938  \n",
              "30             Others          0.997403  \n",
              "31             Others          0.999769  \n",
              "32                CIO          0.586852  \n",
              "33             Others          0.486942  \n",
              "34             Others          0.486942  \n",
              "35             Others          0.486942  \n",
              "36             Others          0.486942  \n",
              "37             Others          0.486942  \n",
              "38             Others          0.999759  \n",
              "39             Others          0.486942  \n",
              "40             Others          0.486942  \n",
              "41             Others          0.486942  \n",
              "42             Others          0.486942  \n",
              "43             Others          0.486942  \n",
              "44             Others          0.486942  \n",
              "45             Others          0.486942  \n",
              "46             Others          0.995965  \n",
              "47             Others          0.992660  \n",
              "48             Others          0.997687  \n",
              "49             Others          0.999173  "
            ]
          },
          "execution_count": 30,
          "metadata": {},
          "output_type": "execute_result"
        }
      ],
      "source": [
        "df.head(50)"
      ]
    },
    {
      "cell_type": "code",
      "source": [
        "from tensorflow.keras.models import load_model\n",
        "from tensorflow.keras.preprocessing.sequence import pad_sequences\n",
        "import pickle\n",
        "import numpy as np\n",
        "\n",
        "# Load the saved model, tokenizer, and label encoder\n",
        "model = load_model('model_for_model2.h5')\n",
        "with open('tokenizer_for_model2.pickle', 'rb') as handle:\n",
        "    tokenizer = pickle.load(handle)\n",
        "with open('label_encoder_for_model2.pickle', 'rb') as handle:\n",
        "    label_encoder = pickle.load(handle)"
      ],
      "metadata": {
        "id": "fd7SbllsyQqf"
      },
      "execution_count": null,
      "outputs": []
    },
    {
      "cell_type": "code",
      "execution_count": null,
      "metadata": {
        "colab": {
          "base_uri": "https://localhost:8080/",
          "height": 332
        },
        "id": "5_zBbnvxj8Px",
        "outputId": "41db83b6-1f19-4faf-b71b-baf2e7a9f7af"
      },
      "outputs": [
        {
          "output_type": "error",
          "ename": "AttributeError",
          "evalue": "'LSTMClassifier' object has no attribute 'predict'",
          "traceback": [
            "\u001b[0;31m---------------------------------------------------------------------------\u001b[0m",
            "\u001b[0;31mAttributeError\u001b[0m                            Traceback (most recent call last)",
            "\u001b[0;32m<ipython-input-47-7e80c93f07aa>\u001b[0m in \u001b[0;36m<cell line: 0>\u001b[0;34m()\u001b[0m\n\u001b[1;32m     15\u001b[0m \u001b[0;34m\u001b[0m\u001b[0m\n\u001b[1;32m     16\u001b[0m \u001b[0;31m# Predictions on test set\u001b[0m\u001b[0;34m\u001b[0m\u001b[0;34m\u001b[0m\u001b[0m\n\u001b[0;32m---> 17\u001b[0;31m \u001b[0mpredictions\u001b[0m \u001b[0;34m=\u001b[0m \u001b[0mmodel\u001b[0m\u001b[0;34m.\u001b[0m\u001b[0mpredict\u001b[0m\u001b[0;34m(\u001b[0m\u001b[0mX_test_pad\u001b[0m\u001b[0;34m)\u001b[0m\u001b[0;34m\u001b[0m\u001b[0;34m\u001b[0m\u001b[0m\n\u001b[0m\u001b[1;32m     18\u001b[0m \u001b[0mpredicted_labels\u001b[0m \u001b[0;34m=\u001b[0m \u001b[0mnp\u001b[0m\u001b[0;34m.\u001b[0m\u001b[0margmax\u001b[0m\u001b[0;34m(\u001b[0m\u001b[0mpredictions\u001b[0m\u001b[0;34m,\u001b[0m \u001b[0maxis\u001b[0m\u001b[0;34m=\u001b[0m\u001b[0;36m1\u001b[0m\u001b[0;34m)\u001b[0m\u001b[0;34m\u001b[0m\u001b[0;34m\u001b[0m\u001b[0m\n\u001b[1;32m     19\u001b[0m \u001b[0;34m\u001b[0m\u001b[0m\n",
            "\u001b[0;32m/usr/local/lib/python3.11/dist-packages/torch/nn/modules/module.py\u001b[0m in \u001b[0;36m__getattr__\u001b[0;34m(self, name)\u001b[0m\n\u001b[1;32m   1926\u001b[0m             \u001b[0;32mif\u001b[0m \u001b[0mname\u001b[0m \u001b[0;32min\u001b[0m \u001b[0mmodules\u001b[0m\u001b[0;34m:\u001b[0m\u001b[0;34m\u001b[0m\u001b[0;34m\u001b[0m\u001b[0m\n\u001b[1;32m   1927\u001b[0m                 \u001b[0;32mreturn\u001b[0m \u001b[0mmodules\u001b[0m\u001b[0;34m[\u001b[0m\u001b[0mname\u001b[0m\u001b[0;34m]\u001b[0m\u001b[0;34m\u001b[0m\u001b[0;34m\u001b[0m\u001b[0m\n\u001b[0;32m-> 1928\u001b[0;31m         raise AttributeError(\n\u001b[0m\u001b[1;32m   1929\u001b[0m             \u001b[0;34mf\"'{type(self).__name__}' object has no attribute '{name}'\"\u001b[0m\u001b[0;34m\u001b[0m\u001b[0;34m\u001b[0m\u001b[0m\n\u001b[1;32m   1930\u001b[0m         )\n",
            "\u001b[0;31mAttributeError\u001b[0m: 'LSTMClassifier' object has no attribute 'predict'"
          ]
        }
      ],
      "source": [
        "from sklearn.metrics import classification_report\n",
        "\n",
        "# Assuming X_test_pad and y_test_encoded are your test data and labels\n",
        "max_length = 50\n",
        "vocab_size = model.embedding.num_embeddings\n",
        "\n",
        "# Update the tokenizer's num_words to match the model's vocabulary size\n",
        "tokenizer.num_words = vocab_size\n",
        "\n",
        "# Re-tokenize and pad your test data using the updated tokenizer to ensure consistency\n",
        "# Assuming X_test is your original test data before padding\n",
        "X_test_sequences = tokenizer.texts_to_sequences(X_test) # X_test is the original test data before padding\n",
        "X_test_pad = pad_sequences(X_test_sequences, maxlen=max_length)\n",
        "\n",
        "\n",
        "# Predictions on test set\n",
        "predictions = model.predict(X_test_pad)\n",
        "predicted_labels = np.argmax(predictions, axis=1)\n",
        "\n",
        "# Reset all_preds and all_labels before extending them\n",
        "all_preds = []\n",
        "all_labels = []\n",
        "\n",
        "all_preds.extend(predicted_labels)\n",
        "y_test_encoded = label_encoder.fit_transform(y_test)\n",
        "all_labels.extend(y_test_encoded)\n",
        "\n",
        "report = classification_report(all_labels, all_preds, output_dict=True)\n",
        "print(classification_report(all_labels, all_preds))"
      ]
    },
    {
      "cell_type": "code",
      "execution_count": null,
      "metadata": {
        "colab": {
          "base_uri": "https://localhost:8080/",
          "height": 996
        },
        "id": "o44Bg5sghb6A",
        "outputId": "3c93acc0-a5ab-45be-e6ae-4e9305e7f187"
      },
      "outputs": [
        {
          "output_type": "stream",
          "name": "stdout",
          "text": [
            "\n",
            "Total Recall: 0.6109107460998945\n",
            "\n",
            "Class with least recall: 0 (0.00)\n",
            "\n",
            "Class Name with lowest recall: CAO (0.00)\n",
            "\n",
            "Further Analysis for low recall:\n",
            "1. Confusion Matrix:\n",
            "[[  0   0   7   4   1   1]\n",
            " [  0   0  20   4   0   1]\n",
            " [  0   0  89  15   4   4]\n",
            " [  0   0   1 331   1  17]\n",
            " [  0   0   0   8 380  16]\n",
            " [  0   0   3   8   3 890]]\n"
          ]
        },
        {
          "output_type": "display_data",
          "data": {
            "text/plain": [
              "<Figure size 1000x800 with 2 Axes>"
            ],
            "image/png": "[encoded data removed]"
          },
          "metadata": {}
        },
        {
          "output_type": "stream",
          "name": "stdout",
          "text": [
            "Ratio of CAO datapoints to total datapoints: 0.741314%\n"
          ]
        }
      ],
      "source": [
        "from sklearn.metrics import confusion_matrix\n",
        "\n",
        "# Total Recall\n",
        "total_recall = report['macro avg']['recall']\n",
        "print(f\"\\nTotal Recall: {total_recall}\")\n",
        "\n",
        "# Find class with least recall\n",
        "min_recall = 1.0\n",
        "min_recall_class = None\n",
        "for class_label, metrics in report.items():\n",
        "    if isinstance(metrics, dict) and 'recall' in metrics:\n",
        "        if metrics['recall'] < min_recall:\n",
        "            min_recall = metrics['recall']\n",
        "            min_recall_class = class_label\n",
        "\n",
        "if min_recall_class:\n",
        "    print(f\"\\nClass with least recall: {min_recall_class} ({min_recall:.2f})\")\n",
        "    min_recall_class_name = label_encoder.inverse_transform([int(min_recall_class)])[0]\n",
        "    print(f\"\\nClass Name with lowest recall: {min_recall_class_name} ({min_recall:.2f})\")\n",
        "\n",
        "    # Further analysis\n",
        "    print(\"\\nFurther Analysis for low recall:\")\n",
        "    print(\"1. Confusion Matrix:\")\n",
        "    cm = confusion_matrix(all_labels, all_preds)\n",
        "    print(cm)\n",
        "    plt.figure(figsize=(10, 8))\n",
        "    sns.heatmap(cm, annot=True, fmt='d', cmap='Blues',\n",
        "                xticklabels=label_encoder.classes_, yticklabels=label_encoder.classes_)\n",
        "    plt.xlabel('Predicted Labels')\n",
        "    plt.ylabel('True Labels')\n",
        "    plt.title('Confusion Matrix')\n",
        "    plt.show()\n",
        "\n",
        "    cio_datapoints = df[df['custom_cdo_cio_cto'] == min_recall_class_name].shape[0]\n",
        "    total_datapoints = df.shape[0]\n",
        "    cio_ratio = cio_datapoints / total_datapoints\n",
        "    print(f\"Ratio of {min_recall_class_name} datapoints to total datapoints: {cio_ratio*100:.6f}%\")\n",
        "else:\n",
        "    print(\"\\nCould not determine class with minimum recall.\")\n"
      ]
    },
    {
      "cell_type": "code",
      "source": [
        "import pandas as pd\n",
        "import numpy as np\n",
        "import tensorflow as tf\n",
        "import torch\n",
        "import random\n",
        "from tensorflow.keras.preprocessing.text import Tokenizer\n",
        "from tensorflow.keras.preprocessing.sequence import pad_sequences\n",
        "from tensorflow.keras.models import Sequential\n",
        "from tensorflow.keras.layers import Embedding, LSTM, Dense, SpatialDropout1D\n",
        "from sklearn.model_selection import train_test_split\n",
        "from imblearn.under_sampling import RandomUnderSampler\n",
        "from imblearn.over_sampling import SMOTE\n",
        "from sklearn.decomposition import PCA\n",
        "from sklearn.preprocessing import LabelEncoder\n",
        "from google.colab import drive"
      ],
      "metadata": {
        "id": "msKFAB8EJqg7"
      },
      "execution_count": null,
      "outputs": []
    },
    {
      "cell_type": "code",
      "source": [
        "# Mount Google Drive\n",
        "drive.mount('/content/drive')\n",
        "\n",
        "# Load dataset\n",
        "%cd /content/drive/My\\ Drive/Internship/Model\\ II"
      ],
      "metadata": {
        "colab": {
          "base_uri": "https://localhost:8080/"
        },
        "id": "xEsycCJPJtIl",
        "outputId": "49ffdf9f-25b4-42d4-ccf0-78a6ef26c683"
      },
      "execution_count": null,
      "outputs": [
        {
          "output_type": "stream",
          "name": "stdout",
          "text": [
            "Drive already mounted at /content/drive; to attempt to forcibly remount, call drive.mount(\"/content/drive\", force_remount=True).\n",
            "/content/drive/My Drive/Internship/Model II\n"
          ]
        }
      ]
    },
    {
      "cell_type": "code",
      "source": [
        "df = pd.read_csv('processed_data2.csv')\n",
        "\n",
        "# Check class distribution\n",
        "print(df['custom_cdo_cio_cto'].value_counts())"
      ],
      "metadata": {
        "colab": {
          "base_uri": "https://localhost:8080/"
        },
        "id": "1w7kiuQCJv3Q",
        "outputId": "833d9654-3c8d-4122-b1f9-88ae48b45f21"
      },
      "execution_count": null,
      "outputs": [
        {
          "output_type": "stream",
          "name": "stdout",
          "text": [
            "custom_cdo_cio_cto\n",
            "Others    2029933\n",
            "CTO          2018\n",
            "CIO          1749\n",
            "CDO           560\n",
            "CDAO          125\n",
            "CAO            67\n",
            "Name: count, dtype: int64\n"
          ]
        }
      ]
    },
    {
      "cell_type": "code",
      "source": [
        "# Label encoding\n",
        "label_encoder = LabelEncoder()\n",
        "df['custom_cdo_cio_cto'] = label_encoder.fit_transform(df['custom_cdo_cio_cto'])"
      ],
      "metadata": {
        "id": "m6H1WC5MJ5UL"
      },
      "execution_count": null,
      "outputs": []
    },
    {
      "cell_type": "code",
      "source": [
        "# Extract features and labels\n",
        "X = df['title'].astype(str).values\n",
        "y = df['custom_cdo_cio_cto'].values"
      ],
      "metadata": {
        "id": "j_KGEj8WJ7nb"
      },
      "execution_count": null,
      "outputs": []
    },
    {
      "cell_type": "code",
      "source": [
        "# Tokenization\n",
        "tokenizer = Tokenizer(num_words=5000, oov_token='<OOV>')\n",
        "tokenizer.fit_on_texts(X)\n",
        "X_sequences = tokenizer.texts_to_sequences(X)\n",
        "X_padded = pad_sequences(X_sequences, maxlen=100, padding='post', truncating='post')"
      ],
      "metadata": {
        "id": "zkc73qEUJ-ND"
      },
      "execution_count": null,
      "outputs": []
    },
    {
      "cell_type": "code",
      "source": [
        "# Apply SMOTE to balance minority classes\n",
        "smote = SMOTE(sampling_strategy='auto', random_state=42)\n",
        "X_resampled, y_resampled = smote.fit_resample(X_padded, y)"
      ],
      "metadata": {
        "id": "pvZWu6GIMWvP"
      },
      "execution_count": null,
      "outputs": []
    },
    {
      "cell_type": "code",
      "source": [
        "# Stratified downsampling\n",
        "sampler = RandomUnderSampler(sampling_strategy='auto', random_state=42)\n",
        "X_resampled, y_resampled = sampler.fit_resample(X_padded, y)"
      ],
      "metadata": {
        "id": "_iJQIqmaKPSo"
      },
      "execution_count": null,
      "outputs": []
    },
    {
      "cell_type": "code",
      "source": [
        "# Convert y_resampled to DataFrame with a column named 'custom_cdo_cio_cto'\n",
        "y_resampled_df = pd.DataFrame(y_resampled, columns=['custom_cdo_cio_cto'])\n",
        "\n",
        "# Now you can use value_counts()\n",
        "print(y_resampled_df['custom_cdo_cio_cto'].value_counts())"
      ],
      "metadata": {
        "colab": {
          "base_uri": "https://localhost:8080/"
        },
        "id": "mu-eLkpPK16M",
        "outputId": "271ff2b6-8d8e-468b-f34f-8acb6d8f7602"
      },
      "execution_count": null,
      "outputs": [
        {
          "output_type": "stream",
          "name": "stdout",
          "text": [
            "custom_cdo_cio_cto\n",
            "0    67\n",
            "1    67\n",
            "2    67\n",
            "3    67\n",
            "4    67\n",
            "5    67\n",
            "Name: count, dtype: int64\n"
          ]
        }
      ]
    },
    {
      "cell_type": "code",
      "source": [
        "# Train-test split\n",
        "X_train, X_test, y_train, y_test = train_test_split(X_resampled, y_resampled, test_size=0.2, random_state=42)"
      ],
      "metadata": {
        "id": "BpnGm40XKRYO"
      },
      "execution_count": null,
      "outputs": []
    },
    {
      "cell_type": "code",
      "source": [
        "# Define LSTM model\n",
        "model = Sequential([\n",
        "    Embedding(input_dim=5000, output_dim=128, input_length=100),\n",
        "    SpatialDropout1D(0.2),\n",
        "    LSTM(100, dropout=0.2, recurrent_dropout=0.2),\n",
        "    Dense(7, activation='softmax')\n",
        "])"
      ],
      "metadata": {
        "colab": {
          "base_uri": "https://localhost:8080/"
        },
        "id": "UohNoO_eKTTU",
        "outputId": "b1031a08-e688-4664-8fa4-054583779242"
      },
      "execution_count": null,
      "outputs": [
        {
          "output_type": "stream",
          "name": "stderr",
          "text": [
            "/usr/local/lib/python3.11/dist-packages/keras/src/layers/core/embedding.py:90: UserWarning: Argument `input_length` is deprecated. Just remove it.\n",
            "  warnings.warn(\n"
          ]
        }
      ]
    },
    {
      "cell_type": "code",
      "source": [
        "# Compile model\n",
        "model.compile(loss='sparse_categorical_crossentropy', optimizer='adam', metrics=['accuracy'])"
      ],
      "metadata": {
        "id": "UhLQqFMoKWWo"
      },
      "execution_count": null,
      "outputs": []
    },
    {
      "cell_type": "code",
      "source": [
        "# Train model\n",
        "history = model.fit(X_train, y_train, epochs=5, batch_size=64, validation_data=(X_test, y_test))"
      ],
      "metadata": {
        "colab": {
          "base_uri": "https://localhost:8080/"
        },
        "id": "eCjbexl6KYOP",
        "outputId": "bcf1296e-82a9-46a3-ca4b-f9e84a464ca3"
      },
      "execution_count": null,
      "outputs": [
        {
          "output_type": "stream",
          "name": "stdout",
          "text": [
            "Epoch 1/5\n",
            "\u001b[1m6/6\u001b[0m \u001b[32m━━━━━━━━━━━━━━━━━━━━\u001b[0m\u001b[37m\u001b[0m \u001b[1m11s\u001b[0m 400ms/step - accuracy: 0.1571 - loss: 1.9338 - val_accuracy: 0.1481 - val_loss: 1.8893\n",
            "Epoch 2/5\n",
            "\u001b[1m6/6\u001b[0m \u001b[32m━━━━━━━━━━━━━━━━━━━━\u001b[0m\u001b[37m\u001b[0m \u001b[1m2s\u001b[0m 400ms/step - accuracy: 0.1876 - loss: 1.8787 - val_accuracy: 0.1605 - val_loss: 1.8569\n",
            "Epoch 3/5\n",
            "\u001b[1m6/6\u001b[0m \u001b[32m━━━━━━━━━━━━━━━━━━━━\u001b[0m\u001b[37m\u001b[0m \u001b[1m3s\u001b[0m 437ms/step - accuracy: 0.2053 - loss: 1.8418 - val_accuracy: 0.1235 - val_loss: 1.8742\n",
            "Epoch 4/5\n",
            "\u001b[1m6/6\u001b[0m \u001b[32m━━━━━━━━━━━━━━━━━━━━\u001b[0m\u001b[37m\u001b[0m \u001b[1m4s\u001b[0m 241ms/step - accuracy: 0.2003 - loss: 1.8249 - val_accuracy: 0.1481 - val_loss: 1.8750\n",
            "Epoch 5/5\n",
            "\u001b[1m6/6\u001b[0m \u001b[32m━━━━━━━━━━━━━━━━━━━━\u001b[0m\u001b[37m\u001b[0m \u001b[1m2s\u001b[0m 260ms/step - accuracy: 0.1313 - loss: 1.8261 - val_accuracy: 0.1358 - val_loss: 1.8558\n"
          ]
        }
      ]
    },
    {
      "cell_type": "code",
      "execution_count": null,
      "metadata": {
        "id": "IU6EQflMpcQd",
        "colab": {
          "base_uri": "https://localhost:8080/"
        },
        "outputId": "e4f3be69-4b20-42ed-8efc-18c87250a569"
      },
      "outputs": [
        {
          "output_type": "stream",
          "name": "stdout",
          "text": [
            "\u001b[1m3/3\u001b[0m \u001b[32m━━━━━━━━━━━━━━━━━━━━\u001b[0m\u001b[37m\u001b[0m \u001b[1m0s\u001b[0m 44ms/step - accuracy: 0.1304 - loss: 1.8572\n",
            "Test Accuracy: 0.1358\n"
          ]
        }
      ],
      "source": [
        "# Evaluate model\n",
        "loss, accuracy = model.evaluate(X_test, y_test)\n",
        "print(f'Test Accuracy: {accuracy:.4f}')\n"
      ]
    }
  ],
  "metadata": {
    "colab": {
      "provenance": []
    },
    "kernelspec": {
      "display_name": "Python 3",
      "name": "python3"
    },
    "language_info": {
      "name": "python"
    }
  },
  "nbformat": 4,
  "nbformat_minor": 0
}