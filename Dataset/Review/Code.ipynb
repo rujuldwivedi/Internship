{
 "cells": [
  {
   "cell_type": "markdown",
   "id": "9e93029c",
   "metadata": {
    "papermill": {
     "duration": 0.003637,
     "end_time": "2024-04-16T16:08:58.916865",
     "exception": false,
     "start_time": "2024-04-16T16:08:58.913228",
     "status": "completed"
    },
    "tags": []
   },
   "source": [
    "# Step 1: Import Pandas to use the data"
   ]
  },
  {
   "cell_type": "code",
   "execution_count": 2,
   "id": "7d3be242",
   "metadata": {
    "_cell_guid": "b1076dfc-b9ad-4769-8c92-a6c4dae69d19",
    "_uuid": "8f2839f25d086af736a60e9eeb907d3b93b6e0e5",
    "execution": {
     "iopub.execute_input": "2024-04-16T16:08:58.925261Z",
     "iopub.status.busy": "2024-04-16T16:08:58.924862Z",
     "iopub.status.idle": "2024-04-16T16:09:00.021179Z",
     "shell.execute_reply": "2024-04-16T16:09:00.019845Z"
    },
    "papermill": {
     "duration": 1.103792,
     "end_time": "2024-04-16T16:09:00.023926",
     "exception": false,
     "start_time": "2024-04-16T16:08:58.920134",
     "status": "completed"
    },
    "tags": []
   },
   "outputs": [],
   "source": [
    "import pandas as pd"
   ]
  },
  {
   "cell_type": "markdown",
   "id": "acd8880a",
   "metadata": {
    "papermill": {
     "duration": 0.002725,
     "end_time": "2024-04-16T16:09:00.029820",
     "exception": false,
     "start_time": "2024-04-16T16:09:00.027095",
     "status": "completed"
    },
    "tags": []
   },
   "source": [
    "# Step 2: Create a dataframe to access the dataset"
   ]
  },
  {
   "cell_type": "code",
   "execution_count": 3,
   "id": "fcddea28",
   "metadata": {
    "execution": {
     "iopub.execute_input": "2024-04-16T16:09:00.037641Z",
     "iopub.status.busy": "2024-04-16T16:09:00.037091Z",
     "iopub.status.idle": "2024-04-16T16:09:00.058377Z",
     "shell.execute_reply": "2024-04-16T16:09:00.056902Z"
    },
    "papermill": {
     "duration": 0.028408,
     "end_time": "2024-04-16T16:09:00.061231",
     "exception": false,
     "start_time": "2024-04-16T16:09:00.032823",
     "status": "completed"
    },
    "tags": []
   },
   "outputs": [],
   "source": [
    "dataframe = pd.read_csv(r\"reviews.csv\")"
   ]
  },
  {
   "cell_type": "markdown",
   "id": "d66afb93",
   "metadata": {
    "papermill": {
     "duration": 0.002824,
     "end_time": "2024-04-16T16:09:00.067303",
     "exception": false,
     "start_time": "2024-04-16T16:09:00.064479",
     "status": "completed"
    },
    "tags": []
   },
   "source": [
    "# Step 3: Perform all kinds of operations on this dataset using the standard methods"
   ]
  },
  {
   "cell_type": "code",
   "execution_count": 4,
   "id": "c3ffd73c",
   "metadata": {
    "execution": {
     "iopub.execute_input": "2024-04-16T16:09:00.075051Z",
     "iopub.status.busy": "2024-04-16T16:09:00.074632Z",
     "iopub.status.idle": "2024-04-16T16:09:00.092613Z",
     "shell.execute_reply": "2024-04-16T16:09:00.091357Z"
    },
    "papermill": {
     "duration": 0.025205,
     "end_time": "2024-04-16T16:09:00.095527",
     "exception": false,
     "start_time": "2024-04-16T16:09:00.070322",
     "status": "completed"
    },
    "tags": []
   },
   "outputs": [
    {
     "data": {
      "text/html": [
       "<div>\n",
       "<style scoped>\n",
       "    .dataframe tbody tr th:only-of-type {\n",
       "        vertical-align: middle;\n",
       "    }\n",
       "\n",
       "    .dataframe tbody tr th {\n",
       "        vertical-align: top;\n",
       "    }\n",
       "\n",
       "    .dataframe thead th {\n",
       "        text-align: right;\n",
       "    }\n",
       "</style>\n",
       "<table border=\"1\" class=\"dataframe\">\n",
       "  <thead>\n",
       "    <tr style=\"text-align: right;\">\n",
       "      <th></th>\n",
       "      <th>Review</th>\n",
       "      <th>Sentiment</th>\n",
       "    </tr>\n",
       "  </thead>\n",
       "  <tbody>\n",
       "    <tr>\n",
       "      <th>0</th>\n",
       "      <td>This product exceeded my expectations! It's hi...</td>\n",
       "      <td>Positive</td>\n",
       "    </tr>\n",
       "    <tr>\n",
       "      <th>1</th>\n",
       "      <td>The product was decent. It worked fine, but it...</td>\n",
       "      <td>Neutral</td>\n",
       "    </tr>\n",
       "    <tr>\n",
       "      <th>2</th>\n",
       "      <td>I had a terrible experience with this company....</td>\n",
       "      <td>Negative</td>\n",
       "    </tr>\n",
       "    <tr>\n",
       "      <th>3</th>\n",
       "      <td>It's an okay product. Nothing to write home ab...</td>\n",
       "      <td>Neutral</td>\n",
       "    </tr>\n",
       "    <tr>\n",
       "      <th>4</th>\n",
       "      <td>Disappointed with the product. It didn't meet ...</td>\n",
       "      <td>Negative</td>\n",
       "    </tr>\n",
       "  </tbody>\n",
       "</table>\n",
       "</div>"
      ],
      "text/plain": [
       "                                              Review Sentiment\n",
       "0  This product exceeded my expectations! It's hi...  Positive\n",
       "1  The product was decent. It worked fine, but it...   Neutral\n",
       "2  I had a terrible experience with this company....  Negative\n",
       "3  It's an okay product. Nothing to write home ab...   Neutral\n",
       "4  Disappointed with the product. It didn't meet ...  Negative"
      ]
     },
     "execution_count": 4,
     "metadata": {},
     "output_type": "execute_result"
    }
   ],
   "source": [
    "dataframe.head()"
   ]
  },
  {
   "cell_type": "code",
   "execution_count": 5,
   "id": "87b37db0",
   "metadata": {
    "execution": {
     "iopub.execute_input": "2024-04-16T16:09:00.103700Z",
     "iopub.status.busy": "2024-04-16T16:09:00.103293Z",
     "iopub.status.idle": "2024-04-16T16:09:00.132915Z",
     "shell.execute_reply": "2024-04-16T16:09:00.131464Z"
    },
    "papermill": {
     "duration": 0.036537,
     "end_time": "2024-04-16T16:09:00.135387",
     "exception": false,
     "start_time": "2024-04-16T16:09:00.098850",
     "status": "completed"
    },
    "tags": []
   },
   "outputs": [
    {
     "name": "stdout",
     "output_type": "stream",
     "text": [
      "<class 'pandas.core.frame.DataFrame'>\n",
      "RangeIndex: 386 entries, 0 to 385\n",
      "Data columns (total 2 columns):\n",
      " #   Column     Non-Null Count  Dtype \n",
      "---  ------     --------------  ----- \n",
      " 0   Review     386 non-null    object\n",
      " 1   Sentiment  386 non-null    object\n",
      "dtypes: object(2)\n",
      "memory usage: 6.2+ KB\n"
     ]
    }
   ],
   "source": [
    "dataframe.info()"
   ]
  },
  {
   "cell_type": "markdown",
   "id": "ce756d54",
   "metadata": {
    "papermill": {
     "duration": 0.003514,
     "end_time": "2024-04-16T16:09:00.142367",
     "exception": false,
     "start_time": "2024-04-16T16:09:00.138853",
     "status": "completed"
    },
    "tags": []
   },
   "source": [
    "*Extract the number of reviews pertaining to each class.*"
   ]
  },
  {
   "cell_type": "code",
   "execution_count": 6,
   "id": "4386b3bb",
   "metadata": {
    "execution": {
     "iopub.execute_input": "2024-04-16T16:09:00.151113Z",
     "iopub.status.busy": "2024-04-16T16:09:00.150733Z",
     "iopub.status.idle": "2024-04-16T16:09:00.164819Z",
     "shell.execute_reply": "2024-04-16T16:09:00.163811Z"
    },
    "papermill": {
     "duration": 0.021236,
     "end_time": "2024-04-16T16:09:00.167078",
     "exception": false,
     "start_time": "2024-04-16T16:09:00.145842",
     "status": "completed"
    },
    "tags": []
   },
   "outputs": [
    {
     "name": "stdout",
     "output_type": "stream",
     "text": [
      "Number of Positive Reviews: 129\n",
      "Number of Negative Reviews: 129\n",
      "Number of Neutral Reviews: 128\n"
     ]
    }
   ],
   "source": [
    "positive_reviews = dataframe[dataframe[\"Sentiment\"] == \"Positive\"].shape[0]\n",
    "negative_reviews = dataframe[dataframe[\"Sentiment\"] == \"Negative\"].shape[0]\n",
    "neutral_reviews = dataframe[dataframe[\"Sentiment\"] == \"Neutral\"].shape[0]\n",
    "print(\"Number of Positive Reviews:\", positive_reviews)\n",
    "print(\"Number of Negative Reviews:\", negative_reviews)\n",
    "print(\"Number of Neutral Reviews:\", neutral_reviews)"
   ]
  },
  {
   "cell_type": "code",
   "execution_count": 7,
   "id": "cb9097af",
   "metadata": {
    "papermill": {
     "duration": 0.003071,
     "end_time": "2024-04-16T16:09:00.173656",
     "exception": false,
     "start_time": "2024-04-16T16:09:00.170585",
     "status": "completed"
    },
    "tags": []
   },
   "outputs": [
    {
     "data": {
      "image/png": "[encoded data removed]",
      "text/plain": [
       "<Figure size 640x480 with 1 Axes>"
      ]
     },
     "metadata": {},
     "output_type": "display_data"
    }
   ],
   "source": [
    "# Now we will plot the data\n",
    "import matplotlib.pyplot as plt\n",
    "\n",
    "plt.bar(10, positive_reviews, 3, label=\"Positive\")\n",
    "plt.bar(15, negative_reviews, 3, label=\"Negative\")\n",
    "plt.bar(20, neutral_reviews, 3, label=\"Neutral\")\n",
    "plt.legend()\n",
    "plt.ylabel(\"Number of Reviews\")\n",
    "plt.title(\"Sentiment Analysis\")\n",
    "plt.show()"
   ]
  },
  {
   "cell_type": "code",
   "execution_count": 8,
   "id": "29409e91",
   "metadata": {},
   "outputs": [
    {
     "data": {
      "text/html": [
       "<div>\n",
       "<style scoped>\n",
       "    .dataframe tbody tr th:only-of-type {\n",
       "        vertical-align: middle;\n",
       "    }\n",
       "\n",
       "    .dataframe tbody tr th {\n",
       "        vertical-align: top;\n",
       "    }\n",
       "\n",
       "    .dataframe thead th {\n",
       "        text-align: right;\n",
       "    }\n",
       "</style>\n",
       "<table border=\"1\" class=\"dataframe\">\n",
       "  <thead>\n",
       "    <tr style=\"text-align: right;\">\n",
       "      <th></th>\n",
       "      <th>Review</th>\n",
       "      <th>Sentiment</th>\n",
       "    </tr>\n",
       "  </thead>\n",
       "  <tbody>\n",
       "    <tr>\n",
       "      <th>0</th>\n",
       "      <td>this product exceeded my expectations its high...</td>\n",
       "      <td>Positive</td>\n",
       "    </tr>\n",
       "    <tr>\n",
       "      <th>1</th>\n",
       "      <td>the product was decent it worked fine but it w...</td>\n",
       "      <td>Neutral</td>\n",
       "    </tr>\n",
       "    <tr>\n",
       "      <th>2</th>\n",
       "      <td>i had a terrible experience with this company ...</td>\n",
       "      <td>Negative</td>\n",
       "    </tr>\n",
       "    <tr>\n",
       "      <th>3</th>\n",
       "      <td>its an okay product nothing to write home about</td>\n",
       "      <td>Neutral</td>\n",
       "    </tr>\n",
       "    <tr>\n",
       "      <th>4</th>\n",
       "      <td>disappointed with the product it didnt meet my...</td>\n",
       "      <td>Negative</td>\n",
       "    </tr>\n",
       "  </tbody>\n",
       "</table>\n",
       "</div>"
      ],
      "text/plain": [
       "                                              Review Sentiment\n",
       "0  this product exceeded my expectations its high...  Positive\n",
       "1  the product was decent it worked fine but it w...   Neutral\n",
       "2  i had a terrible experience with this company ...  Negative\n",
       "3    its an okay product nothing to write home about   Neutral\n",
       "4  disappointed with the product it didnt meet my...  Negative"
      ]
     },
     "execution_count": 8,
     "metadata": {},
     "output_type": "execute_result"
    }
   ],
   "source": [
    "# Now we will clean the data\n",
    "import re\n",
    "import string\n",
    "\n",
    "def clean_text(text):\n",
    "    text = text.lower()\n",
    "    text = re.sub('\\[.*?\\]', '', text)\n",
    "    text = re.sub('[%s]' % re.escape(string.punctuation), '', text)\n",
    "    text = re.sub('\\w*\\d\\w*', '', text)\n",
    "    return text\n",
    "\n",
    "dataframe[\"Review\"] = dataframe[\"Review\"].apply(clean_text)\n",
    "dataframe.head()"
   ]
  },
  {
   "cell_type": "code",
   "execution_count": 9,
   "id": "05593196",
   "metadata": {},
   "outputs": [],
   "source": [
    "# Now we will split the data into training and testing data\n",
    "from sklearn.model_selection import train_test_split\n",
    "\n",
    "X = dataframe[\"Review\"]\n",
    "y = dataframe[\"Sentiment\"]\n",
    "X_train, X_test, y_train, y_test = train_test_split(X, y, test_size=0.2)"
   ]
  },
  {
   "cell_type": "code",
   "execution_count": 10,
   "id": "fd210d7a",
   "metadata": {},
   "outputs": [],
   "source": [
    "# Now we will convert the text data into numerical data\n",
    "from sklearn.feature_extraction.text import TfidfVectorizer\n",
    "\n",
    "vectorizer = TfidfVectorizer()\n",
    "X_train = vectorizer.fit_transform(X_train)\n",
    "X_test = vectorizer.transform(X_test)"
   ]
  },
  {
   "cell_type": "code",
   "execution_count": 11,
   "id": "8ee61c6f",
   "metadata": {},
   "outputs": [],
   "source": [
    "# Now we will use the Naive Bayes algorithm to train the model\n",
    "from sklearn.naive_bayes import MultinomialNB\n",
    "\n",
    "model = MultinomialNB()\n",
    "model.fit(X_train, y_train);"
   ]
  },
  {
   "cell_type": "code",
   "execution_count": 12,
   "id": "1c8c436c",
   "metadata": {},
   "outputs": [
    {
     "name": "stdout",
     "output_type": "stream",
     "text": [
      "Accuracy: 0.9871794871794872\n"
     ]
    }
   ],
   "source": [
    "# Now we will evaluate the model\n",
    "from sklearn.metrics import accuracy_score\n",
    "\n",
    "predictions = model.predict(X_test)\n",
    "print(\"Accuracy:\", accuracy_score(y_test, predictions))"
   ]
  },
  {
   "cell_type": "code",
   "execution_count": 13,
   "id": "af0b6b07",
   "metadata": {},
   "outputs": [],
   "source": [
    "# Now we will test the model\n",
    "def test_model(input_text):\n",
    "    input_text = vectorizer.transform([input_text])\n",
    "    prediction = model.predict(input_text)\n",
    "    return prediction[0]"
   ]
  },
  {
   "cell_type": "code",
   "execution_count": 17,
   "id": "d7c959c1",
   "metadata": {},
   "outputs": [
    {
     "data": {
      "text/plain": [
       "'Positive'"
      ]
     },
     "execution_count": 17,
     "metadata": {},
     "output_type": "execute_result"
    }
   ],
   "source": [
    "test_model(\"This product is amazing!\")"
   ]
  },
  {
   "cell_type": "code",
   "execution_count": 18,
   "id": "afea9e7b",
   "metadata": {},
   "outputs": [
    {
     "data": {
      "text/plain": [
       "'Negative'"
      ]
     },
     "execution_count": 18,
     "metadata": {},
     "output_type": "execute_result"
    }
   ],
   "source": [
    "test_model(\"This product is terrible!\")"
   ]
  }
 ],
 "metadata": {
  "kaggle": {
   "accelerator": "none",
   "dataSources": [
    {
     "datasetId": 4810570,
     "sourceId": 8137357,
     "sourceType": "datasetVersion"
    }
   ],
   "dockerImageVersionId": 30684,
   "isGpuEnabled": false,
   "isInternetEnabled": true,
   "language": "python",
   "sourceType": "notebook"
  },
  "kernelspec": {
   "display_name": "Python 3",
   "language": "python",
   "name": "python3"
  },
  "language_info": {
   "codemirror_mode": {
    "name": "ipython",
    "version": 3
   },
   "file_extension": ".py",
   "mimetype": "text/x-python",
   "name": "python",
   "nbconvert_exporter": "python",
   "pygments_lexer": "ipython3",
   "version": "3.8.5"
  },
  "papermill": {
   "default_parameters": {},
   "duration": 4.804877,
   "end_time": "2024-04-16T16:09:00.699128",
   "environment_variables": {},
   "exception": null,
   "input_path": "__notebook__.ipynb",
   "output_path": "__notebook__.ipynb",
   "parameters": {},
   "start_time": "2024-04-16T16:08:55.894251",
   "version": "2.5.0"
  }
 },
 "nbformat": 4,
 "nbformat_minor": 5
}
