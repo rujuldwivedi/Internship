{
 "cells": [
  {
   "cell_type": "markdown",
   "metadata": {},
   "source": [
    "# Product Classification Using AI & ML"
   ]
  },
  {
   "cell_type": "markdown",
   "metadata": {},
   "source": [
    "## Introduction\n",
    "\n",
    "In this project, we aim to develop an **AI-powered product classification system** that automates retail product categorization using machine learning and deep learning techniques. This will help in improving product discoverability, customer experience, and search optimization. \n",
    "\n",
    "We will analyze datasets containing product reviews, ratings, and metadata from different categories. The objective is to:\n",
    "\n",
    "- Identify **key features** that influence product categorization.\n",
    "- Build **efficient models** that can classify products with high accuracy.\n",
    "- Improve **search & recommendation** systems for better product discoverability.\n",
    "\n",
    "To achieve this, we first explore and preprocess the dataset to extract meaningful insights.\n",
    "\n",
    "---"
   ]
  },
  {
   "cell_type": "markdown",
   "metadata": {},
   "source": [
    "### Procedure Overview\n",
    "\n",
    "The key steps in this project include:\n",
    "\n",
    "1. **Dataset Selection**: Identify the most relevant datasets by applying a sorting metric.\n",
    "2. **Data Preprocessing**: Analyze available columns, drop unnecessary ones, and clean data.\n",
    "3. **Feature Engineering**: Extract meaningful features for classification.\n",
    "4. **Model Training**: Train machine learning models on preprocessed data.\n",
    "5. **Evaluation & Optimization**: Evaluate performance and optimize models.\n",
    "6. **Deployment**: Deploy the final model for real-world usage.\n",
    "\n",
    "---"
   ]
  },
  {
   "cell_type": "markdown",
   "metadata": {},
   "source": [
    "### Dataset Overview (Link: [Amazon Review Dataset](https://amazon-reviews-2023.github.io/)):\n",
    "\n",
    "The dataset contains product reviews, ratings, and metadata from different categories. Each dataset is categorized based on the product type. The key columns in the dataset include:\n",
    "\n",
    "- `# Users`: Number of unique users.\n",
    "- `# Items`: Number of unique products.\n",
    "- `# Ratings`: Total number of reviews.\n",
    "- `R_Token`: Total tokens in review texts.\n",
    "- `M_Token`: Total tokens in metadata.\n",
    "\n",
    "Now, let's load and visualize the dataset summary."
   ]
  },
  {
   "cell_type": "code",
   "execution_count": 2,
   "metadata": {},
   "outputs": [],
   "source": [
    "import pandas as pd\n",
    "import numpy as np\n",
    "import matplotlib.pyplot as plt\n",
    "import seaborn as sns\n",
    "import os\n",
    "import json"
   ]
  },
  {
   "cell_type": "code",
   "execution_count": 1,
   "metadata": {},
   "outputs": [
    {
     "data": {
      "text/html": [
       "<div>\n",
       "<style scoped>\n",
       "    .dataframe tbody tr th:only-of-type {\n",
       "        vertical-align: middle;\n",
       "    }\n",
       "\n",
       "    .dataframe tbody tr th {\n",
       "        vertical-align: top;\n",
       "    }\n",
       "\n",
       "    .dataframe thead th {\n",
       "        text-align: right;\n",
       "    }\n",
       "</style>\n",
       "<table border=\"1\" class=\"dataframe\">\n",
       "  <thead>\n",
       "    <tr style=\"text-align: right;\">\n",
       "      <th></th>\n",
       "      <th>Category</th>\n",
       "      <th>Items</th>\n",
       "    </tr>\n",
       "  </thead>\n",
       "  <tbody>\n",
       "    <tr>\n",
       "      <th>33</th>\n",
       "      <td>Unknown</td>\n",
       "      <td>13200000</td>\n",
       "    </tr>\n",
       "    <tr>\n",
       "      <th>10</th>\n",
       "      <td>Clothing_Shoes_and_Jewelry</td>\n",
       "      <td>7200000</td>\n",
       "    </tr>\n",
       "    <tr>\n",
       "      <th>7</th>\n",
       "      <td>Books</td>\n",
       "      <td>4400000</td>\n",
       "    </tr>\n",
       "    <tr>\n",
       "      <th>18</th>\n",
       "      <td>Home_and_Kitchen</td>\n",
       "      <td>3700000</td>\n",
       "    </tr>\n",
       "    <tr>\n",
       "      <th>4</th>\n",
       "      <td>Automotive</td>\n",
       "      <td>2000000</td>\n",
       "    </tr>\n",
       "    <tr>\n",
       "      <th>28</th>\n",
       "      <td>Sports_and_Outdoors</td>\n",
       "      <td>1600000</td>\n",
       "    </tr>\n",
       "    <tr>\n",
       "      <th>20</th>\n",
       "      <td>Kindle_Store</td>\n",
       "      <td>1600000</td>\n",
       "    </tr>\n",
       "    <tr>\n",
       "      <th>12</th>\n",
       "      <td>Electronics</td>\n",
       "      <td>1600000</td>\n",
       "    </tr>\n",
       "    <tr>\n",
       "      <th>30</th>\n",
       "      <td>Tools_and_Home_Improvement</td>\n",
       "      <td>1500000</td>\n",
       "    </tr>\n",
       "    <tr>\n",
       "      <th>9</th>\n",
       "      <td>Cell_Phones_and_Accessories</td>\n",
       "      <td>1300000</td>\n",
       "    </tr>\n",
       "  </tbody>\n",
       "</table>\n",
       "</div>"
      ],
      "text/plain": [
       "                       Category     Items\n",
       "33                      Unknown  13200000\n",
       "10   Clothing_Shoes_and_Jewelry   7200000\n",
       "7                         Books   4400000\n",
       "18             Home_and_Kitchen   3700000\n",
       "4                    Automotive   2000000\n",
       "28          Sports_and_Outdoors   1600000\n",
       "20                 Kindle_Store   1600000\n",
       "12                  Electronics   1600000\n",
       "30   Tools_and_Home_Improvement   1500000\n",
       "9   Cell_Phones_and_Accessories   1300000"
      ]
     },
     "metadata": {},
     "output_type": "display_data"
    }
   ],
   "source": [
    "import pandas as pd\n",
    "\n",
    "# Dataset Information (Manually Entered from Provided Data)\n",
    "data = {\n",
    "    \"Category\": [\"All_Beauty\", \"Amazon_Fashion\", \"Appliances\", \"Arts_Crafts_and_Sewing\", \"Automotive\", \n",
    "        \"Baby_Products\", \"Beauty_and_Personal_Care\", \"Books\", \"CDs_and_Vinyl\", \"Cell_Phones_and_Accessories\", \n",
    "        \"Clothing_Shoes_and_Jewelry\", \"Digital_Music\", \"Electronics\", \"Gift_Cards\", \"Grocery_and_Gourmet_Food\", \n",
    "        \"Handmade_Products\", \"Health_and_Household\", \"Health_and_Personal_Care\", \"Home_and_Kitchen\", \n",
    "        \"Industrial_and_Scientific\", \"Kindle_Store\", \"Magazine_Subscriptions\", \"Movies_and_TV\", \"Musical_Instruments\", \n",
    "        \"Office_Products\", \"Patio_Lawn_and_Garden\", \"Pet_Supplies\", \"Software\", \"Sports_and_Outdoors\", \n",
    "        \"Subscription_Boxes\", \"Tools_and_Home_Improvement\", \"Toys_and_Games\", \"Video_Games\", \"Unknown\"],\n",
    "    \"Items\": [112600, 825900, 94300, 801300, 2000000, 217700, 1000000, 4400000, 701700, 1300000, \n",
    "        7200000, 70500, 1600000, 1100, 603200, 164700, 797400, 60300, 3700000, 427500, \n",
    "        1600000, 3400, 747800, 213600, 710400, 851700, 492700, 89200, 1600000, 641, \n",
    "        1500000, 890700, 137200, 13200000]\n",
    "}\n",
    "\n",
    "\n",
    "# Create DataFrame\n",
    "df = pd.DataFrame(data)\n",
    "\n",
    "# Sorting the DataFrame by Items\n",
    "df = df.sort_values(by=[\"Items\"], ascending=False)\n",
    "\n",
    "# Display dataset information\n",
    "display(df.head(10))"
   ]
  },
  {
   "cell_type": "markdown",
   "metadata": {},
   "source": [
    "---"
   ]
  },
  {
   "cell_type": "markdown",
   "metadata": {},
   "source": [
    "### Defining the Metric\n",
    "\n",
    "Now since we're only downloading the Meta Dataset, we only have the use # Items. \n",
    "Now how are we going to select the categories?\n",
    "- We can select the categories based on the number of items in the category.\n",
    "- We will first sort the categories based on the number of items in the category in ascending order (due to memory constraints).\n",
    "- We will keep a cumulative sum of the number of items in the category and select the categories until we reach 80% of the total number of items."
   ]
  },
  {
   "cell_type": "markdown",
   "metadata": {},
   "source": [
    "#### Computing the Metric"
   ]
  },
  {
   "cell_type": "code",
   "execution_count": 2,
   "metadata": {},
   "outputs": [
    {
     "name": "stdout",
     "output_type": "stream",
     "text": [
      "Mean: 1415162.9705882352, Standard Deviation: 2544513.8725326178\n",
      "Outliers:                       Category     Items\n",
      "33                     Unknown  13200000\n",
      "10  Clothing_Shoes_and_Jewelry   7200000\n",
      "7                        Books   4400000\n",
      "18            Home_and_Kitchen   3700000\n",
      "4                   Automotive   2000000\n",
      "28         Sports_and_Outdoors   1600000\n",
      "20                Kindle_Store   1600000\n",
      "12                 Electronics   1600000\n"
     ]
    },
    {
     "data": {
      "text/html": [
       "<div>\n",
       "<style scoped>\n",
       "    .dataframe tbody tr th:only-of-type {\n",
       "        vertical-align: middle;\n",
       "    }\n",
       "\n",
       "    .dataframe tbody tr th {\n",
       "        vertical-align: top;\n",
       "    }\n",
       "\n",
       "    .dataframe thead th {\n",
       "        text-align: right;\n",
       "    }\n",
       "</style>\n",
       "<table border=\"1\" class=\"dataframe\">\n",
       "  <thead>\n",
       "    <tr style=\"text-align: right;\">\n",
       "      <th></th>\n",
       "      <th>Category</th>\n",
       "      <th>Items</th>\n",
       "    </tr>\n",
       "  </thead>\n",
       "  <tbody>\n",
       "    <tr>\n",
       "      <th>30</th>\n",
       "      <td>Tools_and_Home_Improvement</td>\n",
       "      <td>1500000</td>\n",
       "    </tr>\n",
       "    <tr>\n",
       "      <th>9</th>\n",
       "      <td>Cell_Phones_and_Accessories</td>\n",
       "      <td>1300000</td>\n",
       "    </tr>\n",
       "    <tr>\n",
       "      <th>6</th>\n",
       "      <td>Beauty_and_Personal_Care</td>\n",
       "      <td>1000000</td>\n",
       "    </tr>\n",
       "    <tr>\n",
       "      <th>31</th>\n",
       "      <td>Toys_and_Games</td>\n",
       "      <td>890700</td>\n",
       "    </tr>\n",
       "    <tr>\n",
       "      <th>25</th>\n",
       "      <td>Patio_Lawn_and_Garden</td>\n",
       "      <td>851700</td>\n",
       "    </tr>\n",
       "    <tr>\n",
       "      <th>1</th>\n",
       "      <td>Amazon_Fashion</td>\n",
       "      <td>825900</td>\n",
       "    </tr>\n",
       "    <tr>\n",
       "      <th>3</th>\n",
       "      <td>Arts_Crafts_and_Sewing</td>\n",
       "      <td>801300</td>\n",
       "    </tr>\n",
       "    <tr>\n",
       "      <th>16</th>\n",
       "      <td>Health_and_Household</td>\n",
       "      <td>797400</td>\n",
       "    </tr>\n",
       "    <tr>\n",
       "      <th>22</th>\n",
       "      <td>Movies_and_TV</td>\n",
       "      <td>747800</td>\n",
       "    </tr>\n",
       "    <tr>\n",
       "      <th>24</th>\n",
       "      <td>Office_Products</td>\n",
       "      <td>710400</td>\n",
       "    </tr>\n",
       "  </tbody>\n",
       "</table>\n",
       "</div>"
      ],
      "text/plain": [
       "                       Category    Items\n",
       "30   Tools_and_Home_Improvement  1500000\n",
       "9   Cell_Phones_and_Accessories  1300000\n",
       "6      Beauty_and_Personal_Care  1000000\n",
       "31               Toys_and_Games   890700\n",
       "25        Patio_Lawn_and_Garden   851700\n",
       "1                Amazon_Fashion   825900\n",
       "3        Arts_Crafts_and_Sewing   801300\n",
       "16         Health_and_Household   797400\n",
       "22                Movies_and_TV   747800\n",
       "24              Office_Products   710400"
      ]
     },
     "metadata": {},
     "output_type": "display_data"
    }
   ],
   "source": [
    "# Some values may be too high, so we calculate the mean and standard deviation to identify outliers\n",
    "mean = df[\"Items\"].mean()\n",
    "std = df[\"Items\"].std()\n",
    "print(f\"Mean: {mean}, Standard Deviation: {std}\")\n",
    "print(f\"Outliers: {df[df['Items'] > 0.2*mean + 0.5*std]}\")\n",
    "\n",
    "# Remove outliers\n",
    "df = df[df[\"Items\"] <= 0.2*mean + 0.5*std] # Choosing this interval due to memory constraints\n",
    "\n",
    "# Display dataset information after removing outliers\n",
    "display(df.head(10))"
   ]
  },
  {
   "cell_type": "code",
   "execution_count": 3,
   "metadata": {},
   "outputs": [
    {
     "name": "stdout",
     "output_type": "stream",
     "text": [
      "8970878.7\n",
      "                       Category    Items\n",
      "30   Tools_and_Home_Improvement  1500000\n",
      "9   Cell_Phones_and_Accessories  1300000\n",
      "6      Beauty_and_Personal_Care  1000000\n",
      "31               Toys_and_Games   890700\n",
      "25        Patio_Lawn_and_Garden   851700\n",
      "1                Amazon_Fashion   825900\n",
      "3        Arts_Crafts_and_Sewing   801300\n",
      "16         Health_and_Household   797400\n",
      "22                Movies_and_TV   747800\n",
      "                      Category    Items\n",
      "0   Tools_and_Home_Improvement  1500000\n",
      "1  Cell_Phones_and_Accessories  1300000\n",
      "2     Beauty_and_Personal_Care  1000000\n",
      "3               Toys_and_Games   890700\n",
      "4        Patio_Lawn_and_Garden   851700\n",
      "5               Amazon_Fashion   825900\n",
      "6       Arts_Crafts_and_Sewing   801300\n",
      "7         Health_and_Household   797400\n",
      "8                Movies_and_TV   747800\n"
     ]
    }
   ],
   "source": [
    "# Calculating the cumulative sum of Items till the sum reaches 70% of the total Items\n",
    "cum_sum = df[\"Items\"].cumsum()\n",
    "total_items = df[\"Items\"].sum()  # Fixing here\n",
    "threshold = 0.7 * total_items\n",
    "print(threshold)\n",
    "\n",
    "# Finding the index where the cumulative sum reaches x% of the total Items\n",
    "index = cum_sum[cum_sum <= threshold].index\n",
    "\n",
    "if not index.empty:\n",
    "    index = index[-1]\n",
    "    df_th = df.loc[:index]  # Fixing slicing\n",
    "else:\n",
    "    print(\"Cumulative sum never reaches x% threshold.\")\n",
    "    df_th = df\n",
    "\n",
    "# Displaying the DataFrame till the index where the cumulative sum reaches 80% of the total Items\n",
    "print(df_th)\n",
    "\n",
    "# Resetting the index of the DataFrame\n",
    "df_th = df_th.reset_index(drop=True)\n",
    "\n",
    "# Displaying the DataFrame after resetting the index\n",
    "print(df_th)"
   ]
  },
  {
   "cell_type": "code",
   "execution_count": 4,
   "metadata": {},
   "outputs": [],
   "source": [
    "# Save the DataFrame to a CSV file\n",
    "df_th.to_csv(\"dataset_mapping.csv\", index=False)"
   ]
  },
  {
   "cell_type": "markdown",
   "metadata": {},
   "source": [
    "---"
   ]
  },
  {
   "cell_type": "markdown",
   "metadata": {},
   "source": [
    "# Selecting Relevant Fields for Category Classification\n",
    "\n",
    "#### Fields in the Item Metadata Dataset:\n",
    "1. `main_category` (Target Label) - The primary category of the product.\n",
    "2. `title` - Contains keywords that may help classification.\n",
    "3. `description` - Textual description of the product useful for NLP models.\n",
    "4. `images` - Image URLs can be used for image-based classification.\n",
    "5. `details` - Contains structured information about brand, material, etc.\n",
    "\n",
    "#### Dropping the following fields:\n",
    "- `average_rating`, `rating_number`: These relate to user preference, not category classification.\n",
    "- `price`: Not relevant for classification.\n",
    "- `videos`: Require complex preprocessing and aren't textual.\n",
    "- `store`, `parent_asin`, `bought_together`: Metadata useful for recommendation, not classification.\n",
    "- `categories`, `features`: Not helpful as some datasets have all values as null."
   ]
  },
  {
   "cell_type": "code",
   "execution_count": 2,
   "metadata": {},
   "outputs": [],
   "source": [
    "import json\n",
    "import pandas as pd"
   ]
  },
  {
   "cell_type": "code",
   "execution_count": 3,
   "metadata": {},
   "outputs": [],
   "source": [
    "def extract_jsonl(file_name):\n",
    "    with open(file_name, 'r') as f:\n",
    "        data = f.readlines()\n",
    "    return data"
   ]
  },
  {
   "cell_type": "code",
   "execution_count": 4,
   "metadata": {},
   "outputs": [],
   "source": [
    "def jsonl_to_csv(data, csv_file):\n",
    "    data = [json.loads(x) for x in data]\n",
    "    df = pd.DataFrame(data)\n",
    "    df.to_csv(csv_file, index=False)\n",
    "    return df"
   ]
  },
  {
   "cell_type": "code",
   "execution_count": 5,
   "metadata": {},
   "outputs": [],
   "source": [
    "def clean_csv(file):\n",
    "    df = pd.read_csv(file)\n",
    "    df = df[['main_category', 'title', 'description', 'images', 'details']]\n",
    "    df.to_csv(file, index=False)\n",
    "    return df"
   ]
  },
  {
   "cell_type": "markdown",
   "metadata": {},
   "source": [
    "### Now the files are named 'dataset0.jsonl.gz' to 'dataset11.jsonl.gz' and the csv files will be named 'dataset0.csv' to 'dataset11.csv' and then will be cleaned to 'dataset_clean.csv'"
   ]
  },
  {
   "cell_type": "code",
   "execution_count": null,
   "metadata": {},
   "outputs": [],
   "source": [
    "for i in range (0,9):\n",
    "    data = extract_jsonl(f'dataset{i}.jsonl.gz')\n",
    "    jsonl_to_csv(data, f'dataset{i}.csv')\n",
    "    print(f'dataset{i}.csv created')\n",
    "\n",
    "    df = clean_csv(f'dataset{i}.csv')\n",
    "    df.to_csv(f'dataset{i}_clean.csv', index=False)\n",
    "    print(f'dataset{i}_clean.csv created')"
   ]
  },
  {
   "cell_type": "markdown",
   "metadata": {},
   "source": [
    "### Now merge all the files into one csv file in a randomised order"
   ]
  },
  {
   "cell_type": "code",
   "execution_count": 16,
   "metadata": {},
   "outputs": [
    {
     "name": "stdout",
     "output_type": "stream",
     "text": [
      "dataset.csv created\n"
     ]
    }
   ],
   "source": [
    "df = pd.concat([pd.read_csv(f'dataset{i}.csv') for i in range(0, 9)])\n",
    "df = df.sample(frac=1).reset_index(drop=True)\n",
    "df.to_csv('dataset.csv', index=False)\n",
    "print('dataset.csv created')"
   ]
  },
  {
   "cell_type": "markdown",
   "metadata": {},
   "source": [
    "#### Data Visualization\n",
    "- Histograms (Items per category)\n",
    "- Missing Values (For each column)\n",
    "- EDAs possible around NLPs (Documentations)\n",
    "- Hypothesis (Correlation Assumptions)\n",
    "\n",
    "#### Model Planning\n",
    "- Classification + NLPs (1st Part)\n",
    "- Gen AI (2nd Part)"
   ]
  },
  {
   "cell_type": "code",
   "execution_count": 5,
   "metadata": {},
   "outputs": [
    {
     "data": {
      "text/html": [
       "<div>\n",
       "<style scoped>\n",
       "    .dataframe tbody tr th:only-of-type {\n",
       "        vertical-align: middle;\n",
       "    }\n",
       "\n",
       "    .dataframe tbody tr th {\n",
       "        vertical-align: top;\n",
       "    }\n",
       "\n",
       "    .dataframe thead th {\n",
       "        text-align: right;\n",
       "    }\n",
       "</style>\n",
       "<table border=\"1\" class=\"dataframe\">\n",
       "  <thead>\n",
       "    <tr style=\"text-align: right;\">\n",
       "      <th></th>\n",
       "      <th>main_category</th>\n",
       "      <th>title</th>\n",
       "      <th>description</th>\n",
       "      <th>images</th>\n",
       "      <th>details</th>\n",
       "    </tr>\n",
       "  </thead>\n",
       "  <tbody>\n",
       "    <tr>\n",
       "      <th>0</th>\n",
       "      <td>Tools &amp; Home Improvement</td>\n",
       "      <td>WorkShop 87602RP Telescoping Magnetic Pick-Up ...</td>\n",
       "      <td>['- Retrieves ferrous metal objects up to 1/4 ...</td>\n",
       "      <td>[{'thumb': 'https://m.media-amazon.com/images/...</td>\n",
       "      <td>{'Manufacturer': 'WorkShop', 'Part Number': '8...</td>\n",
       "    </tr>\n",
       "    <tr>\n",
       "      <th>1</th>\n",
       "      <td>Movies &amp; TV</td>\n",
       "      <td>Inspector Morse Set Nine: The Day of The Devil</td>\n",
       "      <td>['Award winning actor', 'John Thaw', '(', 'Kav...</td>\n",
       "      <td>[{'thumb': 'https://m.media-amazon.com/images/...</td>\n",
       "      <td>{'Genre': 'Music Videos &amp; Concerts', 'Format':...</td>\n",
       "    </tr>\n",
       "    <tr>\n",
       "      <th>2</th>\n",
       "      <td>Tools &amp; Home Improvement</td>\n",
       "      <td>Cable Clamps 1-1/2 Inch Rubber Cushioned 304 S...</td>\n",
       "      <td>['1-1/2 Inch Cable Clamp 20 Pcs Stainless Stee...</td>\n",
       "      <td>[{'thumb': 'https://m.media-amazon.com/images/...</td>\n",
       "      <td>{'Manufacturer': 'Zovfam', 'Part Number': '1-1...</td>\n",
       "    </tr>\n",
       "    <tr>\n",
       "      <th>3</th>\n",
       "      <td>Toys &amp; Games</td>\n",
       "      <td>Traxxas 3281 Split Bevel Cone, Nitro Vee</td>\n",
       "      <td>['Product Description', \"Cone, split beveled U...</td>\n",
       "      <td>[{'thumb': 'https://m.media-amazon.com/images/...</td>\n",
       "      <td>{'Product Dimensions': '3.13 x 0.25 x 4.38 inc...</td>\n",
       "    </tr>\n",
       "    <tr>\n",
       "      <th>4</th>\n",
       "      <td>All Beauty</td>\n",
       "      <td>aSulis Natural Long Wavy Curly Wig Dark Roots ...</td>\n",
       "      <td>[]</td>\n",
       "      <td>[{'thumb': 'https://m.media-amazon.com/images/...</td>\n",
       "      <td>{'Color': 'Dark brown trend to Black', 'Materi...</td>\n",
       "    </tr>\n",
       "  </tbody>\n",
       "</table>\n",
       "</div>"
      ],
      "text/plain": [
       "              main_category  \\\n",
       "0  Tools & Home Improvement   \n",
       "1               Movies & TV   \n",
       "2  Tools & Home Improvement   \n",
       "3              Toys & Games   \n",
       "4                All Beauty   \n",
       "\n",
       "                                               title  \\\n",
       "0  WorkShop 87602RP Telescoping Magnetic Pick-Up ...   \n",
       "1     Inspector Morse Set Nine: The Day of The Devil   \n",
       "2  Cable Clamps 1-1/2 Inch Rubber Cushioned 304 S...   \n",
       "3           Traxxas 3281 Split Bevel Cone, Nitro Vee   \n",
       "4  aSulis Natural Long Wavy Curly Wig Dark Roots ...   \n",
       "\n",
       "                                         description  \\\n",
       "0  ['- Retrieves ferrous metal objects up to 1/4 ...   \n",
       "1  ['Award winning actor', 'John Thaw', '(', 'Kav...   \n",
       "2  ['1-1/2 Inch Cable Clamp 20 Pcs Stainless Stee...   \n",
       "3  ['Product Description', \"Cone, split beveled U...   \n",
       "4                                                 []   \n",
       "\n",
       "                                              images  \\\n",
       "0  [{'thumb': 'https://m.media-amazon.com/images/...   \n",
       "1  [{'thumb': 'https://m.media-amazon.com/images/...   \n",
       "2  [{'thumb': 'https://m.media-amazon.com/images/...   \n",
       "3  [{'thumb': 'https://m.media-amazon.com/images/...   \n",
       "4  [{'thumb': 'https://m.media-amazon.com/images/...   \n",
       "\n",
       "                                             details  \n",
       "0  {'Manufacturer': 'WorkShop', 'Part Number': '8...  \n",
       "1  {'Genre': 'Music Videos & Concerts', 'Format':...  \n",
       "2  {'Manufacturer': 'Zovfam', 'Part Number': '1-1...  \n",
       "3  {'Product Dimensions': '3.13 x 0.25 x 4.38 inc...  \n",
       "4  {'Color': 'Dark brown trend to Black', 'Materi...  "
      ]
     },
     "metadata": {},
     "output_type": "display_data"
    },
    {
     "name": "stdout",
     "output_type": "stream",
     "text": [
      "Shape of the dataset: (6193740, 5)\n",
      "<class 'pandas.core.frame.DataFrame'>\n",
      "RangeIndex: 6193740 entries, 0 to 6193739\n",
      "Data columns (total 5 columns):\n",
      " #   Column         Dtype \n",
      "---  ------         ----- \n",
      " 0   main_category  object\n",
      " 1   title          object\n",
      " 2   description    object\n",
      " 3   images         object\n",
      " 4   details        object\n",
      "dtypes: object(5)\n",
      "memory usage: 236.3+ MB\n",
      "None\n",
      "main_category      0\n",
      "title            355\n",
      "description        0\n",
      "images             0\n",
      "details            0\n",
      "dtype: int64\n"
     ]
    }
   ],
   "source": [
    "# Load the dataset\n",
    "df = pd.read_csv(\"dataset.csv\")\n",
    "\n",
    "# Display the first few rows of the dataset\n",
    "display(df.head())\n",
    "\n",
    "# Display the shape of the dataset\n",
    "print(f\"Shape of the dataset: {df.shape}\")\n",
    "\n",
    "# Display the information of the dataset\n",
    "print(df.info())\n",
    "\n",
    "# Display the number of missing values in each column\n",
    "print(df.isnull().sum())"
   ]
  },
  {
   "cell_type": "code",
   "execution_count": 7,
   "metadata": {},
   "outputs": [
    {
     "data": {
      "image/png": "[encoded data removed]",
      "text/plain": [
       "<Figure size 1200x600 with 1 Axes>"
      ]
     },
     "metadata": {},
     "output_type": "display_data"
    }
   ],
   "source": [
    "# Displaying histograms for the 'main_category' column\n",
    "plt.figure(figsize=(12, 6))\n",
    "sns.countplot(data=df, x=\"main_category\")\n",
    "plt.xticks(rotation=90)\n",
    "plt.title(\"Distribution of Items in each Main Category\")\n",
    "plt.show()"
   ]
  },
  {
   "cell_type": "code",
   "execution_count": 12,
   "metadata": {},
   "outputs": [
    {
     "name": "stdout",
     "output_type": "stream",
     "text": [
      "Number of null values in 'title': 355\n",
      "Number of empty string ([]) in 'description': 2945529\n"
     ]
    }
   ],
   "source": [
    "# Number of null values in 'title' and empty string ([]) in 'description' column\n",
    "null_title = df[\"title\"].isnull().sum()\n",
    "empty_description = df[df[\"description\"] == \"[]\"].shape[0]\n",
    "\n",
    "# Display the number of null values in 'title' and empty string ([]) in 'description' column\n",
    "print(f\"Number of null values in 'title': {null_title}\")\n",
    "print(f\"Number of empty string ([]) in 'description': {empty_description}\")\n"
   ]
  },
  {
   "cell_type": "code",
   "execution_count": 1,
   "metadata": {},
   "outputs": [],
   "source": [
    "import pandas as pd\n",
    "df = pd.read_csv(\"dataset.csv\")\n",
    "\n",
    "# Finding correlation between rows that have null values in titles and empty strings in descriptions\n",
    "correlation = df[df[\"title\"].isnull()][\"description\"].apply(lambda x: x == \"[]\").sum()"
   ]
  },
  {
   "cell_type": "code",
   "execution_count": null,
   "metadata": {},
   "outputs": [
    {
     "name": "stdout",
     "output_type": "stream",
     "text": [
      "Correlation between rows that have null values in titles and empty strings in descriptions: 190\n"
     ]
    }
   ],
   "source": [
    "print(f\"Correlation between rows that have null values in titles and empty strings in descriptions: {correlation}\")"
   ]
  },
  {
   "cell_type": "code",
   "execution_count": 7,
   "metadata": {},
   "outputs": [
    {
     "data": {
      "image/png": "[encoded data removed]",
      "text/plain": [
       "<Figure size 800x600 with 2 Axes>"
      ]
     },
     "metadata": {},
     "output_type": "display_data"
    }
   ],
   "source": [
    "import matplotlib.pyplot as plt\n",
    "import seaborn as sns\n",
    "\n",
    "# Seeing how many rows that have null values in titles have empty strings in descriptions and vice versa via a heatmap\n",
    "plt.figure(figsize=(8, 6))\n",
    "sns.heatmap(pd.crosstab(df[\"title\"].isnull(), df[\"description\"] == \"[]\"), annot=True, fmt=\"d\", cmap=\"Blues\")\n",
    "plt.title(\"Correlation between Null Values in Titles and Empty Strings in Descriptions\")\n",
    "plt.show()\n"
   ]
  },
  {
   "cell_type": "code",
   "execution_count": 8,
   "metadata": {},
   "outputs": [
    {
     "name": "stdout",
     "output_type": "stream",
     "text": [
      "Percentage of rows having null values in titles, that have empty strings in descriptions, out of total rows having null values in titles: 53.52%\n",
      "Percentage of rows having empty strings in descriptions, that have null values in titles, out of total rows having empty strings in descriptions: 0.01%\n"
     ]
    }
   ],
   "source": [
    "# Statistical Analysis\n",
    "# Number of rows having null values in titles, that have empty strings in descriptions, out of total rows having null values in titles\n",
    "null_title = df[\"title\"].isnull().sum()\n",
    "empty_description = df[df[\"description\"] == \"[]\"].shape[0]\n",
    "correlation = df[df[\"title\"].isnull()][\"description\"].apply(lambda x: x == \"[]\").sum()\n",
    "percentage = (correlation / null_title) * 100\n",
    "print(f\"Percentage of rows having null values in titles, that have empty strings in descriptions, out of total rows having null values in titles: {percentage:.2f}%\")\n",
    "\n",
    "# Number of rows having empty strings in descriptions, that have null values in titles, out of total rows having empty strings in descriptions\n",
    "percentage = (correlation / empty_description) * 100\n",
    "print(f\"Percentage of rows having empty strings in descriptions, that have null values in titles, out of total rows having empty strings in descriptions: {percentage:.2f}%\")"
   ]
  },
  {
   "cell_type": "code",
   "execution_count": 13,
   "metadata": {},
   "outputs": [],
   "source": [
    "# Now we'll remove all the null values from the title and empty strings ([]) from the description column\n",
    "\n",
    "# Removing null values from 'title' column\n",
    "df = df.dropna(subset=[\"title\"])\n",
    "\n",
    "# Removing empty strings ([]) from 'description' column\n",
    "df = df[df[\"description\"] != \"[]\"]\n",
    "\n",
    "# Resetting the index of the DataFrame\n",
    "df = df.reset_index(drop=True)\n",
    "\n",
    "# Saving this cleaned dataset to a new CSV file\n",
    "df.to_csv(\"cleaned_dataset.csv\", index=False)"
   ]
  },
  {
   "cell_type": "code",
   "execution_count": null,
   "metadata": {},
   "outputs": [
    {
     "data": {
      "text/html": [
       "<div>\n",
       "<style scoped>\n",
       "    .dataframe tbody tr th:only-of-type {\n",
       "        vertical-align: middle;\n",
       "    }\n",
       "\n",
       "    .dataframe tbody tr th {\n",
       "        vertical-align: top;\n",
       "    }\n",
       "\n",
       "    .dataframe thead th {\n",
       "        text-align: right;\n",
       "    }\n",
       "</style>\n",
       "<table border=\"1\" class=\"dataframe\">\n",
       "  <thead>\n",
       "    <tr style=\"text-align: right;\">\n",
       "      <th></th>\n",
       "      <th>main_category</th>\n",
       "      <th>title</th>\n",
       "      <th>description</th>\n",
       "      <th>images</th>\n",
       "      <th>details</th>\n",
       "    </tr>\n",
       "  </thead>\n",
       "  <tbody>\n",
       "    <tr>\n",
       "      <th>0</th>\n",
       "      <td>Tools &amp; Home Improvement</td>\n",
       "      <td>WorkShop 87602RP Telescoping Magnetic Pick-Up ...</td>\n",
       "      <td>['- Retrieves ferrous metal objects up to 1/4 ...</td>\n",
       "      <td>[{'thumb': 'https://m.media-amazon.com/images/...</td>\n",
       "      <td>{'Manufacturer': 'WorkShop', 'Part Number': '8...</td>\n",
       "    </tr>\n",
       "    <tr>\n",
       "      <th>1</th>\n",
       "      <td>Movies &amp; TV</td>\n",
       "      <td>Inspector Morse Set Nine: The Day of The Devil</td>\n",
       "      <td>['Award winning actor', 'John Thaw', '(', 'Kav...</td>\n",
       "      <td>[{'thumb': 'https://m.media-amazon.com/images/...</td>\n",
       "      <td>{'Genre': 'Music Videos &amp; Concerts', 'Format':...</td>\n",
       "    </tr>\n",
       "    <tr>\n",
       "      <th>2</th>\n",
       "      <td>Tools &amp; Home Improvement</td>\n",
       "      <td>Cable Clamps 1-1/2 Inch Rubber Cushioned 304 S...</td>\n",
       "      <td>['1-1/2 Inch Cable Clamp 20 Pcs Stainless Stee...</td>\n",
       "      <td>[{'thumb': 'https://m.media-amazon.com/images/...</td>\n",
       "      <td>{'Manufacturer': 'Zovfam', 'Part Number': '1-1...</td>\n",
       "    </tr>\n",
       "    <tr>\n",
       "      <th>3</th>\n",
       "      <td>Toys &amp; Games</td>\n",
       "      <td>Traxxas 3281 Split Bevel Cone, Nitro Vee</td>\n",
       "      <td>['Product Description', \"Cone, split beveled U...</td>\n",
       "      <td>[{'thumb': 'https://m.media-amazon.com/images/...</td>\n",
       "      <td>{'Product Dimensions': '3.13 x 0.25 x 4.38 inc...</td>\n",
       "    </tr>\n",
       "    <tr>\n",
       "      <th>4</th>\n",
       "      <td>Toys &amp; Games</td>\n",
       "      <td>Mosailles Born to Rock Glitter Banner with Mus...</td>\n",
       "      <td>[\"It is perfect for any parties like baby's 1s...</td>\n",
       "      <td>[{'thumb': 'https://m.media-amazon.com/images/...</td>\n",
       "      <td>{'Product Dimensions': '56\"L x 56\"W', 'Item We...</td>\n",
       "    </tr>\n",
       "  </tbody>\n",
       "</table>\n",
       "</div>"
      ],
      "text/plain": [
       "              main_category  \\\n",
       "0  Tools & Home Improvement   \n",
       "1               Movies & TV   \n",
       "2  Tools & Home Improvement   \n",
       "3              Toys & Games   \n",
       "4              Toys & Games   \n",
       "\n",
       "                                               title  \\\n",
       "0  WorkShop 87602RP Telescoping Magnetic Pick-Up ...   \n",
       "1     Inspector Morse Set Nine: The Day of The Devil   \n",
       "2  Cable Clamps 1-1/2 Inch Rubber Cushioned 304 S...   \n",
       "3           Traxxas 3281 Split Bevel Cone, Nitro Vee   \n",
       "4  Mosailles Born to Rock Glitter Banner with Mus...   \n",
       "\n",
       "                                         description  \\\n",
       "0  ['- Retrieves ferrous metal objects up to 1/4 ...   \n",
       "1  ['Award winning actor', 'John Thaw', '(', 'Kav...   \n",
       "2  ['1-1/2 Inch Cable Clamp 20 Pcs Stainless Stee...   \n",
       "3  ['Product Description', \"Cone, split beveled U...   \n",
       "4  [\"It is perfect for any parties like baby's 1s...   \n",
       "\n",
       "                                              images  \\\n",
       "0  [{'thumb': 'https://m.media-amazon.com/images/...   \n",
       "1  [{'thumb': 'https://m.media-amazon.com/images/...   \n",
       "2  [{'thumb': 'https://m.media-amazon.com/images/...   \n",
       "3  [{'thumb': 'https://m.media-amazon.com/images/...   \n",
       "4  [{'thumb': 'https://m.media-amazon.com/images/...   \n",
       "\n",
       "                                             details  \n",
       "0  {'Manufacturer': 'WorkShop', 'Part Number': '8...  \n",
       "1  {'Genre': 'Music Videos & Concerts', 'Format':...  \n",
       "2  {'Manufacturer': 'Zovfam', 'Part Number': '1-1...  \n",
       "3  {'Product Dimensions': '3.13 x 0.25 x 4.38 inc...  \n",
       "4  {'Product Dimensions': '56\"L x 56\"W', 'Item We...  "
      ]
     },
     "metadata": {},
     "output_type": "display_data"
    },
    {
     "ename": "ModuleNotFoundError",
     "evalue": "No module named 'wordcloud'",
     "output_type": "error",
     "traceback": [
      "\u001b[1;31m---------------------------------------------------------------------------\u001b[0m",
      "\u001b[1;31mModuleNotFoundError\u001b[0m                       Traceback (most recent call last)",
      "Cell \u001b[1;32mIn[12], line 13\u001b[0m\n\u001b[0;32m     11\u001b[0m \u001b[38;5;28;01mimport\u001b[39;00m \u001b[38;5;21;01mmatplotlib\u001b[39;00m\u001b[38;5;21;01m.\u001b[39;00m\u001b[38;5;21;01mpyplot\u001b[39;00m \u001b[38;5;28;01mas\u001b[39;00m \u001b[38;5;21;01mplt\u001b[39;00m\n\u001b[0;32m     12\u001b[0m \u001b[38;5;28;01mimport\u001b[39;00m \u001b[38;5;21;01mseaborn\u001b[39;00m \u001b[38;5;28;01mas\u001b[39;00m \u001b[38;5;21;01msns\u001b[39;00m\n\u001b[1;32m---> 13\u001b[0m \u001b[38;5;28;01mfrom\u001b[39;00m \u001b[38;5;21;01mwordcloud\u001b[39;00m \u001b[38;5;28;01mimport\u001b[39;00m WordCloud\n\u001b[0;32m     15\u001b[0m \u001b[38;5;66;03m# WordCloud for 'title' column\u001b[39;00m\n\u001b[0;32m     16\u001b[0m plt\u001b[38;5;241m.\u001b[39mfigure(figsize\u001b[38;5;241m=\u001b[39m(\u001b[38;5;241m12\u001b[39m, \u001b[38;5;241m6\u001b[39m))\n",
      "\u001b[1;31mModuleNotFoundError\u001b[0m: No module named 'wordcloud'"
     ]
    }
   ],
   "source": [
    "# Let's plan on doing some EDAs regarding NLPs\n",
    "# Basically the columns 'title' and 'description' are the ones we are interested in.\n",
    "\n",
    "# Load the cleaned dataset\n",
    "df = pd.read_csv(\"cleaned_dataset.csv\")\n",
    "\n",
    "# Display the first few rows of the dataset\n",
    "display(df.head())"
   ]
  },
  {
   "cell_type": "code",
   "execution_count": 13,
   "metadata": {},
   "outputs": [
    {
     "name": "stdout",
     "output_type": "stream",
     "text": [
      "Defaulting to user installation because normal site-packages is not writeable\n",
      "Requirement already satisfied: wordcloud in c:\\users\\rujul.dwivedi.lv\\appdata\\roaming\\python\\python312\\site-packages (1.9.4)\n",
      "Requirement already satisfied: numpy>=1.6.1 in c:\\programdata\\anaconda3\\lib\\site-packages (from wordcloud) (1.26.4)\n",
      "Requirement already satisfied: pillow in c:\\programdata\\anaconda3\\lib\\site-packages (from wordcloud) (10.4.0)\n",
      "Requirement already satisfied: matplotlib in c:\\programdata\\anaconda3\\lib\\site-packages (from wordcloud) (3.9.2)\n",
      "Requirement already satisfied: contourpy>=1.0.1 in c:\\programdata\\anaconda3\\lib\\site-packages (from matplotlib->wordcloud) (1.2.0)\n",
      "Requirement already satisfied: cycler>=0.10 in c:\\programdata\\anaconda3\\lib\\site-packages (from matplotlib->wordcloud) (0.11.0)\n",
      "Requirement already satisfied: fonttools>=4.22.0 in c:\\programdata\\anaconda3\\lib\\site-packages (from matplotlib->wordcloud) (4.51.0)\n",
      "Requirement already satisfied: kiwisolver>=1.3.1 in c:\\programdata\\anaconda3\\lib\\site-packages (from matplotlib->wordcloud) (1.4.4)\n",
      "Requirement already satisfied: packaging>=20.0 in c:\\programdata\\anaconda3\\lib\\site-packages (from matplotlib->wordcloud) (24.1)\n",
      "Requirement already satisfied: pyparsing>=2.3.1 in c:\\programdata\\anaconda3\\lib\\site-packages (from matplotlib->wordcloud) (3.1.2)\n",
      "Requirement already satisfied: python-dateutil>=2.7 in c:\\programdata\\anaconda3\\lib\\site-packages (from matplotlib->wordcloud) (2.9.0.post0)\n",
      "Requirement already satisfied: six>=1.5 in c:\\programdata\\anaconda3\\lib\\site-packages (from python-dateutil>=2.7->matplotlib->wordcloud) (1.16.0)\n"
     ]
    }
   ],
   "source": [
    "!pip install wordcloud"
   ]
  },
  {
   "cell_type": "code",
   "execution_count": 15,
   "metadata": {},
   "outputs": [
    {
     "name": "stdout",
     "output_type": "stream",
     "text": [
      "Defaulting to user installation because normal site-packages is not writeable\n",
      "Requirement already satisfied: wordcloud in c:\\users\\rujul.dwivedi.lv\\appdata\\roaming\\python\\python312\\site-packages (1.9.4)\n",
      "Requirement already satisfied: numpy>=1.6.1 in c:\\programdata\\anaconda3\\lib\\site-packages (from wordcloud) (1.26.4)\n",
      "Requirement already satisfied: pillow in c:\\programdata\\anaconda3\\lib\\site-packages (from wordcloud) (10.4.0)\n",
      "Requirement already satisfied: matplotlib in c:\\programdata\\anaconda3\\lib\\site-packages (from wordcloud) (3.9.2)\n",
      "Requirement already satisfied: contourpy>=1.0.1 in c:\\programdata\\anaconda3\\lib\\site-packages (from matplotlib->wordcloud) (1.2.0)\n",
      "Requirement already satisfied: cycler>=0.10 in c:\\programdata\\anaconda3\\lib\\site-packages (from matplotlib->wordcloud) (0.11.0)\n",
      "Requirement already satisfied: fonttools>=4.22.0 in c:\\programdata\\anaconda3\\lib\\site-packages (from matplotlib->wordcloud) (4.51.0)\n",
      "Requirement already satisfied: kiwisolver>=1.3.1 in c:\\programdata\\anaconda3\\lib\\site-packages (from matplotlib->wordcloud) (1.4.4)\n",
      "Requirement already satisfied: packaging>=20.0 in c:\\programdata\\anaconda3\\lib\\site-packages (from matplotlib->wordcloud) (24.1)\n",
      "Requirement already satisfied: pyparsing>=2.3.1 in c:\\programdata\\anaconda3\\lib\\site-packages (from matplotlib->wordcloud) (3.1.2)\n",
      "Requirement already satisfied: python-dateutil>=2.7 in c:\\programdata\\anaconda3\\lib\\site-packages (from matplotlib->wordcloud) (2.9.0.post0)\n",
      "Requirement already satisfied: six>=1.5 in c:\\programdata\\anaconda3\\lib\\site-packages (from python-dateutil>=2.7->matplotlib->wordcloud) (1.16.0)\n",
      "Note: you may need to restart the kernel to use updated packages.\n"
     ]
    },
    {
     "ename": "ModuleNotFoundError",
     "evalue": "No module named 'wordcloud'",
     "output_type": "error",
     "traceback": [
      "\u001b[1;31m---------------------------------------------------------------------------\u001b[0m",
      "\u001b[1;31mModuleNotFoundError\u001b[0m                       Traceback (most recent call last)",
      "Cell \u001b[1;32mIn[15], line 5\u001b[0m\n\u001b[0;32m      3\u001b[0m \u001b[38;5;28;01mimport\u001b[39;00m \u001b[38;5;21;01mmatplotlib\u001b[39;00m\u001b[38;5;21;01m.\u001b[39;00m\u001b[38;5;21;01mpyplot\u001b[39;00m \u001b[38;5;28;01mas\u001b[39;00m \u001b[38;5;21;01mplt\u001b[39;00m\n\u001b[0;32m      4\u001b[0m \u001b[38;5;28;01mimport\u001b[39;00m \u001b[38;5;21;01mseaborn\u001b[39;00m \u001b[38;5;28;01mas\u001b[39;00m \u001b[38;5;21;01msns\u001b[39;00m\n\u001b[1;32m----> 5\u001b[0m \u001b[38;5;28;01mfrom\u001b[39;00m \u001b[38;5;21;01mwordcloud\u001b[39;00m \u001b[38;5;28;01mimport\u001b[39;00m WordCloud\n\u001b[0;32m      7\u001b[0m \u001b[38;5;66;03m# WordCloud for 'title' column\u001b[39;00m\n\u001b[0;32m      8\u001b[0m plt\u001b[38;5;241m.\u001b[39mfigure(figsize\u001b[38;5;241m=\u001b[39m(\u001b[38;5;241m12\u001b[39m, \u001b[38;5;241m6\u001b[39m))\n",
      "\u001b[1;31mModuleNotFoundError\u001b[0m: No module named 'wordcloud'"
     ]
    }
   ],
   "source": [
    "# EDAs on NLPs\n",
    "%pip install wordcloud\n",
    "import matplotlib.pyplot as plt\n",
    "import seaborn as sns\n",
    "from wordcloud import WordCloud\n",
    "\n",
    "# WordCloud for 'title' column\n",
    "plt.figure(figsize=(12, 6))\n",
    "wordcloud = WordCloud(width=800, height=400, background_color=\"white\").generate(\" \".join(df[\"title\"]))\n",
    "plt.imshow(wordcloud, interpolation=\"bilinear\")\n",
    "plt.axis(\"off\")\n",
    "plt.title(\"WordCloud for 'title' column\")\n",
    "plt.show()\n",
    "\n",
    "# WordCloud for 'description' column\n",
    "plt.figure(figsize=(12, 6))\n",
    "wordcloud = WordCloud(width=800, height=400, background_color=\"white\").generate(\" \".join(df[\"description\"]))\n",
    "plt.imshow(wordcloud, interpolation=\"bilinear\")\n",
    "plt.axis(\"off\")\n",
    "plt.title(\"WordCloud for 'description' column\")\n",
    "plt.show()"
   ]
  }
 ],
 "metadata": {
  "kernelspec": {
   "display_name": "base",
   "language": "python",
   "name": "python3"
  },
  "language_info": {
   "codemirror_mode": {
    "name": "ipython",
    "version": 3
   },
   "file_extension": ".py",
   "mimetype": "text/x-python",
   "name": "python",
   "nbconvert_exporter": "python",
   "pygments_lexer": "ipython3",
   "version": "3.12.7"
  }
 },
 "nbformat": 4,
 "nbformat_minor": 2
}
